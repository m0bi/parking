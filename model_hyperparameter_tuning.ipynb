{
 "cells": [
  {
   "cell_type": "code",
   "execution_count": 1,
   "metadata": {},
   "outputs": [],
   "source": [
    "import lightgbm as lgb\n",
    "import pickle\n",
    "import pandas as pd\n",
    "from sklearn.model_selection import train_test_split\n",
    "from sklearn.metrics import accuracy_score, confusion_matrix, classification_report, roc_auc_score\n",
    "import numpy as np"
   ]
  },
  {
   "cell_type": "code",
   "execution_count": 3,
   "metadata": {},
   "outputs": [],
   "source": [
    "train = pd.read_pickle('./data/mean_train.pkl')\n",
    "test = pd.read_pickle('./data/mean_test.pkl')"
   ]
  },
  {
   "cell_type": "code",
   "execution_count": 4,
   "metadata": {},
   "outputs": [],
   "source": [
    "with open('./data/' \"y.pkl\", 'rb') as pickle_file:\n",
    "    y = pickle.load(pickle_file)"
   ]
  },
  {
   "cell_type": "code",
   "execution_count": 5,
   "metadata": {},
   "outputs": [
    {
     "name": "stdout",
     "output_type": "stream",
     "text": [
      "4357544 4357544\n"
     ]
    }
   ],
   "source": [
    "print(len(train), len(y))final_data = lgb.Dataset(data=train, label=y, categorical_feature=categorical_features, free_raw_data=False)"
   ]
  },
  {
   "cell_type": "code",
   "execution_count": 6,
   "metadata": {},
   "outputs": [
    {
     "name": "stdout",
     "output_type": "stream",
     "text": [
      "0.0852154332807655\n"
     ]
    }
   ],
   "source": [
    "zeros = 0\n",
    "for x in y:\n",
    "    if x == 0:\n",
    "        zeros += 1\n",
    "print(zeros/len(y))"
   ]
  },
  {
   "cell_type": "code",
   "execution_count": 7,
   "metadata": {},
   "outputs": [],
   "source": [
    "X_train, X_test, y_train, y_test = train_test_split(train,y,test_size=0.2)"
   ]
  },
  {
   "cell_type": "code",
   "execution_count": 8,
   "metadata": {},
   "outputs": [
    {
     "data": {
      "text/plain": [
       "Ticket number            float64\n",
       "Issue Date                 int64\n",
       "Issue time               float64\n",
       "Meter Id                 float64\n",
       "Marked Time              float64\n",
       "RP State Plate           float64\n",
       "Plate Expiry Date        float64\n",
       "VIN                      float64\n",
       "Body Style               float64\n",
       "Color                    float64\n",
       "Location                 float64\n",
       "Route                    float64\n",
       "Agency                   float64\n",
       "Violation code           float64\n",
       "Violation Description    float64\n",
       "Fine amount              float64\n",
       "Latitude                 float64\n",
       "Longitude                float64\n",
       "crime_clusters             int32\n",
       "total_clusters             int32\n",
       "Issue_time               float64\n",
       "dtype: object"
      ]
     },
     "execution_count": 8,
     "metadata": {},
     "output_type": "execute_result"
    }
   ],
   "source": [
    "X_train.dtypes"
   ]
  },
  {
   "cell_type": "code",
   "execution_count": 9,
   "metadata": {},
   "outputs": [],
   "source": [
    "categorical_features = ['Issue Date', 'crime_clusters', 'total_clusters']\n",
    "train_data = lgb.Dataset(data=X_train, label=y_train, categorical_feature=categorical_features, free_raw_data=False)\n",
    "test_data = lgb.Dataset(data=X_test, label=y_test, categorical_feature=categorical_features, free_raw_data=False)"
   ]
  },
  {
   "cell_type": "code",
   "execution_count": 20,
   "metadata": {},
   "outputs": [],
   "source": [
    "#best parameters so far\n",
    "params = {\n",
    "    'is_unbalance': True,\n",
    "    'objective': 'binary',\n",
    "    'boosting': 'DART',\n",
    "    'learning_rate': 0.55,\n",
    "    'min_data_in_leaf': 100,\n",
    "    'min_sum_hessian_in_leaf': 1e-4,\n",
    "    'num_iterations': 5000,\n",
    "    'num_leaves': 24,\n",
    "    'max_depth': 60,\n",
    "    'num_threads': -1,\n",
    "    'reg_alpha': 100, # L1 regularization\n",
    "    'reg_lambda': 50, # L2 regularization\n",
    "    'bagging_fraction': 0.8,\n",
    "    'bagging_frequency': 0.7,\n",
    "    'subsample': 0.8, # subsample ratio of the training instance\n",
    "    'feature_fraction_bynode': 0.8,\n",
    "    'colsample_bytree': 0.8, # subsample ratio of columns when constructing the tree\n",
    "    'min_split_gain': 0.8, # minimum loss reduction required to make further partition on a leaf node of the tree\n",
    "    'min_child_weight': 1e-3, # minimum sum of instance weight (hessian) needed in a leaf\n",
    "    'min_child_samples': 50,# minimum number of data needed in a leaf\n",
    "    'metrics': ['auc', 'binary_logloss'],\n",
    "    'pred_contrib': False\n",
    "}"
   ]
  },
  {
   "cell_type": "code",
   "execution_count": 15,
   "metadata": {},
   "outputs": [],
   "source": [
    "#trial run\n",
    "params = {\n",
    "    'is_unbalance': True,\n",
    "    'objective': 'binary',\n",
    "    'boosting': 'DART',\n",
    "    'learning_rate': 0.01,\n",
    "    'min_data_in_leaf': 50,\n",
    "    'min_sum_hessian_in_leaf': 1e-4,\n",
    "    'num_iterations': 5000,\n",
    "    'num_leaves': 24,\n",
    "    'max_depth': -1,\n",
    "    'num_threads': -1,\n",
    "    'reg_alpha': 100, # L1 regularization\n",
    "    'reg_lambda': 50, # L2 regularization\n",
    "    'bagging_fraction': 0.8,\n",
    "    'bagging_frequency': 0.7,\n",
    "    'subsample': 0.8, # subsample ratio of the training instance\n",
    "    'feature_fraction_bynode': 0.8,\n",
    "    'colsample_bytree': 0.8, # subsample ratio of columns when constructing the tree\n",
    "    'min_split_gain': 0.6, # minimum loss reduction required to make further partition on a leaf node of the tree\n",
    "    'min_child_weight': 1e-3, # minimum sum of instance weight (hessian) needed in a leaf\n",
    "    'min_child_samples': 50,# minimum number of data needed in a leaf\n",
    "    'metrics': ['auc', 'binary_logloss'],\n",
    "    'pred_contrib': False\n",
    "}"
   ]
  },
  {
   "cell_type": "code",
   "execution_count": 21,
   "metadata": {},
   "outputs": [],
   "source": [
    "class ModelExtractionCallback(object):\n",
    "    \"\"\"Callback class for retrieving trained model from lightgbm.cv()\n",
    "    NOTE: This class depends on '_CVBooster' which is hidden class, so it might doesn't work if the specification is changed.\n",
    "    \"\"\"\n",
    "\n",
    "    def __init__(self):\n",
    "        self._model = None\n",
    "\n",
    "    def __call__(self, env):\n",
    "        # Saving _CVBooster object.\n",
    "        self._model = env.model\n",
    "\n",
    "    def _assert_called_cb(self):\n",
    "        if self._model is None:\n",
    "            # Throw exception if the callback class is not called.\n",
    "            raise RuntimeError('callback has not called yet')\n",
    "\n",
    "    @property\n",
    "    def boosters_proxy(self):\n",
    "        self._assert_called_cb()\n",
    "        # return Booster object\n",
    "        return self._model\n",
    "\n",
    "    @property\n",
    "    def raw_boosters(self):\n",
    "        self._assert_called_cb()\n",
    "        # return list of Booster\n",
    "        return self._model.boosters\n",
    "  \n",
    "    @property\n",
    "    def best_iteration(self):\n",
    "        self._assert_called_cb()\n",
    "        # return boosting round when early stopping.\n",
    "        return self._model.best_iteration"
   ]
  },
  {
   "cell_type": "code",
   "execution_count": 22,
   "metadata": {},
   "outputs": [
    {
     "name": "stderr",
     "output_type": "stream",
     "text": [
      "/usr/local/lib/python3.5/dist-packages/lightgbm/engine.py:430: UserWarning: Found `num_iterations` in params. Will use it instead of argument\n",
      "  warnings.warn(\"Found `{}` in params. Will use it instead of argument\".format(alias))\n",
      "/usr/local/lib/python3.5/dist-packages/lightgbm/basic.py:1205: UserWarning: Using categorical_feature in Dataset.\n",
      "  warnings.warn('Using categorical_feature in Dataset.')\n"
     ]
    }
   ],
   "source": [
    "extraction_cb = ModelExtractionCallback()\n",
    "eval_metrics = lgb.cv(params,train_set = train_data, early_stopping_rounds=100, callbacks=[extraction_cb])"
   ]
  },
  {
   "cell_type": "code",
   "execution_count": 23,
   "metadata": {},
   "outputs": [],
   "source": [
    "proxy = extraction_cb.boosters_proxy\n",
    "pickle.dump( proxy, open( \"proxy.pkl\", \"wb\" ) )\n",
    "boosters = extraction_cb.raw_boosters\n",
    "pickle.dump( boosters, open( \"boosters.pkl\", \"wb\" ) )\n",
    "best_iteration = extraction_cb.best_iteration\n",
    "pickle.dump( best_iteration, open( \"proxy.pkl\", \"wb\" ) )"
   ]
  },
  {
   "cell_type": "code",
   "execution_count": 24,
   "metadata": {},
   "outputs": [
    {
     "name": "stdout",
     "output_type": "stream",
     "text": [
      "[0.52170169 0.38099628 0.98992297 ... 0.98878484 0.41484179 0.59997936]\n",
      "Model 0 accuracy: 0.7427748881537655\n",
      "Model 0 auc: 0.7554804589955575\n",
      "[[ 57124  16987]\n",
      " [207187 590211]]\n",
      "              precision    recall  f1-score   support\n",
      "\n",
      "           0       0.22      0.77      0.34     74111\n",
      "           1       0.97      0.74      0.84    797398\n",
      "\n",
      "    accuracy                           0.74    871509\n",
      "   macro avg       0.59      0.76      0.59    871509\n",
      "weighted avg       0.91      0.74      0.80    871509\n",
      "\n",
      "[0.43579583 0.39122712 0.98808921 ... 0.9859399  0.42740958 0.67095617]\n",
      "Model 1 accuracy: 0.7388449230013688\n",
      "Model 1 auc: 0.7561907008588398\n",
      "[[ 57591  16520]\n",
      " [211079 586319]]\n",
      "              precision    recall  f1-score   support\n",
      "\n",
      "           0       0.21      0.78      0.34     74111\n",
      "           1       0.97      0.74      0.84    797398\n",
      "\n",
      "    accuracy                           0.74    871509\n",
      "   macro avg       0.59      0.76      0.59    871509\n",
      "weighted avg       0.91      0.74      0.79    871509\n",
      "\n",
      "[0.46486855 0.4009361  0.98946956 ... 0.98542045 0.43690029 0.54258729]\n",
      "Model 2 accuracy: 0.7345156504407871\n",
      "Model 2 auc: 0.7550916376824875\n",
      "[[ 57798  16313]\n",
      " [215059 582339]]\n",
      "              precision    recall  f1-score   support\n",
      "\n",
      "           0       0.21      0.78      0.33     74111\n",
      "           1       0.97      0.73      0.83    797398\n",
      "\n",
      "    accuracy                           0.73    871509\n",
      "   macro avg       0.59      0.76      0.58    871509\n",
      "weighted avg       0.91      0.73      0.79    871509\n",
      "\n",
      "[0.49853364 0.40428102 0.98430714 ... 0.98788173 0.44063193 0.59754263]\n",
      "Model 3 accuracy: 0.7359132263694351\n",
      "Model 3 auc: 0.7556044682358828\n",
      "[[ 57757  16354]\n",
      " [213800 583598]]\n",
      "              precision    recall  f1-score   support\n",
      "\n",
      "           0       0.21      0.78      0.33     74111\n",
      "           1       0.97      0.73      0.84    797398\n",
      "\n",
      "    accuracy                           0.74    871509\n",
      "   macro avg       0.59      0.76      0.58    871509\n",
      "weighted avg       0.91      0.74      0.79    871509\n",
      "\n",
      "[0.46978591 0.38329355 0.98877938 ... 0.98520392 0.44441468 0.59097441]\n",
      "Model 4 accuracy: 0.7353165601273194\n",
      "Model 4 auc: 0.7552784077240681\n",
      "[[ 57757  16354]\n",
      " [214320 583078]]\n",
      "              precision    recall  f1-score   support\n",
      "\n",
      "           0       0.21      0.78      0.33     74111\n",
      "           1       0.97      0.73      0.83    797398\n",
      "\n",
      "    accuracy                           0.74    871509\n",
      "   macro avg       0.59      0.76      0.58    871509\n",
      "weighted avg       0.91      0.74      0.79    871509\n",
      "\n"
     ]
    }
   ],
   "source": [
    "for i, booster in enumerate(boosters                                                                                ):\n",
    "    y_pred_proba = booster.predict(X_test,\n",
    "                                   num_iteration=best_iteration)\n",
    "    print(y_pred_proba)\n",
    "    #y_pred = np.argmax(y_pred_proba, axis=1)\n",
    "    y_max = []\n",
    "    for x in y_pred_proba:\n",
    "        if x > 0.5:\n",
    "            y_max.append(1)\n",
    "        else:\n",
    "            y_max.append(0)\n",
    "    accuracy = accuracy_score(y_test, y_max)\n",
    "    cm = confusion_matrix(y_test, y_max)\n",
    "    report = classification_report(y_test,y_max)\n",
    "    auc = roc_auc_score(y_test, y_max)\n",
    "  #  log = log_loss(y_test, y_max)\n",
    "    print('Model {0} accuracy: {1}'.format(i, accuracy))\n",
    "    print('Model {0} auc: {1}'.format(i,auc))\n",
    "    print(cm)\n",
    "    print(report)"
   ]
  },
  {
   "cell_type": "code",
   "execution_count": 25,
   "metadata": {},
   "outputs": [
    {
     "data": {
      "text/plain": [
       "61"
      ]
     },
     "execution_count": 25,
     "metadata": {},
     "output_type": "execute_result"
    }
   ],
   "source": [
    "evaluation = pd.DataFrame.from_dict(eval_metrics)\n",
    "pickle.dump( evaluation, open( \"eval_dart.pkl\", \"wb\" ) )\n",
    "len(evaluation)"
   ]
  },
  {
   "cell_type": "code",
   "execution_count": 26,
   "metadata": {},
   "outputs": [
    {
     "data": {
      "text/plain": [
       "<matplotlib.axes._subplots.AxesSubplot at 0x7f3681268e10>"
      ]
     },
     "execution_count": 26,
     "metadata": {},
     "output_type": "execute_result"
    },
    {
     "data": {
      "image/png": "[encoded data removed]",
      "text/plain": [
       "<Figure size 432x288 with 1 Axes>"
      ]
     },
     "metadata": {
      "needs_background": "light"
     },
     "output_type": "display_data"
    }
   ],
   "source": [
    "evaluation['auc-mean'].plot(kind='line')"
   ]
  },
  {
   "cell_type": "code",
   "execution_count": 27,
   "metadata": {},
   "outputs": [
    {
     "data": {
      "text/plain": [
       "<matplotlib.axes._subplots.AxesSubplot at 0x7f3612942a20>"
      ]
     },
     "execution_count": 27,
     "metadata": {},
     "output_type": "execute_result"
    },
    {
     "data": {
      "image/png": "[encoded data removed]",
      "text/plain": [
       "<Figure size 432x288 with 1 Axes>"
      ]
     },
     "metadata": {
      "needs_background": "light"
     },
     "output_type": "display_data"
    }
   ],
   "source": [
    "evaluation['auc-stdv'].plot(kind='line')"
   ]
  },
  {
   "cell_type": "code",
   "execution_count": 28,
   "metadata": {},
   "outputs": [
    {
     "data": {
      "text/plain": [
       "<matplotlib.axes._subplots.AxesSubplot at 0x7f36129154a8>"
      ]
     },
     "execution_count": 28,
     "metadata": {},
     "output_type": "execute_result"
    },
    {
     "data": {
      "image/png": "[encoded data removed]",
      "text/plain": [
       "<Figure size 432x288 with 1 Axes>"
      ]
     },
     "metadata": {
      "needs_background": "light"
     },
     "output_type": "display_data"
    }
   ],
   "source": [
    "evaluation['binary_logloss-mean'].plot(kind='line')"
   ]
  },
  {
   "cell_type": "code",
   "execution_count": 29,
   "metadata": {},
   "outputs": [
    {
     "data": {
      "text/plain": [
       "<matplotlib.axes._subplots.AxesSubplot at 0x7f360db6e6d8>"
      ]
     },
     "execution_count": 29,
     "metadata": {},
     "output_type": "execute_result"
    },
    {
     "data": {
      "image/png": "[encoded data removed]",
      "text/plain": [
       "<Figure size 432x288 with 1 Axes>"
      ]
     },
     "metadata": {
      "needs_background": "light"
     },
     "output_type": "display_data"
    }
   ],
   "source": [
    "evaluation['binary_logloss-stdv'].plot(kind='line')"
   ]
  },
  {
   "cell_type": "code",
   "execution_count": 227,
   "metadata": {},
   "outputs": [],
   "source": [
    "pickle.dump( params, open( \"params.pkl\", \"wb\" ) )"
   ]
  },
  {
   "cell_type": "code",
   "execution_count": 34,
   "metadata": {},
   "outputs": [
    {
     "name": "stdout",
     "output_type": "stream",
     "text": [
      "[1]\tvalid_0's binary_logloss: 0.706635\tvalid_0's auc: 0.83982\n",
      "Training until validation scores don't improve for 100 rounds.\n",
      "[2]\tvalid_0's binary_logloss: 0.536505\tvalid_0's auc: 0.841108\n",
      "[3]\tvalid_0's binary_logloss: 0.504383\tvalid_0's auc: 0.844618\n",
      "[4]\tvalid_0's binary_logloss: 0.489473\tvalid_0's auc: 0.847468\n",
      "[5]\tvalid_0's binary_logloss: 0.482631\tvalid_0's auc: 0.848272\n",
      "[6]\tvalid_0's binary_logloss: 0.478162\tvalid_0's auc: 0.849351\n",
      "[7]\tvalid_0's binary_logloss: 0.475369\tvalid_0's auc: 0.850325\n",
      "[8]\tvalid_0's binary_logloss: 0.492833\tvalid_0's auc: 0.850689\n",
      "[9]\tvalid_0's binary_logloss: 0.479083\tvalid_0's auc: 0.851877\n",
      "[10]\tvalid_0's binary_logloss: 0.474632\tvalid_0's auc: 0.851926\n",
      "[11]\tvalid_0's binary_logloss: 0.471795\tvalid_0's auc: 0.852108\n",
      "[12]\tvalid_0's binary_logloss: 0.4725\tvalid_0's auc: 0.852087\n",
      "[13]\tvalid_0's binary_logloss: 0.470896\tvalid_0's auc: 0.852136\n",
      "[14]\tvalid_0's binary_logloss: 0.469222\tvalid_0's auc: 0.852425\n",
      "[15]\tvalid_0's binary_logloss: 0.467888\tvalid_0's auc: 0.852837\n",
      "[16]\tvalid_0's binary_logloss: 0.467486\tvalid_0's auc: 0.852842\n",
      "[17]\tvalid_0's binary_logloss: 0.467127\tvalid_0's auc: 0.852789\n",
      "[18]\tvalid_0's binary_logloss: 0.466188\tvalid_0's auc: 0.853243\n",
      "[19]\tvalid_0's binary_logloss: 0.465736\tvalid_0's auc: 0.853195\n",
      "[20]\tvalid_0's binary_logloss: 0.465283\tvalid_0's auc: 0.853302\n",
      "[21]\tvalid_0's binary_logloss: 0.465693\tvalid_0's auc: 0.853391\n",
      "[22]\tvalid_0's binary_logloss: 0.465201\tvalid_0's auc: 0.853376\n",
      "[23]\tvalid_0's binary_logloss: 0.46492\tvalid_0's auc: 0.853403\n",
      "[24]\tvalid_0's binary_logloss: 0.464703\tvalid_0's auc: 0.853352\n",
      "[25]\tvalid_0's binary_logloss: 0.464441\tvalid_0's auc: 0.853282\n",
      "[26]\tvalid_0's binary_logloss: 0.464326\tvalid_0's auc: 0.853165\n",
      "[27]\tvalid_0's binary_logloss: 0.463798\tvalid_0's auc: 0.85348\n",
      "[28]\tvalid_0's binary_logloss: 0.463979\tvalid_0's auc: 0.853481\n",
      "[29]\tvalid_0's binary_logloss: 0.463674\tvalid_0's auc: 0.853413\n",
      "[30]\tvalid_0's binary_logloss: 0.463464\tvalid_0's auc: 0.853425\n",
      "[31]\tvalid_0's binary_logloss: 0.463353\tvalid_0's auc: 0.853504\n",
      "[32]\tvalid_0's binary_logloss: 0.463375\tvalid_0's auc: 0.853468\n",
      "[33]\tvalid_0's binary_logloss: 0.463168\tvalid_0's auc: 0.85333\n",
      "[34]\tvalid_0's binary_logloss: 0.462529\tvalid_0's auc: 0.853589\n",
      "[35]\tvalid_0's binary_logloss: 0.462619\tvalid_0's auc: 0.853637\n",
      "[36]\tvalid_0's binary_logloss: 0.463309\tvalid_0's auc: 0.853753\n",
      "[37]\tvalid_0's binary_logloss: 0.462546\tvalid_0's auc: 0.853945\n",
      "[38]\tvalid_0's binary_logloss: 0.462064\tvalid_0's auc: 0.853961\n",
      "[39]\tvalid_0's binary_logloss: 0.461784\tvalid_0's auc: 0.853967\n",
      "[40]\tvalid_0's binary_logloss: 0.467542\tvalid_0's auc: 0.854074\n",
      "[41]\tvalid_0's binary_logloss: 0.467411\tvalid_0's auc: 0.854133\n",
      "[42]\tvalid_0's binary_logloss: 0.463697\tvalid_0's auc: 0.854249\n",
      "[43]\tvalid_0's binary_logloss: 0.463699\tvalid_0's auc: 0.854245\n",
      "[44]\tvalid_0's binary_logloss: 0.462307\tvalid_0's auc: 0.854176\n",
      "[45]\tvalid_0's binary_logloss: 0.461554\tvalid_0's auc: 0.854132\n",
      "[46]\tvalid_0's binary_logloss: 0.452114\tvalid_0's auc: 0.853994\n",
      "[47]\tvalid_0's binary_logloss: 0.456515\tvalid_0's auc: 0.854072\n",
      "[48]\tvalid_0's binary_logloss: 0.457715\tvalid_0's auc: 0.854105\n",
      "[49]\tvalid_0's binary_logloss: 0.45819\tvalid_0's auc: 0.854186\n",
      "[50]\tvalid_0's binary_logloss: 0.458137\tvalid_0's auc: 0.854249\n",
      "[51]\tvalid_0's binary_logloss: 0.458832\tvalid_0's auc: 0.854566\n",
      "[52]\tvalid_0's binary_logloss: 0.459298\tvalid_0's auc: 0.85459\n",
      "[53]\tvalid_0's binary_logloss: 0.459082\tvalid_0's auc: 0.854608\n",
      "[54]\tvalid_0's binary_logloss: 0.459478\tvalid_0's auc: 0.85456\n",
      "[55]\tvalid_0's binary_logloss: 0.45933\tvalid_0's auc: 0.854533\n",
      "[56]\tvalid_0's binary_logloss: 0.460187\tvalid_0's auc: 0.854575\n",
      "[57]\tvalid_0's binary_logloss: 0.459584\tvalid_0's auc: 0.854867\n",
      "[58]\tvalid_0's binary_logloss: 0.448147\tvalid_0's auc: 0.854864\n",
      "[59]\tvalid_0's binary_logloss: 0.45075\tvalid_0's auc: 0.854856\n",
      "[60]\tvalid_0's binary_logloss: 0.455226\tvalid_0's auc: 0.85481\n",
      "[61]\tvalid_0's binary_logloss: 0.44535\tvalid_0's auc: 0.854596\n",
      "[62]\tvalid_0's binary_logloss: 0.452358\tvalid_0's auc: 0.854703\n",
      "[63]\tvalid_0's binary_logloss: 0.455642\tvalid_0's auc: 0.855001\n",
      "[64]\tvalid_0's binary_logloss: 0.461775\tvalid_0's auc: 0.855063\n",
      "[65]\tvalid_0's binary_logloss: 0.461391\tvalid_0's auc: 0.855107\n",
      "[66]\tvalid_0's binary_logloss: 0.459674\tvalid_0's auc: 0.855262\n",
      "[67]\tvalid_0's binary_logloss: 0.458796\tvalid_0's auc: 0.855202\n",
      "[68]\tvalid_0's binary_logloss: 0.458403\tvalid_0's auc: 0.855201\n",
      "[69]\tvalid_0's binary_logloss: 0.458871\tvalid_0's auc: 0.855202\n",
      "[70]\tvalid_0's binary_logloss: 0.458853\tvalid_0's auc: 0.855228\n",
      "[71]\tvalid_0's binary_logloss: 0.459743\tvalid_0's auc: 0.855206\n",
      "[72]\tvalid_0's binary_logloss: 0.458933\tvalid_0's auc: 0.855209\n",
      "[73]\tvalid_0's binary_logloss: 0.458491\tvalid_0's auc: 0.855122\n",
      "[74]\tvalid_0's binary_logloss: 0.45872\tvalid_0's auc: 0.855095\n",
      "[75]\tvalid_0's binary_logloss: 0.458402\tvalid_0's auc: 0.854997\n",
      "[76]\tvalid_0's binary_logloss: 0.458415\tvalid_0's auc: 0.855059\n",
      "[77]\tvalid_0's binary_logloss: 0.458189\tvalid_0's auc: 0.85505\n",
      "[78]\tvalid_0's binary_logloss: 0.461104\tvalid_0's auc: 0.855108\n",
      "[79]\tvalid_0's binary_logloss: 0.45899\tvalid_0's auc: 0.855164\n",
      "[80]\tvalid_0's binary_logloss: 0.458124\tvalid_0's auc: 0.855095\n",
      "[81]\tvalid_0's binary_logloss: 0.457614\tvalid_0's auc: 0.855153\n",
      "[82]\tvalid_0's binary_logloss: 0.457497\tvalid_0's auc: 0.855193\n",
      "[83]\tvalid_0's binary_logloss: 0.457555\tvalid_0's auc: 0.855144\n",
      "[84]\tvalid_0's binary_logloss: 0.457761\tvalid_0's auc: 0.855107\n",
      "[85]\tvalid_0's binary_logloss: 0.457907\tvalid_0's auc: 0.855109\n",
      "[86]\tvalid_0's binary_logloss: 0.457825\tvalid_0's auc: 0.855014\n",
      "[87]\tvalid_0's binary_logloss: 0.457747\tvalid_0's auc: 0.85495\n",
      "[88]\tvalid_0's binary_logloss: 0.458185\tvalid_0's auc: 0.854989\n",
      "[89]\tvalid_0's binary_logloss: 0.459163\tvalid_0's auc: 0.854992\n",
      "[90]\tvalid_0's binary_logloss: 0.459533\tvalid_0's auc: 0.854995\n",
      "[91]\tvalid_0's binary_logloss: 0.449339\tvalid_0's auc: 0.855016\n",
      "[92]\tvalid_0's binary_logloss: 0.453823\tvalid_0's auc: 0.854914\n",
      "[93]\tvalid_0's binary_logloss: 0.455487\tvalid_0's auc: 0.855022\n",
      "[94]\tvalid_0's binary_logloss: 0.455401\tvalid_0's auc: 0.855084\n",
      "[95]\tvalid_0's binary_logloss: 0.455699\tvalid_0's auc: 0.855101\n",
      "[96]\tvalid_0's binary_logloss: 0.455854\tvalid_0's auc: 0.855112\n",
      "[97]\tvalid_0's binary_logloss: 0.456556\tvalid_0's auc: 0.855019\n",
      "[98]\tvalid_0's binary_logloss: 0.4566\tvalid_0's auc: 0.855054\n",
      "[99]\tvalid_0's binary_logloss: 0.456949\tvalid_0's auc: 0.854875\n",
      "[100]\tvalid_0's binary_logloss: 0.456752\tvalid_0's auc: 0.854828\n",
      "[101]\tvalid_0's binary_logloss: 0.452716\tvalid_0's auc: 0.854828\n",
      "[102]\tvalid_0's binary_logloss: 0.45282\tvalid_0's auc: 0.854897\n",
      "[103]\tvalid_0's binary_logloss: 0.453972\tvalid_0's auc: 0.854966\n",
      "[104]\tvalid_0's binary_logloss: 0.45536\tvalid_0's auc: 0.855123\n",
      "[105]\tvalid_0's binary_logloss: 0.451994\tvalid_0's auc: 0.855103\n",
      "[106]\tvalid_0's binary_logloss: 0.45261\tvalid_0's auc: 0.855117\n",
      "[107]\tvalid_0's binary_logloss: 0.454463\tvalid_0's auc: 0.855172\n",
      "[108]\tvalid_0's binary_logloss: 0.455598\tvalid_0's auc: 0.855093\n",
      "[109]\tvalid_0's binary_logloss: 0.457607\tvalid_0's auc: 0.855077\n",
      "[110]\tvalid_0's binary_logloss: 0.457823\tvalid_0's auc: 0.85508\n",
      "[111]\tvalid_0's binary_logloss: 0.457211\tvalid_0's auc: 0.855079\n",
      "[112]\tvalid_0's binary_logloss: 0.456888\tvalid_0's auc: 0.855028\n",
      "[113]\tvalid_0's binary_logloss: 0.456619\tvalid_0's auc: 0.854883\n",
      "[114]\tvalid_0's binary_logloss: 0.456441\tvalid_0's auc: 0.854787\n",
      "[115]\tvalid_0's binary_logloss: 0.456077\tvalid_0's auc: 0.854757\n",
      "[116]\tvalid_0's binary_logloss: 0.455902\tvalid_0's auc: 0.854675\n",
      "[117]\tvalid_0's binary_logloss: 0.4577\tvalid_0's auc: 0.854713\n",
      "[118]\tvalid_0's binary_logloss: 0.456446\tvalid_0's auc: 0.854753\n",
      "[119]\tvalid_0's binary_logloss: 0.456814\tvalid_0's auc: 0.854725\n",
      "[120]\tvalid_0's binary_logloss: 0.456727\tvalid_0's auc: 0.854745\n",
      "[121]\tvalid_0's binary_logloss: 0.456764\tvalid_0's auc: 0.854737\n",
      "[122]\tvalid_0's binary_logloss: 0.456778\tvalid_0's auc: 0.854744\n",
      "[123]\tvalid_0's binary_logloss: 0.456256\tvalid_0's auc: 0.854876\n",
      "[124]\tvalid_0's binary_logloss: 0.456051\tvalid_0's auc: 0.854766\n",
      "[125]\tvalid_0's binary_logloss: 0.456452\tvalid_0's auc: 0.854727\n",
      "[126]\tvalid_0's binary_logloss: 0.456864\tvalid_0's auc: 0.854701\n",
      "[127]\tvalid_0's binary_logloss: 0.456387\tvalid_0's auc: 0.854637\n",
      "[128]\tvalid_0's binary_logloss: 0.456159\tvalid_0's auc: 0.854665\n",
      "[129]\tvalid_0's binary_logloss: 0.456017\tvalid_0's auc: 0.854618\n",
      "[130]\tvalid_0's binary_logloss: 0.455784\tvalid_0's auc: 0.85451\n",
      "[131]\tvalid_0's binary_logloss: 0.455535\tvalid_0's auc: 0.854527\n",
      "[132]\tvalid_0's binary_logloss: 0.455572\tvalid_0's auc: 0.854415\n",
      "[133]\tvalid_0's binary_logloss: 0.455272\tvalid_0's auc: 0.854391\n",
      "[134]\tvalid_0's binary_logloss: 0.451772\tvalid_0's auc: 0.854375\n",
      "[135]\tvalid_0's binary_logloss: 0.453632\tvalid_0's auc: 0.854371\n",
      "[136]\tvalid_0's binary_logloss: 0.449183\tvalid_0's auc: 0.854362\n",
      "[137]\tvalid_0's binary_logloss: 0.449561\tvalid_0's auc: 0.854381\n",
      "[138]\tvalid_0's binary_logloss: 0.452528\tvalid_0's auc: 0.854397\n",
      "[139]\tvalid_0's binary_logloss: 0.453563\tvalid_0's auc: 0.854505\n",
      "[140]\tvalid_0's binary_logloss: 0.454721\tvalid_0's auc: 0.85455\n",
      "[141]\tvalid_0's binary_logloss: 0.454624\tvalid_0's auc: 0.854572\n",
      "[142]\tvalid_0's binary_logloss: 0.45462\tvalid_0's auc: 0.854621\n",
      "[143]\tvalid_0's binary_logloss: 0.454615\tvalid_0's auc: 0.854763\n",
      "[144]\tvalid_0's binary_logloss: 0.454594\tvalid_0's auc: 0.854801\n",
      "[145]\tvalid_0's binary_logloss: 0.454725\tvalid_0's auc: 0.854777\n",
      "[146]\tvalid_0's binary_logloss: 0.456032\tvalid_0's auc: 0.854802\n",
      "[147]\tvalid_0's binary_logloss: 0.455878\tvalid_0's auc: 0.85483\n",
      "[148]\tvalid_0's binary_logloss: 0.45699\tvalid_0's auc: 0.854845\n",
      "[149]\tvalid_0's binary_logloss: 0.4557\tvalid_0's auc: 0.854742\n",
      "[150]\tvalid_0's binary_logloss: 0.455175\tvalid_0's auc: 0.854662\n",
      "[151]\tvalid_0's binary_logloss: 0.453151\tvalid_0's auc: 0.854636\n",
      "[152]\tvalid_0's binary_logloss: 0.451094\tvalid_0's auc: 0.854623\n",
      "[153]\tvalid_0's binary_logloss: 0.452654\tvalid_0's auc: 0.854845\n",
      "[154]\tvalid_0's binary_logloss: 0.452631\tvalid_0's auc: 0.854843\n",
      "[155]\tvalid_0's binary_logloss: 0.45357\tvalid_0's auc: 0.854812\n",
      "[156]\tvalid_0's binary_logloss: 0.453504\tvalid_0's auc: 0.854852\n",
      "[157]\tvalid_0's binary_logloss: 0.453708\tvalid_0's auc: 0.854868\n",
      "[158]\tvalid_0's binary_logloss: 0.45358\tvalid_0's auc: 0.8549\n",
      "[159]\tvalid_0's binary_logloss: 0.453683\tvalid_0's auc: 0.854936\n",
      "[160]\tvalid_0's binary_logloss: 0.453511\tvalid_0's auc: 0.85498\n",
      "[161]\tvalid_0's binary_logloss: 0.454041\tvalid_0's auc: 0.854853\n",
      "Early stopping, best iteration is:\n",
      "[61]\tvalid_0's binary_logloss: 0.44535\tvalid_0's auc: 0.854596\n"
     ]
    }
   ],
   "source": [
    "test = lgb.train(params, train_set = train_data, valid_sets = test_data, early_stopping_rounds=100, evals_result = eval_metrics)"
   ]
  },
  {
   "cell_type": "code",
   "execution_count": 35,
   "metadata": {},
   "outputs": [],
   "source": [
    "preds = test.predict(X_test)"
   ]
  },
  {
   "cell_type": "code",
   "execution_count": 36,
   "metadata": {},
   "outputs": [
    {
     "name": "stdout",
     "output_type": "stream",
     "text": [
      "Model 4 accuracy: 0.7358753610117623\n",
      "Model 4 auc: 0.7561039417094108\n",
      "[[ 57842  16269]\n",
      " [213918 583480]]\n",
      "              precision    recall  f1-score   support\n",
      "\n",
      "           0       0.21      0.78      0.33     74111\n",
      "           1       0.97      0.73      0.84    797398\n",
      "\n",
      "    accuracy                           0.74    871509\n",
      "   macro avg       0.59      0.76      0.58    871509\n",
      "weighted avg       0.91      0.74      0.79    871509\n",
      "\n"
     ]
    }
   ],
   "source": [
    "y_max = []\n",
    "for x in preds:\n",
    "    if x > 0.5:\n",
    "        y_max.append(1)\n",
    "    else:\n",
    "        y_max.append(0)\n",
    "accuracy = accuracy_score(y_test, y_max)\n",
    "cm = confusion_matrix(y_test, y_max)\n",
    "report = classification_report(y_test,y_max)\n",
    "auc = roc_auc_score(y_test, y_max)\n",
    "print('Model {0} accuracy: {1}'.format(i, accuracy))\n",
    "print('Model {0} auc: {1}'.format(i,auc))\n",
    "print(cm)\n",
    "print(report)"
   ]
  },
  {
   "cell_type": "code",
   "execution_count": null,
   "metadata": {},
   "outputs": [],
   "source": [
    "test.save_model(\"final.txt\")"
   ]
  },
  {
   "cell_type": "code",
   "execution_count": null,
   "metadata": {},
   "outputs": [],
   "source": [
    "bst = lgb.Booster(model_file='final.txt')"
   ]
  },
  {
   "cell_type": "code",
   "execution_count": 1,
   "metadata": {},
   "outputs": [
    {
     "name": "stdout",
     "output_type": "stream",
     "text": [
      "Copying file://final.txt [Content-Type=text/plain]...\n",
      "- [1 files][258.1 KiB/258.1 KiB]                                                \n",
      "Operation completed over 1 objects/258.1 KiB.                                    \n"
     ]
    }
   ],
   "source": [
    "!gsutil cp final.txt gs://kaggle-days-sf"
   ]
  },
  {
   "cell_type": "code",
   "execution_count": null,
   "metadata": {},
   "outputs": [],
   "source": []
  }
 ],
 "metadata": {
  "kernelspec": {
   "display_name": "Python 3",
   "language": "python",
   "name": "python3"
  },
  "language_info": {
   "codemirror_mode": {
    "name": "ipython",
    "version": 3
   },
   "file_extension": ".py",
   "mimetype": "text/x-python",
   "name": "python",
   "nbconvert_exporter": "python",
   "pygments_lexer": "ipython3",
   "version": "3.5.3"
  }
 },
 "nbformat": 4,
 "nbformat_minor": 4
}
