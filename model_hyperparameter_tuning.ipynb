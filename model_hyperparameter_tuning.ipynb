{
 "cells": [
  {
   "cell_type": "code",
   "execution_count": 1,
   "metadata": {},
   "outputs": [],
   "source": [
    "import lightgbm as lgb\n",
    "import pickle\n",
    "import pandas as pd\n",
    "from sklearn.model_selection import train_test_split\n",
    "from sklearn.metrics import accuracy_score, confusion_matrix, classification_report, roc_auc_score\n",
    "import numpy as np"
   ]
  },
  {
   "cell_type": "code",
   "execution_count": 2,
   "metadata": {},
   "outputs": [],
   "source": [
    "train = pd.read_pickle('./data/mean_train.pkl')\n",
    "test = pd.read_pickle('./data/mean_test.pkl')"
   ]
  },
  {
   "cell_type": "code",
   "execution_count": 3,
   "metadata": {},
   "outputs": [],
   "source": [
    "with open('./data/' \"y.pkl\", 'rb') as pickle_file:\n",
    "    y = pickle.load(pickle_file)"
   ]
  },
  {
   "cell_type": "code",
   "execution_count": 4,
   "metadata": {},
   "outputs": [
    {
     "name": "stdout",
     "output_type": "stream",
     "text": [
      "4357544 4357544\n"
     ]
    }
   ],
   "source": [
    "print(len(train), len(y))"
   ]
  },
  {
   "cell_type": "code",
   "execution_count": 5,
   "metadata": {},
   "outputs": [
    {
     "name": "stdout",
     "output_type": "stream",
     "text": [
      "0.0852154332807655\n"
     ]
    }
   ],
   "source": [
    "zeros = 0\n",
    "for x in y:\n",
    "    if x == 0:\n",
    "        zeros += 1\n",
    "print(zeros/len(y))"
   ]
  },
  {
   "cell_type": "code",
   "execution_count": 6,
   "metadata": {},
   "outputs": [
    {
     "data": {
      "text/plain": [
       "(4357544, 19)"
      ]
     },
     "execution_count": 6,
     "metadata": {},
     "output_type": "execute_result"
    }
   ],
   "source": [
    "train.shape"
   ]
  },
  {
   "cell_type": "code",
   "execution_count": 7,
   "metadata": {},
   "outputs": [],
   "source": [
    "X_train, X_test, y_train, y_test = train_test_split(train,y,test_size=0.2)"
   ]
  },
  {
   "cell_type": "code",
   "execution_count": 8,
   "metadata": {},
   "outputs": [
    {
     "data": {
      "text/plain": [
       "Issue Date                 int64\n",
       "Issue time               float64\n",
       "Meter Id                 float64\n",
       "Marked Time              float64\n",
       "RP State Plate           float64\n",
       "Plate Expiry Date        float64\n",
       "VIN                      float64\n",
       "Body Style               float64\n",
       "Color                    float64\n",
       "Location                 float64\n",
       "Route                    float64\n",
       "Agency                   float64\n",
       "Violation code           float64\n",
       "Violation Description    float64\n",
       "Fine amount              float64\n",
       "Latitude                 float64\n",
       "Longitude                float64\n",
       "crime_clusters             int32\n",
       "total_clusters             int32\n",
       "dtype: object"
      ]
     },
     "execution_count": 8,
     "metadata": {},
     "output_type": "execute_result"
    }
   ],
   "source": [
    "X_train.dtypes"
   ]
  },
  {
   "cell_type": "code",
   "execution_count": 9,
   "metadata": {},
   "outputs": [],
   "source": [
    "categorical_features = ['Issue Date', 'crime_clusters', 'total_clusters']\n",
    "train_data = lgb.Dataset(data=X_train, label=y_train, categorical_feature=categorical_features, free_raw_data=False)\n",
    "test_data = lgb.Dataset(data=X_test, label=y_test, categorical_feature=categorical_features, free_raw_data=False)"
   ]
  },
  {
   "cell_type": "code",
   "execution_count": 10,
   "metadata": {},
   "outputs": [],
   "source": [
    "#best parameters so far\n",
    "params = {\n",
    "    'is_unbalance': True,\n",
    "    'objective': 'binary',\n",
    "    'boosting': 'DART',\n",
    "    'learning_rate': 0.55,\n",
    "    'min_data_in_leaf': 100,\n",
    "    'min_sum_hessian_in_leaf': 1e-4,\n",
    "    'num_iterations': 5000,\n",
    "    'num_leaves': 24,\n",
    "    'max_depth': 60,\n",
    "    'num_threads': -1,\n",
    "    'reg_alpha': 100, # L1 regularization\n",
    "    'reg_lambda': 50, # L2 regularization\n",
    "    'bagging_fraction': 0.8,\n",
    "    'bagging_frequency': 0.7,\n",
    "    'subsample': 0.8, # subsample ratio of the training instance\n",
    "    'feature_fraction_bynode': 0.8,\n",
    "    'colsample_bytree': 0.8, # subsample ratio of columns when constructing the tree\n",
    "    'min_split_gain': 0.8, # minimum loss reduction required to make further partition on a leaf node of the tree\n",
    "    'min_child_weight': 1e-3, # minimum sum of instance weight (hessian) needed in a leaf\n",
    "    'min_child_samples': 50,# minimum number of data needed in a leaf\n",
    "    'metrics': ['auc', 'binary_logloss'],\n",
    "    'pred_contrib': False\n",
    "}"
   ]
  },
  {
   "cell_type": "code",
   "execution_count": 15,
   "metadata": {},
   "outputs": [],
   "source": [
    "#trial run\n",
    "params = {\n",
    "    'is_unbalance': True,\n",
    "    'objective': 'binary',\n",
    "    'boosting': 'DART',\n",
    "    'learning_rate': 0.01,\n",
    "    'min_data_in_leaf': 50,\n",
    "    'min_sum_hessian_in_leaf': 1e-4,\n",
    "    'num_iterations': 5000,\n",
    "    'num_leaves': 24,\n",
    "    'max_depth': -1,\n",
    "    'num_threads': -1,\n",
    "    'reg_alpha': 100, # L1 regularization\n",
    "    'reg_lambda': 50, # L2 regularization\n",
    "    'bagging_fraction': 0.8,\n",
    "    'bagging_frequency': 0.7,\n",
    "    'subsample': 0.8, # subsample ratio of the training instance\n",
    "    'feature_fraction_bynode': 0.8,\n",
    "    'colsample_bytree': 0.8, # subsample ratio of columns when constructing the tree\n",
    "    'min_split_gain': 0.6, # minimum loss reduction required to make further partition on a leaf node of the tree\n",
    "    'min_child_weight': 1e-3, # minimum sum of instance weight (hessian) needed in a leaf\n",
    "    'min_child_samples': 50,# minimum number of data needed in a leaf\n",
    "    'metrics': ['auc', 'binary_logloss'],\n",
    "    'pred_contrib': False\n",
    "}"
   ]
  },
  {
   "cell_type": "code",
   "execution_count": 11,
   "metadata": {},
   "outputs": [],
   "source": [
    "class ModelExtractionCallback(object):\n",
    "    \"\"\"Callback class for retrieving trained model from lightgbm.cv()\n",
    "    NOTE: This class depends on '_CVBooster' which is hidden class, so it might doesn't work if the specification is changed.\n",
    "    \"\"\"\n",
    "\n",
    "    def __init__(self):\n",
    "        self._model = None\n",
    "\n",
    "    def __call__(self, env):\n",
    "        # Saving _CVBooster object.\n",
    "        self._model = env.model\n",
    "\n",
    "    def _assert_called_cb(self):\n",
    "        if self._model is None:\n",
    "            # Throw exception if the callback class is not called.\n",
    "            raise RuntimeError('callback has not called yet')\n",
    "\n",
    "    @property\n",
    "    def boosters_proxy(self):\n",
    "        self._assert_called_cb()\n",
    "        # return Booster object\n",
    "        return self._model\n",
    "\n",
    "    @property\n",
    "    def raw_boosters(self):\n",
    "        self._assert_called_cb()\n",
    "        # return list of Booster\n",
    "        return self._model.boosters\n",
    "  \n",
    "    @property\n",
    "    def best_iteration(self):\n",
    "        self._assert_called_cb()\n",
    "        # return boosting round when early stopping.\n",
    "        return self._model.best_iteration"
   ]
  },
  {
   "cell_type": "code",
   "execution_count": 13,
   "metadata": {},
   "outputs": [
    {
     "name": "stderr",
     "output_type": "stream",
     "text": [
      "/usr/local/lib/python3.5/dist-packages/lightgbm/engine.py:430: UserWarning: Found `num_iterations` in params. Will use it instead of argument\n",
      "  warnings.warn(\"Found `{}` in params. Will use it instead of argument\".format(alias))\n",
      "/usr/local/lib/python3.5/dist-packages/lightgbm/basic.py:1205: UserWarning: Using categorical_feature in Dataset.\n",
      "  warnings.warn('Using categorical_feature in Dataset.')\n"
     ]
    }
   ],
   "source": [
    "extraction_cb = ModelExtractionCallback()\n",
    "eval_metrics = lgb.cv(params,train_set = train_data, early_stopping_rounds=100, callbacks=[extraction_cb])"
   ]
  },
  {
   "cell_type": "code",
   "execution_count": 14,
   "metadata": {},
   "outputs": [],
   "source": [
    "proxy = extraction_cb.boosters_proxy\n",
    "pickle.dump( proxy, open( \"proxy.pkl\", \"wb\" ) )\n",
    "boosters = extraction_cb.raw_boosters\n",
    "pickle.dump( boosters, open( \"boosters.pkl\", \"wb\" ) )\n",
    "best_iteration = extraction_cb.best_iteration\n",
    "pickle.dump( best_iteration, open( \"proxy.pkl\", \"wb\" ) )"
   ]
  },
  {
   "cell_type": "code",
   "execution_count": 15,
   "metadata": {},
   "outputs": [
    {
     "name": "stdout",
     "output_type": "stream",
     "text": [
      "[0.54223144 0.39263182 0.43775842 ... 0.9889439  0.59071563 0.53155039]\n",
      "Model 0 accuracy: 0.7388862306642846\n",
      "Model 0 auc: 0.7561802026937177\n",
      "[[ 57920  16619]\n",
      " [210944 586026]]\n",
      "              precision    recall  f1-score   support\n",
      "\n",
      "           0       0.22      0.78      0.34     74539\n",
      "           1       0.97      0.74      0.84    796970\n",
      "\n",
      "    accuracy                           0.74    871509\n",
      "   macro avg       0.59      0.76      0.59    871509\n",
      "weighted avg       0.91      0.74      0.79    871509\n",
      "\n",
      "[0.62582183 0.47934141 0.39792797 ... 0.98556972 0.590221   0.53621825]\n",
      "Model 1 accuracy: 0.7423709910052564\n",
      "Model 1 auc: 0.7559269589740395\n",
      "[[ 57565  16974]\n",
      " [207552 589418]]\n",
      "              precision    recall  f1-score   support\n",
      "\n",
      "           0       0.22      0.77      0.34     74539\n",
      "           1       0.97      0.74      0.84    796970\n",
      "\n",
      "    accuracy                           0.74    871509\n",
      "   macro avg       0.59      0.76      0.59    871509\n",
      "weighted avg       0.91      0.74      0.80    871509\n",
      "\n",
      "[0.50809028 0.4759411  0.43047871 ... 0.98557013 0.66188287 0.53662872]\n",
      "Model 2 accuracy: 0.7378753403579309\n",
      "Model 2 auc: 0.7564483547010713\n",
      "[[ 58055  16484]\n",
      " [211960 585010]]\n",
      "              precision    recall  f1-score   support\n",
      "\n",
      "           0       0.22      0.78      0.34     74539\n",
      "           1       0.97      0.73      0.84    796970\n",
      "\n",
      "    accuracy                           0.74    871509\n",
      "   macro avg       0.59      0.76      0.59    871509\n",
      "weighted avg       0.91      0.74      0.79    871509\n",
      "\n",
      "[0.56510628 0.48762045 0.40379807 ... 0.9869573  0.63818919 0.57169527]\n",
      "Model 3 accuracy: 0.7318983510210451\n",
      "Model 3 auc: 0.7558314595989373\n",
      "[[ 58491  16048]\n",
      " [217605 579365]]\n",
      "              precision    recall  f1-score   support\n",
      "\n",
      "           0       0.21      0.78      0.33     74539\n",
      "           1       0.97      0.73      0.83    796970\n",
      "\n",
      "    accuracy                           0.73    871509\n",
      "   macro avg       0.59      0.76      0.58    871509\n",
      "weighted avg       0.91      0.73      0.79    871509\n",
      "\n",
      "[0.56660908 0.40677959 0.41754937 ... 0.98233072 0.57630598 0.53166399]\n",
      "Model 4 accuracy: 0.7392683265462549\n",
      "Model 4 auc: 0.756735708700516\n",
      "[[ 57977  16562]\n",
      " [210668 586302]]\n",
      "              precision    recall  f1-score   support\n",
      "\n",
      "           0       0.22      0.78      0.34     74539\n",
      "           1       0.97      0.74      0.84    796970\n",
      "\n",
      "    accuracy                           0.74    871509\n",
      "   macro avg       0.59      0.76      0.59    871509\n",
      "weighted avg       0.91      0.74      0.79    871509\n",
      "\n"
     ]
    }
   ],
   "source": [
    "for i, booster in enumerate(boosters                                                                                ):\n",
    "    y_pred_proba = booster.predict(X_test,\n",
    "                                   num_iteration=best_iteration)\n",
    "    print(y_pred_proba)\n",
    "    #y_pred = np.argmax(y_pred_proba, axis=1)\n",
    "    y_max = []\n",
    "    for x in y_pred_proba:\n",
    "        if x > 0.5:\n",
    "            y_max.append(1)\n",
    "        else:\n",
    "            y_max.append(0)\n",
    "    accuracy = accuracy_score(y_test, y_max)\n",
    "    cm = confusion_matrix(y_test, y_max)\n",
    "    report = classification_report(y_test,y_max)\n",
    "    auc = roc_auc_score(y_test, y_max)\n",
    "  #  log = log_loss(y_test, y_max)\n",
    "    print('Model {0} accuracy: {1}'.format(i, accuracy))\n",
    "    print('Model {0} auc: {1}'.format(i,auc))\n",
    "    print(cm)\n",
    "    print(report)"
   ]
  },
  {
   "cell_type": "code",
   "execution_count": 16,
   "metadata": {},
   "outputs": [
    {
     "data": {
      "text/plain": [
       "61"
      ]
     },
     "execution_count": 16,
     "metadata": {},
     "output_type": "execute_result"
    }
   ],
   "source": [
    "evaluation = pd.DataFrame.from_dict(eval_metrics)\n",
    "pickle.dump( evaluation, open( \"eval_dart.pkl\", \"wb\" ) )\n",
    "len(evaluation)"
   ]
  },
  {
   "cell_type": "code",
   "execution_count": 17,
   "metadata": {},
   "outputs": [
    {
     "data": {
      "text/plain": [
       "<matplotlib.axes._subplots.AxesSubplot at 0x7f26ca10e320>"
      ]
     },
     "execution_count": 17,
     "metadata": {},
     "output_type": "execute_result"
    },
    {
     "data": {
      "image/png": "[encoded data removed]",
      "text/plain": [
       "<Figure size 432x288 with 1 Axes>"
      ]
     },
     "metadata": {
      "needs_background": "light"
     },
     "output_type": "display_data"
    }
   ],
   "source": [
    "evaluation['auc-mean'].plot(kind='line')"
   ]
  },
  {
   "cell_type": "code",
   "execution_count": 18,
   "metadata": {},
   "outputs": [
    {
     "data": {
      "text/plain": [
       "<matplotlib.axes._subplots.AxesSubplot at 0x7f26c8424588>"
      ]
     },
     "execution_count": 18,
     "metadata": {},
     "output_type": "execute_result"
    },
    {
     "data": {
      "image/png": "[encoded data removed]",
      "text/plain": [
       "<Figure size 432x288 with 1 Axes>"
      ]
     },
     "metadata": {
      "needs_background": "light"
     },
     "output_type": "display_data"
    }
   ],
   "source": [
    "evaluation['auc-stdv'].plot(kind='line')"
   ]
  },
  {
   "cell_type": "code",
   "execution_count": 19,
   "metadata": {},
   "outputs": [
    {
     "data": {
      "text/plain": [
       "<matplotlib.axes._subplots.AxesSubplot at 0x7f26c83e9630>"
      ]
     },
     "execution_count": 19,
     "metadata": {},
     "output_type": "execute_result"
    },
    {
     "data": {
      "image/png": "[encoded data removed]",
      "text/plain": [
       "<Figure size 432x288 with 1 Axes>"
      ]
     },
     "metadata": {
      "needs_background": "light"
     },
     "output_type": "display_data"
    }
   ],
   "source": [
    "evaluation['binary_logloss-mean'].plot(kind='line')"
   ]
  },
  {
   "cell_type": "code",
   "execution_count": 20,
   "metadata": {},
   "outputs": [
    {
     "data": {
      "text/plain": [
       "<matplotlib.axes._subplots.AxesSubplot at 0x7f26c839eb70>"
      ]
     },
     "execution_count": 20,
     "metadata": {},
     "output_type": "execute_result"
    },
    {
     "data": {
      "image/png": "[encoded data removed]",
      "text/plain": [
       "<Figure size 432x288 with 1 Axes>"
      ]
     },
     "metadata": {
      "needs_background": "light"
     },
     "output_type": "display_data"
    }
   ],
   "source": [
    "evaluation['binary_logloss-stdv'].plot(kind='line')"
   ]
  },
  {
   "cell_type": "code",
   "execution_count": 21,
   "metadata": {},
   "outputs": [],
   "source": [
    "pickle.dump( params, open( \"params.pkl\", \"wb\" ) )"
   ]
  },
  {
   "cell_type": "code",
   "execution_count": 22,
   "metadata": {},
   "outputs": [
    {
     "name": "stderr",
     "output_type": "stream",
     "text": [
      "/usr/local/lib/python3.5/dist-packages/lightgbm/engine.py:118: UserWarning: Found `num_iterations` in params. Will use it instead of argument\n",
      "  warnings.warn(\"Found `{}` in params. Will use it instead of argument\".format(alias))\n",
      "/usr/local/lib/python3.5/dist-packages/lightgbm/basic.py:1205: UserWarning: Using categorical_feature in Dataset.\n",
      "  warnings.warn('Using categorical_feature in Dataset.')\n"
     ]
    },
    {
     "name": "stdout",
     "output_type": "stream",
     "text": [
      "[1]\tvalid_0's binary_logloss: 0.70651\tvalid_0's auc: 0.840184\n",
      "Training until validation scores don't improve for 100 rounds.\n",
      "[2]\tvalid_0's binary_logloss: 0.565916\tvalid_0's auc: 0.842774\n",
      "[3]\tvalid_0's binary_logloss: 0.50472\tvalid_0's auc: 0.846253\n",
      "[4]\tvalid_0's binary_logloss: 0.490354\tvalid_0's auc: 0.847392\n",
      "[5]\tvalid_0's binary_logloss: 0.481493\tvalid_0's auc: 0.849262\n",
      "[6]\tvalid_0's binary_logloss: 0.47684\tvalid_0's auc: 0.850554\n",
      "[7]\tvalid_0's binary_logloss: 0.474838\tvalid_0's auc: 0.851062\n",
      "[8]\tvalid_0's binary_logloss: 0.487634\tvalid_0's auc: 0.851169\n",
      "[9]\tvalid_0's binary_logloss: 0.478925\tvalid_0's auc: 0.851343\n",
      "[10]\tvalid_0's binary_logloss: 0.47441\tvalid_0's auc: 0.851898\n",
      "[11]\tvalid_0's binary_logloss: 0.472376\tvalid_0's auc: 0.851982\n",
      "[12]\tvalid_0's binary_logloss: 0.473375\tvalid_0's auc: 0.85178\n",
      "[13]\tvalid_0's binary_logloss: 0.470758\tvalid_0's auc: 0.852547\n",
      "[14]\tvalid_0's binary_logloss: 0.469277\tvalid_0's auc: 0.852943\n",
      "[15]\tvalid_0's binary_logloss: 0.468463\tvalid_0's auc: 0.853502\n",
      "[16]\tvalid_0's binary_logloss: 0.468157\tvalid_0's auc: 0.853345\n",
      "[17]\tvalid_0's binary_logloss: 0.467882\tvalid_0's auc: 0.853224\n",
      "[18]\tvalid_0's binary_logloss: 0.467393\tvalid_0's auc: 0.853201\n",
      "[19]\tvalid_0's binary_logloss: 0.466944\tvalid_0's auc: 0.853178\n",
      "[20]\tvalid_0's binary_logloss: 0.466172\tvalid_0's auc: 0.853409\n",
      "[21]\tvalid_0's binary_logloss: 0.46675\tvalid_0's auc: 0.853343\n",
      "[22]\tvalid_0's binary_logloss: 0.466257\tvalid_0's auc: 0.853267\n",
      "[23]\tvalid_0's binary_logloss: 0.465349\tvalid_0's auc: 0.853523\n",
      "[24]\tvalid_0's binary_logloss: 0.464848\tvalid_0's auc: 0.853838\n",
      "[25]\tvalid_0's binary_logloss: 0.464623\tvalid_0's auc: 0.853831\n",
      "[26]\tvalid_0's binary_logloss: 0.463972\tvalid_0's auc: 0.854391\n",
      "[27]\tvalid_0's binary_logloss: 0.463785\tvalid_0's auc: 0.854294\n",
      "[28]\tvalid_0's binary_logloss: 0.463941\tvalid_0's auc: 0.854216\n",
      "[29]\tvalid_0's binary_logloss: 0.463625\tvalid_0's auc: 0.854136\n",
      "[30]\tvalid_0's binary_logloss: 0.463368\tvalid_0's auc: 0.854069\n",
      "[31]\tvalid_0's binary_logloss: 0.463349\tvalid_0's auc: 0.854122\n",
      "[32]\tvalid_0's binary_logloss: 0.46299\tvalid_0's auc: 0.854074\n",
      "[33]\tvalid_0's binary_logloss: 0.46296\tvalid_0's auc: 0.854034\n",
      "[34]\tvalid_0's binary_logloss: 0.462715\tvalid_0's auc: 0.853902\n",
      "[35]\tvalid_0's binary_logloss: 0.46274\tvalid_0's auc: 0.854017\n",
      "[36]\tvalid_0's binary_logloss: 0.463756\tvalid_0's auc: 0.854025\n",
      "[37]\tvalid_0's binary_logloss: 0.46312\tvalid_0's auc: 0.853923\n",
      "[38]\tvalid_0's binary_logloss: 0.462396\tvalid_0's auc: 0.854109\n",
      "[39]\tvalid_0's binary_logloss: 0.46171\tvalid_0's auc: 0.854347\n",
      "[40]\tvalid_0's binary_logloss: 0.466828\tvalid_0's auc: 0.854294\n",
      "[41]\tvalid_0's binary_logloss: 0.466794\tvalid_0's auc: 0.854289\n",
      "[42]\tvalid_0's binary_logloss: 0.46373\tvalid_0's auc: 0.854635\n",
      "[43]\tvalid_0's binary_logloss: 0.46374\tvalid_0's auc: 0.854575\n",
      "[44]\tvalid_0's binary_logloss: 0.462269\tvalid_0's auc: 0.854475\n",
      "[45]\tvalid_0's binary_logloss: 0.461199\tvalid_0's auc: 0.854481\n",
      "[46]\tvalid_0's binary_logloss: 0.451319\tvalid_0's auc: 0.85453\n",
      "[47]\tvalid_0's binary_logloss: 0.456063\tvalid_0's auc: 0.854509\n",
      "[48]\tvalid_0's binary_logloss: 0.457121\tvalid_0's auc: 0.854473\n",
      "[49]\tvalid_0's binary_logloss: 0.457764\tvalid_0's auc: 0.85448\n",
      "[50]\tvalid_0's binary_logloss: 0.457673\tvalid_0's auc: 0.854572\n",
      "[51]\tvalid_0's binary_logloss: 0.458735\tvalid_0's auc: 0.854858\n",
      "[52]\tvalid_0's binary_logloss: 0.459211\tvalid_0's auc: 0.854801\n",
      "[53]\tvalid_0's binary_logloss: 0.459037\tvalid_0's auc: 0.854782\n",
      "[54]\tvalid_0's binary_logloss: 0.459304\tvalid_0's auc: 0.854784\n",
      "[55]\tvalid_0's binary_logloss: 0.459176\tvalid_0's auc: 0.854811\n",
      "[56]\tvalid_0's binary_logloss: 0.459914\tvalid_0's auc: 0.854863\n",
      "[57]\tvalid_0's binary_logloss: 0.45969\tvalid_0's auc: 0.85476\n",
      "[58]\tvalid_0's binary_logloss: 0.448301\tvalid_0's auc: 0.854691\n",
      "[59]\tvalid_0's binary_logloss: 0.451177\tvalid_0's auc: 0.85482\n",
      "[60]\tvalid_0's binary_logloss: 0.45527\tvalid_0's auc: 0.854951\n",
      "[61]\tvalid_0's binary_logloss: 0.445158\tvalid_0's auc: 0.854791\n",
      "[62]\tvalid_0's binary_logloss: 0.452179\tvalid_0's auc: 0.854811\n",
      "[63]\tvalid_0's binary_logloss: 0.455445\tvalid_0's auc: 0.854819\n",
      "[64]\tvalid_0's binary_logloss: 0.46166\tvalid_0's auc: 0.855005\n",
      "[65]\tvalid_0's binary_logloss: 0.461337\tvalid_0's auc: 0.855048\n",
      "[66]\tvalid_0's binary_logloss: 0.459486\tvalid_0's auc: 0.855225\n",
      "[67]\tvalid_0's binary_logloss: 0.458607\tvalid_0's auc: 0.855262\n",
      "[68]\tvalid_0's binary_logloss: 0.458032\tvalid_0's auc: 0.855165\n",
      "[69]\tvalid_0's binary_logloss: 0.458366\tvalid_0's auc: 0.855167\n",
      "[70]\tvalid_0's binary_logloss: 0.458342\tvalid_0's auc: 0.855197\n",
      "[71]\tvalid_0's binary_logloss: 0.458952\tvalid_0's auc: 0.855224\n",
      "[72]\tvalid_0's binary_logloss: 0.457988\tvalid_0's auc: 0.855279\n",
      "[73]\tvalid_0's binary_logloss: 0.457592\tvalid_0's auc: 0.855235\n",
      "[74]\tvalid_0's binary_logloss: 0.457794\tvalid_0's auc: 0.855221\n",
      "[75]\tvalid_0's binary_logloss: 0.457485\tvalid_0's auc: 0.855149\n",
      "[76]\tvalid_0's binary_logloss: 0.457522\tvalid_0's auc: 0.855161\n",
      "[77]\tvalid_0's binary_logloss: 0.457245\tvalid_0's auc: 0.855162\n",
      "[78]\tvalid_0's binary_logloss: 0.459722\tvalid_0's auc: 0.855141\n",
      "[79]\tvalid_0's binary_logloss: 0.458384\tvalid_0's auc: 0.855111\n",
      "[80]\tvalid_0's binary_logloss: 0.457653\tvalid_0's auc: 0.855301\n",
      "[81]\tvalid_0's binary_logloss: 0.457138\tvalid_0's auc: 0.855357\n",
      "[82]\tvalid_0's binary_logloss: 0.45684\tvalid_0's auc: 0.85545\n",
      "[83]\tvalid_0's binary_logloss: 0.456873\tvalid_0's auc: 0.855486\n",
      "[84]\tvalid_0's binary_logloss: 0.457074\tvalid_0's auc: 0.855458\n",
      "[85]\tvalid_0's binary_logloss: 0.457196\tvalid_0's auc: 0.855455\n",
      "[86]\tvalid_0's binary_logloss: 0.457071\tvalid_0's auc: 0.855409\n",
      "[87]\tvalid_0's binary_logloss: 0.456893\tvalid_0's auc: 0.855333\n",
      "[88]\tvalid_0's binary_logloss: 0.45744\tvalid_0's auc: 0.855373\n",
      "[89]\tvalid_0's binary_logloss: 0.459136\tvalid_0's auc: 0.855339\n",
      "[90]\tvalid_0's binary_logloss: 0.459455\tvalid_0's auc: 0.855345\n",
      "[91]\tvalid_0's binary_logloss: 0.45069\tvalid_0's auc: 0.855305\n",
      "[92]\tvalid_0's binary_logloss: 0.454307\tvalid_0's auc: 0.855196\n",
      "[93]\tvalid_0's binary_logloss: 0.455564\tvalid_0's auc: 0.855222\n",
      "[94]\tvalid_0's binary_logloss: 0.455436\tvalid_0's auc: 0.855289\n",
      "[95]\tvalid_0's binary_logloss: 0.455708\tvalid_0's auc: 0.855348\n",
      "[96]\tvalid_0's binary_logloss: 0.455816\tvalid_0's auc: 0.855378\n",
      "[97]\tvalid_0's binary_logloss: 0.456085\tvalid_0's auc: 0.855322\n",
      "[98]\tvalid_0's binary_logloss: 0.456292\tvalid_0's auc: 0.855364\n",
      "[99]\tvalid_0's binary_logloss: 0.456312\tvalid_0's auc: 0.855311\n",
      "[100]\tvalid_0's binary_logloss: 0.456002\tvalid_0's auc: 0.855527\n",
      "[101]\tvalid_0's binary_logloss: 0.452153\tvalid_0's auc: 0.855467\n",
      "[102]\tvalid_0's binary_logloss: 0.452362\tvalid_0's auc: 0.855499\n",
      "[103]\tvalid_0's binary_logloss: 0.45347\tvalid_0's auc: 0.85553\n",
      "[104]\tvalid_0's binary_logloss: 0.454832\tvalid_0's auc: 0.855724\n",
      "[105]\tvalid_0's binary_logloss: 0.451887\tvalid_0's auc: 0.855735\n",
      "[106]\tvalid_0's binary_logloss: 0.452489\tvalid_0's auc: 0.855756\n",
      "[107]\tvalid_0's binary_logloss: 0.454027\tvalid_0's auc: 0.855837\n",
      "[108]\tvalid_0's binary_logloss: 0.455225\tvalid_0's auc: 0.855706\n",
      "[109]\tvalid_0's binary_logloss: 0.45688\tvalid_0's auc: 0.855706\n",
      "[110]\tvalid_0's binary_logloss: 0.457036\tvalid_0's auc: 0.855724\n",
      "[111]\tvalid_0's binary_logloss: 0.456518\tvalid_0's auc: 0.855625\n",
      "[112]\tvalid_0's binary_logloss: 0.456202\tvalid_0's auc: 0.855481\n",
      "[113]\tvalid_0's binary_logloss: 0.455938\tvalid_0's auc: 0.855617\n",
      "[114]\tvalid_0's binary_logloss: 0.45578\tvalid_0's auc: 0.85553\n",
      "[115]\tvalid_0's binary_logloss: 0.455529\tvalid_0's auc: 0.855466\n",
      "[116]\tvalid_0's binary_logloss: 0.455287\tvalid_0's auc: 0.855384\n",
      "[117]\tvalid_0's binary_logloss: 0.456938\tvalid_0's auc: 0.855372\n",
      "[118]\tvalid_0's binary_logloss: 0.455903\tvalid_0's auc: 0.855336\n",
      "[119]\tvalid_0's binary_logloss: 0.456287\tvalid_0's auc: 0.855387\n",
      "[120]\tvalid_0's binary_logloss: 0.456258\tvalid_0's auc: 0.855372\n",
      "[121]\tvalid_0's binary_logloss: 0.456258\tvalid_0's auc: 0.855444\n",
      "[122]\tvalid_0's binary_logloss: 0.456403\tvalid_0's auc: 0.855473\n",
      "[123]\tvalid_0's binary_logloss: 0.455854\tvalid_0's auc: 0.855369\n",
      "[124]\tvalid_0's binary_logloss: 0.455486\tvalid_0's auc: 0.855306\n",
      "[125]\tvalid_0's binary_logloss: 0.455947\tvalid_0's auc: 0.855301\n",
      "[126]\tvalid_0's binary_logloss: 0.456385\tvalid_0's auc: 0.85532\n",
      "[127]\tvalid_0's binary_logloss: 0.455765\tvalid_0's auc: 0.855223\n",
      "[128]\tvalid_0's binary_logloss: 0.455981\tvalid_0's auc: 0.855251\n",
      "[129]\tvalid_0's binary_logloss: 0.455492\tvalid_0's auc: 0.855129\n",
      "[130]\tvalid_0's binary_logloss: 0.454659\tvalid_0's auc: 0.855435\n",
      "[131]\tvalid_0's binary_logloss: 0.454436\tvalid_0's auc: 0.855501\n",
      "[132]\tvalid_0's binary_logloss: 0.454474\tvalid_0's auc: 0.855458\n",
      "[133]\tvalid_0's binary_logloss: 0.454462\tvalid_0's auc: 0.855408\n",
      "[134]\tvalid_0's binary_logloss: 0.450926\tvalid_0's auc: 0.855415\n",
      "[135]\tvalid_0's binary_logloss: 0.452552\tvalid_0's auc: 0.855558\n",
      "[136]\tvalid_0's binary_logloss: 0.448217\tvalid_0's auc: 0.855453\n",
      "[137]\tvalid_0's binary_logloss: 0.448867\tvalid_0's auc: 0.855522\n",
      "[138]\tvalid_0's binary_logloss: 0.451626\tvalid_0's auc: 0.855432\n",
      "[139]\tvalid_0's binary_logloss: 0.452842\tvalid_0's auc: 0.855343\n",
      "[140]\tvalid_0's binary_logloss: 0.453838\tvalid_0's auc: 0.855407\n",
      "[141]\tvalid_0's binary_logloss: 0.453791\tvalid_0's auc: 0.855427\n",
      "[142]\tvalid_0's binary_logloss: 0.45384\tvalid_0's auc: 0.855416\n",
      "[143]\tvalid_0's binary_logloss: 0.453971\tvalid_0's auc: 0.855376\n",
      "[144]\tvalid_0's binary_logloss: 0.453956\tvalid_0's auc: 0.855381\n",
      "[145]\tvalid_0's binary_logloss: 0.453952\tvalid_0's auc: 0.855351\n",
      "[146]\tvalid_0's binary_logloss: 0.454983\tvalid_0's auc: 0.855403\n",
      "[147]\tvalid_0's binary_logloss: 0.454834\tvalid_0's auc: 0.855456\n",
      "[148]\tvalid_0's binary_logloss: 0.455883\tvalid_0's auc: 0.855446\n",
      "[149]\tvalid_0's binary_logloss: 0.45479\tvalid_0's auc: 0.855385\n",
      "[150]\tvalid_0's binary_logloss: 0.454255\tvalid_0's auc: 0.855314\n",
      "[151]\tvalid_0's binary_logloss: 0.452506\tvalid_0's auc: 0.855329\n",
      "[152]\tvalid_0's binary_logloss: 0.450601\tvalid_0's auc: 0.855352\n",
      "[153]\tvalid_0's binary_logloss: 0.452291\tvalid_0's auc: 0.855341\n",
      "[154]\tvalid_0's binary_logloss: 0.452245\tvalid_0's auc: 0.855393\n",
      "[155]\tvalid_0's binary_logloss: 0.452918\tvalid_0's auc: 0.855441\n",
      "[156]\tvalid_0's binary_logloss: 0.452875\tvalid_0's auc: 0.85549\n",
      "[157]\tvalid_0's binary_logloss: 0.45302\tvalid_0's auc: 0.855501\n",
      "[158]\tvalid_0's binary_logloss: 0.452924\tvalid_0's auc: 0.855529\n",
      "[159]\tvalid_0's binary_logloss: 0.453047\tvalid_0's auc: 0.855574\n",
      "[160]\tvalid_0's binary_logloss: 0.452882\tvalid_0's auc: 0.8556\n",
      "[161]\tvalid_0's binary_logloss: 0.453275\tvalid_0's auc: 0.855719\n",
      "Early stopping, best iteration is:\n",
      "[61]\tvalid_0's binary_logloss: 0.445158\tvalid_0's auc: 0.854791\n"
     ]
    }
   ],
   "source": [
    "test = lgb.train(params, train_set = train_data, valid_sets = test_data, early_stopping_rounds=100, evals_result = eval_metrics)"
   ]
  },
  {
   "cell_type": "code",
   "execution_count": 23,
   "metadata": {},
   "outputs": [],
   "source": [
    "preds = test.predict(X_test)"
   ]
  },
  {
   "cell_type": "code",
   "execution_count": 24,
   "metadata": {},
   "outputs": [
    {
     "name": "stdout",
     "output_type": "stream",
     "text": [
      "Model 4 accuracy: 0.7399797362964697\n",
      "Model 4 auc: 0.7572219702837143\n",
      "[[ 57993  16546]\n",
      " [210064 586906]]\n",
      "              precision    recall  f1-score   support\n",
      "\n",
      "           0       0.22      0.78      0.34     74539\n",
      "           1       0.97      0.74      0.84    796970\n",
      "\n",
      "    accuracy                           0.74    871509\n",
      "   macro avg       0.59      0.76      0.59    871509\n",
      "weighted avg       0.91      0.74      0.80    871509\n",
      "\n"
     ]
    }
   ],
   "source": [
    "y_max = []\n",
    "for x in preds:\n",
    "    if x > 0.5:\n",
    "        y_max.append(1)\n",
    "    else:\n",
    "        y_max.append(0)\n",
    "accuracy = accuracy_score(y_test, y_max)\n",
    "cm = confusion_matrix(y_test, y_max)\n",
    "report = classification_report(y_test,y_max)\n",
    "auc = roc_auc_score(y_test, y_max)\n",
    "print('Model {0} accuracy: {1}'.format(i, accuracy))\n",
    "print('Model {0} auc: {1}'.format(i,auc))\n",
    "print(cm)\n",
    "print(report)"
   ]
  },
  {
   "cell_type": "code",
   "execution_count": 25,
   "metadata": {},
   "outputs": [
    {
     "data": {
      "text/plain": [
       "<lightgbm.basic.Booster at 0x7f26c83c6eb8>"
      ]
     },
     "execution_count": 25,
     "metadata": {},
     "output_type": "execute_result"
    }
   ],
   "source": [
    "test.save_model(\"final.txt\")"
   ]
  },
  {
   "cell_type": "code",
   "execution_count": null,
   "metadata": {},
   "outputs": [],
   "source": [
    "bst = lgb.Booster(model_file='final.txt')"
   ]
  },
  {
   "cell_type": "code",
   "execution_count": 26,
   "metadata": {},
   "outputs": [
    {
     "name": "stdout",
     "output_type": "stream",
     "text": [
      "Copying file://final.txt [Content-Type=text/plain]...\n",
      "- [1 files][253.6 KiB/253.6 KiB]                                                \n",
      "Operation completed over 1 objects/253.6 KiB.                                    \n"
     ]
    }
   ],
   "source": [
    "!gsutil cp final.txt gs://kaggle-days-sf"
   ]
  },
  {
   "cell_type": "code",
   "execution_count": null,
   "metadata": {},
   "outputs": [],
   "source": []
  }
 ],
 "metadata": {
  "kernelspec": {
   "display_name": "Python 3",
   "language": "python",
   "name": "python3"
  },
  "language_info": {
   "codemirror_mode": {
    "name": "ipython",
    "version": 3
   },
   "file_extension": ".py",
   "mimetype": "text/x-python",
   "name": "python",
   "nbconvert_exporter": "python",
   "pygments_lexer": "ipython3",
   "version": "3.5.3"
  }
 },
 "nbformat": 4,
 "nbformat_minor": 4
}
