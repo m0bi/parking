{
 "cells": [
  {
   "cell_type": "code",
   "execution_count": 2,
   "metadata": {},
   "outputs": [],
   "source": [
    "import lightgbm as lgb\n",
    "import pickle\n",
    "import pandas as pd\n",
    "from sklearn.model_selection import train_test_split\n",
    "from sklearn.metrics import accuracy_score, confusion_matrix, classification_report, roc_auc_score\n",
    "import numpy as np"
   ]
  },
  {
   "cell_type": "code",
   "execution_count": 3,
   "metadata": {},
   "outputs": [],
   "source": [
    "train = pd.read_pickle('./data/mean_train.pkl')\n",
    "test = pd.read_pickle('./data/mean_test.pkl')"
   ]
  },
  {
   "cell_type": "code",
   "execution_count": 4,
   "metadata": {},
   "outputs": [],
   "source": [
    "with open('./data/' \"y.pkl\", 'rb') as pickle_file:\n",
    "    y = pickle.load(pickle_file)"
   ]
  },
  {
   "cell_type": "code",
   "execution_count": 6,
   "metadata": {},
   "outputs": [
    {
     "name": "stdout",
     "output_type": "stream",
     "text": [
      "4357544 4357544\n"
     ]
    }
   ],
   "source": [
    "print(len(train), len(y))"
   ]
  },
  {
   "cell_type": "code",
   "execution_count": 7,
   "metadata": {},
   "outputs": [
    {
     "name": "stdout",
     "output_type": "stream",
     "text": [
      "0.0852154332807655\n"
     ]
    }
   ],
   "source": [
    "zeros = 0\n",
    "for x in y:\n",
    "    if x == 0:\n",
    "        zeros += 1\n",
    "print(zeros/len(y))"
   ]
  },
  {
   "cell_type": "code",
   "execution_count": 8,
   "metadata": {},
   "outputs": [],
   "source": [
    "X_train, X_test, y_train, y_test = train_test_split(train,y,test_size=0.2)"
   ]
  },
  {
   "cell_type": "code",
   "execution_count": 9,
   "metadata": {},
   "outputs": [
    {
     "data": {
      "text/plain": [
       "Issue Date                 int64\n",
       "Issue time               float64\n",
       "Meter Id                 float64\n",
       "Marked Time              float64\n",
       "RP State Plate           float64\n",
       "Plate Expiry Date        float64\n",
       "VIN                      float64\n",
       "Body Style               float64\n",
       "Color                    float64\n",
       "Location                 float64\n",
       "Route                    float64\n",
       "Agency                   float64\n",
       "Violation code           float64\n",
       "Violation Description    float64\n",
       "Fine amount              float64\n",
       "Latitude                 float64\n",
       "Longitude                float64\n",
       "crime_clusters             int32\n",
       "total_clusters             int32\n",
       "Issue_time               float64\n",
       "dtype: object"
      ]
     },
     "execution_count": 9,
     "metadata": {},
     "output_type": "execute_result"
    }
   ],
   "source": [
    "X_train.dtypes"
   ]
  },
  {
   "cell_type": "code",
   "execution_count": 10,
   "metadata": {},
   "outputs": [],
   "source": [
    "categorical_features = ['Issue Date', 'crime_clusters', 'total_clusters']\n",
    "train_data = lgb.Dataset(data=X_train, label=y_train, categorical_feature=categorical_features, free_raw_data=False)\n",
    "test_data = lgb.Dataset(data=X_test, label=y_test, categorical_feature=categorical_features, free_raw_data=False)"
   ]
  },
  {
   "cell_type": "code",
   "execution_count": 11,
   "metadata": {},
   "outputs": [],
   "source": [
    "#best parameters so far\n",
    "params = {\n",
    "    'is_unbalance': True,\n",
    "    'objective': 'binary',\n",
    "    'boosting': 'DART',\n",
    "    'learning_rate': 0.55,\n",
    "    'min_data_in_leaf': 100,\n",
    "    'min_sum_hessian_in_leaf': 1e-4,\n",
    "    'num_iterations': 5000,\n",
    "    'num_leaves': 24,\n",
    "    'max_depth': 60,\n",
    "    'num_threads': -1,\n",
    "    'reg_alpha': 100, # L1 regularization\n",
    "    'reg_lambda': 50, # L2 regularization\n",
    "    'bagging_fraction': 0.8,\n",
    "    'bagging_frequency': 0.7,\n",
    "    'subsample': 0.8, # subsample ratio of the training instance\n",
    "    'feature_fraction_bynode': 0.8,\n",
    "    'colsample_bytree': 0.8, # subsample ratio of columns when constructing the tree\n",
    "    'min_split_gain': 0.8, # minimum loss reduction required to make further partition on a leaf node of the tree\n",
    "    'min_child_weight': 1e-3, # minimum sum of instance weight (hessian) needed in a leaf\n",
    "    'min_child_samples': 50,# minimum number of data needed in a leaf\n",
    "    'metrics': ['auc', 'binary_logloss'],\n",
    "    'pred_contrib': False\n",
    "}"
   ]
  },
  {
   "cell_type": "code",
   "execution_count": 15,
   "metadata": {},
   "outputs": [],
   "source": [
    "#trial run\n",
    "params = {\n",
    "    'is_unbalance': True,\n",
    "    'objective': 'binary',\n",
    "    'boosting': 'DART',\n",
    "    'learning_rate': 0.01,\n",
    "    'min_data_in_leaf': 50,\n",
    "    'min_sum_hessian_in_leaf': 1e-4,\n",
    "    'num_iterations': 5000,\n",
    "    'num_leaves': 24,\n",
    "    'max_depth': -1,\n",
    "    'num_threads': -1,\n",
    "    'reg_alpha': 100, # L1 regularization\n",
    "    'reg_lambda': 50, # L2 regularization\n",
    "    'bagging_fraction': 0.8,\n",
    "    'bagging_frequency': 0.7,\n",
    "    'subsample': 0.8, # subsample ratio of the training instance\n",
    "    'feature_fraction_bynode': 0.8,\n",
    "    'colsample_bytree': 0.8, # subsample ratio of columns when constructing the tree\n",
    "    'min_split_gain': 0.6, # minimum loss reduction required to make further partition on a leaf node of the tree\n",
    "    'min_child_weight': 1e-3, # minimum sum of instance weight (hessian) needed in a leaf\n",
    "    'min_child_samples': 50,# minimum number of data needed in a leaf\n",
    "    'metrics': ['auc', 'binary_logloss'],\n",
    "    'pred_contrib': False\n",
    "}"
   ]
  },
  {
   "cell_type": "code",
   "execution_count": 12,
   "metadata": {},
   "outputs": [],
   "source": [
    "class ModelExtractionCallback(object):\n",
    "    \"\"\"Callback class for retrieving trained model from lightgbm.cv()\n",
    "    NOTE: This class depends on '_CVBooster' which is hidden class, so it might doesn't work if the specification is changed.\n",
    "    \"\"\"\n",
    "\n",
    "    def __init__(self):\n",
    "        self._model = None\n",
    "\n",
    "    def __call__(self, env):\n",
    "        # Saving _CVBooster object.\n",
    "        self._model = env.model\n",
    "\n",
    "    def _assert_called_cb(self):\n",
    "        if self._model is None:\n",
    "            # Throw exception if the callback class is not called.\n",
    "            raise RuntimeError('callback has not called yet')\n",
    "\n",
    "    @property\n",
    "    def boosters_proxy(self):\n",
    "        self._assert_called_cb()\n",
    "        # return Booster object\n",
    "        return self._model\n",
    "\n",
    "    @property\n",
    "    def raw_boosters(self):\n",
    "        self._assert_called_cb()\n",
    "        # return list of Booster\n",
    "        return self._model.boosters\n",
    "  \n",
    "    @property\n",
    "    def best_iteration(self):\n",
    "        self._assert_called_cb()\n",
    "        # return boosting round when early stopping.\n",
    "        return self._model.best_iteration"
   ]
  },
  {
   "cell_type": "code",
   "execution_count": 13,
   "metadata": {},
   "outputs": [
    {
     "name": "stderr",
     "output_type": "stream",
     "text": [
      "/usr/local/lib/python3.5/dist-packages/lightgbm/engine.py:430: UserWarning: Found `num_iterations` in params. Will use it instead of argument\n",
      "  warnings.warn(\"Found `{}` in params. Will use it instead of argument\".format(alias))\n",
      "/usr/local/lib/python3.5/dist-packages/lightgbm/basic.py:1205: UserWarning: Using categorical_feature in Dataset.\n",
      "  warnings.warn('Using categorical_feature in Dataset.')\n"
     ]
    }
   ],
   "source": [
    "extraction_cb = ModelExtractionCallback()\n",
    "eval_metrics = lgb.cv(params,train_set = train_data, early_stopping_rounds=100, callbacks=[extraction_cb])"
   ]
  },
  {
   "cell_type": "code",
   "execution_count": 14,
   "metadata": {},
   "outputs": [],
   "source": [
    "proxy = extraction_cb.boosters_proxy\n",
    "pickle.dump( proxy, open( \"proxy.pkl\", \"wb\" ) )\n",
    "boosters = extraction_cb.raw_boosters\n",
    "pickle.dump( boosters, open( \"boosters.pkl\", \"wb\" ) )\n",
    "best_iteration = extraction_cb.best_iteration\n",
    "pickle.dump( best_iteration, open( \"proxy.pkl\", \"wb\" ) )"
   ]
  },
  {
   "cell_type": "code",
   "execution_count": 15,
   "metadata": {},
   "outputs": [
    {
     "name": "stdout",
     "output_type": "stream",
     "text": [
      "[0.97949481 0.98254047 0.47614369 ... 0.97876313 0.97255605 0.25273814]\n",
      "Model 0 accuracy: 0.7424708178573027\n",
      "Model 0 auc: 0.7553334088114207\n",
      "[[ 57244  17018]\n",
      " [207421 589826]]\n",
      "              precision    recall  f1-score   support\n",
      "\n",
      "           0       0.22      0.77      0.34     74262\n",
      "           1       0.97      0.74      0.84    797247\n",
      "\n",
      "    accuracy                           0.74    871509\n",
      "   macro avg       0.59      0.76      0.59    871509\n",
      "weighted avg       0.91      0.74      0.80    871509\n",
      "\n",
      "[0.9828221  0.98256603 0.48246059 ... 0.97644349 0.97706504 0.26424157]\n",
      "Model 1 accuracy: 0.7431294455937919\n",
      "Model 1 auc: 0.7555102248115975\n",
      "[[ 57214  17048]\n",
      " [206817 590430]]\n",
      "              precision    recall  f1-score   support\n",
      "\n",
      "           0       0.22      0.77      0.34     74262\n",
      "           1       0.97      0.74      0.84    797247\n",
      "\n",
      "    accuracy                           0.74    871509\n",
      "   macro avg       0.59      0.76      0.59    871509\n",
      "weighted avg       0.91      0.74      0.80    871509\n",
      "\n",
      "[0.97477888 0.98476516 0.4775255  ... 0.97950534 0.98475989 0.26694619]\n",
      "Model 2 accuracy: 0.7398810568795045\n",
      "Model 2 auc: 0.7553527664242303\n",
      "[[ 57479  16783]\n",
      " [209913 587334]]\n",
      "              precision    recall  f1-score   support\n",
      "\n",
      "           0       0.21      0.77      0.34     74262\n",
      "           1       0.97      0.74      0.84    797247\n",
      "\n",
      "    accuracy                           0.74    871509\n",
      "   macro avg       0.59      0.76      0.59    871509\n",
      "weighted avg       0.91      0.74      0.80    871509\n",
      "\n",
      "[0.97721439 0.98619453 0.51176453 ... 0.98282699 0.97678034 0.28173096]\n",
      "Model 3 accuracy: 0.7411684790403771\n",
      "Model 3 auc: 0.7557694671960766\n",
      "[[ 57432  16830]\n",
      " [208744 588503]]\n",
      "              precision    recall  f1-score   support\n",
      "\n",
      "           0       0.22      0.77      0.34     74262\n",
      "           1       0.97      0.74      0.84    797247\n",
      "\n",
      "    accuracy                           0.74    871509\n",
      "   macro avg       0.59      0.76      0.59    871509\n",
      "weighted avg       0.91      0.74      0.80    871509\n",
      "\n",
      "[0.96794911 0.98919306 0.50304022 ... 0.98416659 0.98331481 0.25735307]\n",
      "Model 4 accuracy: 0.7425442537024861\n",
      "Model 4 auc: 0.7556055658310844\n",
      "[[ 57282  16980]\n",
      " [207395 589852]]\n",
      "              precision    recall  f1-score   support\n",
      "\n",
      "           0       0.22      0.77      0.34     74262\n",
      "           1       0.97      0.74      0.84    797247\n",
      "\n",
      "    accuracy                           0.74    871509\n",
      "   macro avg       0.59      0.76      0.59    871509\n",
      "weighted avg       0.91      0.74      0.80    871509\n",
      "\n"
     ]
    }
   ],
   "source": [
    "for i, booster in enumerate(boosters                                                                                ):\n",
    "    y_pred_proba = booster.predict(X_test,\n",
    "                                   num_iteration=best_iteration)\n",
    "    print(y_pred_proba)\n",
    "    #y_pred = np.argmax(y_pred_proba, axis=1)\n",
    "    y_max = []\n",
    "    for x in y_pred_proba:\n",
    "        if x > 0.5:\n",
    "            y_max.append(1)\n",
    "        else:\n",
    "            y_max.append(0)\n",
    "    accuracy = accuracy_score(y_test, y_max)\n",
    "    cm = confusion_matrix(y_test, y_max)\n",
    "    report = classification_report(y_test,y_max)\n",
    "    auc = roc_auc_score(y_test, y_max)\n",
    "  #  log = log_loss(y_test, y_max)\n",
    "    print('Model {0} accuracy: {1}'.format(i, accuracy))\n",
    "    print('Model {0} auc: {1}'.format(i,auc))\n",
    "    print(cm)\n",
    "    print(report)"
   ]
  },
  {
   "cell_type": "code",
   "execution_count": 16,
   "metadata": {},
   "outputs": [
    {
     "data": {
      "text/plain": [
       "61"
      ]
     },
     "execution_count": 16,
     "metadata": {},
     "output_type": "execute_result"
    }
   ],
   "source": [
    "evaluation = pd.DataFrame.from_dict(eval_metrics)\n",
    "pickle.dump( evaluation, open( \"eval_dart.pkl\", \"wb\" ) )\n",
    "len(evaluation)"
   ]
  },
  {
   "cell_type": "code",
   "execution_count": 17,
   "metadata": {},
   "outputs": [
    {
     "data": {
      "text/plain": [
       "<matplotlib.axes._subplots.AxesSubplot at 0x7fdd81276c88>"
      ]
     },
     "execution_count": 17,
     "metadata": {},
     "output_type": "execute_result"
    },
    {
     "data": {
      "image/png": "[encoded data removed]",
      "text/plain": [
       "<Figure size 432x288 with 1 Axes>"
      ]
     },
     "metadata": {
      "needs_background": "light"
     },
     "output_type": "display_data"
    }
   ],
   "source": [
    "evaluation['auc-mean'].plot(kind='line')"
   ]
  },
  {
   "cell_type": "code",
   "execution_count": 18,
   "metadata": {},
   "outputs": [
    {
     "data": {
      "text/plain": [
       "<matplotlib.axes._subplots.AxesSubplot at 0x7fdd729d1978>"
      ]
     },
     "execution_count": 18,
     "metadata": {},
     "output_type": "execute_result"
    },
    {
     "data": {
      "image/png": "[encoded data removed]",
      "text/plain": [
       "<Figure size 432x288 with 1 Axes>"
      ]
     },
     "metadata": {
      "needs_background": "light"
     },
     "output_type": "display_data"
    }
   ],
   "source": [
    "evaluation['auc-stdv'].plot(kind='line')"
   ]
  },
  {
   "cell_type": "code",
   "execution_count": 19,
   "metadata": {},
   "outputs": [
    {
     "data": {
      "text/plain": [
       "<matplotlib.axes._subplots.AxesSubplot at 0x7fdd7299d358>"
      ]
     },
     "execution_count": 19,
     "metadata": {},
     "output_type": "execute_result"
    },
    {
     "data": {
      "image/png": "[encoded data removed]",
      "text/plain": [
       "<Figure size 432x288 with 1 Axes>"
      ]
     },
     "metadata": {
      "needs_background": "light"
     },
     "output_type": "display_data"
    }
   ],
   "source": [
    "evaluation['binary_logloss-mean'].plot(kind='line')"
   ]
  },
  {
   "cell_type": "code",
   "execution_count": 20,
   "metadata": {},
   "outputs": [
    {
     "data": {
      "text/plain": [
       "<matplotlib.axes._subplots.AxesSubplot at 0x7fdd72950940>"
      ]
     },
     "execution_count": 20,
     "metadata": {},
     "output_type": "execute_result"
    },
    {
     "data": {
      "image/png": "[encoded data removed]",
      "text/plain": [
       "<Figure size 432x288 with 1 Axes>"
      ]
     },
     "metadata": {
      "needs_background": "light"
     },
     "output_type": "display_data"
    }
   ],
   "source": [
    "evaluation['binary_logloss-stdv'].plot(kind='line')"
   ]
  },
  {
   "cell_type": "code",
   "execution_count": 21,
   "metadata": {},
   "outputs": [],
   "source": [
    "pickle.dump( params, open( \"params.pkl\", \"wb\" ) )"
   ]
  },
  {
   "cell_type": "code",
   "execution_count": 22,
   "metadata": {},
   "outputs": [
    {
     "name": "stderr",
     "output_type": "stream",
     "text": [
      "/usr/local/lib/python3.5/dist-packages/lightgbm/engine.py:118: UserWarning: Found `num_iterations` in params. Will use it instead of argument\n",
      "  warnings.warn(\"Found `{}` in params. Will use it instead of argument\".format(alias))\n",
      "/usr/local/lib/python3.5/dist-packages/lightgbm/basic.py:1205: UserWarning: Using categorical_feature in Dataset.\n",
      "  warnings.warn('Using categorical_feature in Dataset.')\n"
     ]
    },
    {
     "name": "stdout",
     "output_type": "stream",
     "text": [
      "[1]\tvalid_0's binary_logloss: 0.703103\tvalid_0's auc: 0.840275\n",
      "Training until validation scores don't improve for 100 rounds.\n",
      "[2]\tvalid_0's binary_logloss: 0.536937\tvalid_0's auc: 0.839838\n",
      "[3]\tvalid_0's binary_logloss: 0.504786\tvalid_0's auc: 0.844059\n",
      "[4]\tvalid_0's binary_logloss: 0.489494\tvalid_0's auc: 0.847331\n",
      "[5]\tvalid_0's binary_logloss: 0.482437\tvalid_0's auc: 0.848162\n",
      "[6]\tvalid_0's binary_logloss: 0.477917\tvalid_0's auc: 0.849053\n",
      "[7]\tvalid_0's binary_logloss: 0.475812\tvalid_0's auc: 0.85009\n",
      "[8]\tvalid_0's binary_logloss: 0.494138\tvalid_0's auc: 0.850195\n",
      "[9]\tvalid_0's binary_logloss: 0.479804\tvalid_0's auc: 0.851602\n",
      "[10]\tvalid_0's binary_logloss: 0.474966\tvalid_0's auc: 0.851666\n",
      "[11]\tvalid_0's binary_logloss: 0.47238\tvalid_0's auc: 0.851998\n",
      "[12]\tvalid_0's binary_logloss: 0.472875\tvalid_0's auc: 0.85211\n",
      "[13]\tvalid_0's binary_logloss: 0.471127\tvalid_0's auc: 0.852049\n",
      "[14]\tvalid_0's binary_logloss: 0.469708\tvalid_0's auc: 0.852189\n",
      "[15]\tvalid_0's binary_logloss: 0.468506\tvalid_0's auc: 0.852796\n",
      "[16]\tvalid_0's binary_logloss: 0.468084\tvalid_0's auc: 0.852942\n",
      "[17]\tvalid_0's binary_logloss: 0.467536\tvalid_0's auc: 0.852993\n",
      "[18]\tvalid_0's binary_logloss: 0.466672\tvalid_0's auc: 0.853418\n",
      "[19]\tvalid_0's binary_logloss: 0.466401\tvalid_0's auc: 0.853431\n",
      "[20]\tvalid_0's binary_logloss: 0.466075\tvalid_0's auc: 0.853348\n",
      "[21]\tvalid_0's binary_logloss: 0.466411\tvalid_0's auc: 0.85356\n",
      "[22]\tvalid_0's binary_logloss: 0.465987\tvalid_0's auc: 0.853449\n",
      "[23]\tvalid_0's binary_logloss: 0.465482\tvalid_0's auc: 0.8535\n",
      "[24]\tvalid_0's binary_logloss: 0.465128\tvalid_0's auc: 0.85345\n",
      "[25]\tvalid_0's binary_logloss: 0.464819\tvalid_0's auc: 0.853405\n",
      "[26]\tvalid_0's binary_logloss: 0.464487\tvalid_0's auc: 0.853342\n",
      "[27]\tvalid_0's binary_logloss: 0.463978\tvalid_0's auc: 0.853526\n",
      "[28]\tvalid_0's binary_logloss: 0.464112\tvalid_0's auc: 0.853484\n",
      "[29]\tvalid_0's binary_logloss: 0.463496\tvalid_0's auc: 0.853595\n",
      "[30]\tvalid_0's binary_logloss: 0.463142\tvalid_0's auc: 0.853472\n",
      "[31]\tvalid_0's binary_logloss: 0.463134\tvalid_0's auc: 0.853432\n",
      "[32]\tvalid_0's binary_logloss: 0.462628\tvalid_0's auc: 0.853498\n",
      "[33]\tvalid_0's binary_logloss: 0.462585\tvalid_0's auc: 0.853389\n",
      "[34]\tvalid_0's binary_logloss: 0.46219\tvalid_0's auc: 0.853624\n",
      "[35]\tvalid_0's binary_logloss: 0.462291\tvalid_0's auc: 0.853695\n",
      "[36]\tvalid_0's binary_logloss: 0.463157\tvalid_0's auc: 0.853778\n",
      "[37]\tvalid_0's binary_logloss: 0.462396\tvalid_0's auc: 0.853993\n",
      "[38]\tvalid_0's binary_logloss: 0.461955\tvalid_0's auc: 0.853908\n",
      "[39]\tvalid_0's binary_logloss: 0.461707\tvalid_0's auc: 0.853852\n",
      "[40]\tvalid_0's binary_logloss: 0.467387\tvalid_0's auc: 0.853962\n",
      "[41]\tvalid_0's binary_logloss: 0.467308\tvalid_0's auc: 0.85396\n",
      "[42]\tvalid_0's binary_logloss: 0.463638\tvalid_0's auc: 0.854073\n",
      "[43]\tvalid_0's binary_logloss: 0.463604\tvalid_0's auc: 0.854078\n",
      "[44]\tvalid_0's binary_logloss: 0.46198\tvalid_0's auc: 0.854046\n",
      "[45]\tvalid_0's binary_logloss: 0.461309\tvalid_0's auc: 0.853914\n",
      "[46]\tvalid_0's binary_logloss: 0.452282\tvalid_0's auc: 0.853824\n",
      "[47]\tvalid_0's binary_logloss: 0.456327\tvalid_0's auc: 0.854006\n",
      "[48]\tvalid_0's binary_logloss: 0.457394\tvalid_0's auc: 0.854096\n",
      "[49]\tvalid_0's binary_logloss: 0.457949\tvalid_0's auc: 0.85416\n",
      "[50]\tvalid_0's binary_logloss: 0.457993\tvalid_0's auc: 0.854201\n",
      "[51]\tvalid_0's binary_logloss: 0.458837\tvalid_0's auc: 0.854468\n",
      "[52]\tvalid_0's binary_logloss: 0.459241\tvalid_0's auc: 0.85447\n",
      "[53]\tvalid_0's binary_logloss: 0.459078\tvalid_0's auc: 0.854404\n",
      "[54]\tvalid_0's binary_logloss: 0.459365\tvalid_0's auc: 0.85429\n",
      "[55]\tvalid_0's binary_logloss: 0.459169\tvalid_0's auc: 0.854258\n",
      "[56]\tvalid_0's binary_logloss: 0.460136\tvalid_0's auc: 0.854254\n",
      "[57]\tvalid_0's binary_logloss: 0.459727\tvalid_0's auc: 0.854371\n",
      "[58]\tvalid_0's binary_logloss: 0.448425\tvalid_0's auc: 0.854297\n",
      "[59]\tvalid_0's binary_logloss: 0.450968\tvalid_0's auc: 0.854289\n",
      "[60]\tvalid_0's binary_logloss: 0.455002\tvalid_0's auc: 0.854309\n",
      "[61]\tvalid_0's binary_logloss: 0.445608\tvalid_0's auc: 0.853962\n",
      "[62]\tvalid_0's binary_logloss: 0.452444\tvalid_0's auc: 0.854053\n",
      "[63]\tvalid_0's binary_logloss: 0.455483\tvalid_0's auc: 0.854391\n",
      "[64]\tvalid_0's binary_logloss: 0.461776\tvalid_0's auc: 0.854498\n",
      "[65]\tvalid_0's binary_logloss: 0.461401\tvalid_0's auc: 0.854612\n",
      "[66]\tvalid_0's binary_logloss: 0.459613\tvalid_0's auc: 0.854739\n",
      "[67]\tvalid_0's binary_logloss: 0.458726\tvalid_0's auc: 0.854708\n",
      "[68]\tvalid_0's binary_logloss: 0.458297\tvalid_0's auc: 0.854684\n",
      "[69]\tvalid_0's binary_logloss: 0.458741\tvalid_0's auc: 0.854719\n",
      "[70]\tvalid_0's binary_logloss: 0.458764\tvalid_0's auc: 0.854746\n",
      "[71]\tvalid_0's binary_logloss: 0.459699\tvalid_0's auc: 0.854696\n",
      "[72]\tvalid_0's binary_logloss: 0.458801\tvalid_0's auc: 0.854576\n",
      "[73]\tvalid_0's binary_logloss: 0.458128\tvalid_0's auc: 0.854668\n",
      "[74]\tvalid_0's binary_logloss: 0.458344\tvalid_0's auc: 0.854644\n",
      "[75]\tvalid_0's binary_logloss: 0.458002\tvalid_0's auc: 0.854574\n",
      "[76]\tvalid_0's binary_logloss: 0.457969\tvalid_0's auc: 0.854718\n",
      "[77]\tvalid_0's binary_logloss: 0.457711\tvalid_0's auc: 0.85473\n",
      "[78]\tvalid_0's binary_logloss: 0.460688\tvalid_0's auc: 0.854797\n",
      "[79]\tvalid_0's binary_logloss: 0.459169\tvalid_0's auc: 0.854735\n",
      "[80]\tvalid_0's binary_logloss: 0.458154\tvalid_0's auc: 0.854652\n",
      "[81]\tvalid_0's binary_logloss: 0.457642\tvalid_0's auc: 0.854719\n",
      "[82]\tvalid_0's binary_logloss: 0.457385\tvalid_0's auc: 0.854679\n",
      "[83]\tvalid_0's binary_logloss: 0.457447\tvalid_0's auc: 0.854671\n",
      "[84]\tvalid_0's binary_logloss: 0.457639\tvalid_0's auc: 0.854704\n",
      "[85]\tvalid_0's binary_logloss: 0.457788\tvalid_0's auc: 0.854726\n",
      "[86]\tvalid_0's binary_logloss: 0.457561\tvalid_0's auc: 0.85465\n",
      "[87]\tvalid_0's binary_logloss: 0.457323\tvalid_0's auc: 0.854683\n",
      "[88]\tvalid_0's binary_logloss: 0.457793\tvalid_0's auc: 0.854729\n",
      "[89]\tvalid_0's binary_logloss: 0.458765\tvalid_0's auc: 0.854755\n",
      "[90]\tvalid_0's binary_logloss: 0.459152\tvalid_0's auc: 0.854747\n",
      "[91]\tvalid_0's binary_logloss: 0.449249\tvalid_0's auc: 0.854771\n",
      "[92]\tvalid_0's binary_logloss: 0.453498\tvalid_0's auc: 0.854695\n",
      "[93]\tvalid_0's binary_logloss: 0.45534\tvalid_0's auc: 0.854673\n",
      "[94]\tvalid_0's binary_logloss: 0.455221\tvalid_0's auc: 0.854762\n",
      "[95]\tvalid_0's binary_logloss: 0.455575\tvalid_0's auc: 0.854743\n",
      "[96]\tvalid_0's binary_logloss: 0.455712\tvalid_0's auc: 0.854755\n",
      "[97]\tvalid_0's binary_logloss: 0.456318\tvalid_0's auc: 0.854708\n",
      "[98]\tvalid_0's binary_logloss: 0.456444\tvalid_0's auc: 0.854766\n",
      "[99]\tvalid_0's binary_logloss: 0.456625\tvalid_0's auc: 0.854655\n",
      "[100]\tvalid_0's binary_logloss: 0.456632\tvalid_0's auc: 0.854641\n",
      "[101]\tvalid_0's binary_logloss: 0.452682\tvalid_0's auc: 0.854632\n",
      "[102]\tvalid_0's binary_logloss: 0.452792\tvalid_0's auc: 0.854721\n",
      "[103]\tvalid_0's binary_logloss: 0.453962\tvalid_0's auc: 0.854784\n",
      "[104]\tvalid_0's binary_logloss: 0.45543\tvalid_0's auc: 0.85494\n",
      "[105]\tvalid_0's binary_logloss: 0.452131\tvalid_0's auc: 0.854929\n",
      "[106]\tvalid_0's binary_logloss: 0.452757\tvalid_0's auc: 0.854952\n",
      "[107]\tvalid_0's binary_logloss: 0.454587\tvalid_0's auc: 0.855007\n",
      "[108]\tvalid_0's binary_logloss: 0.455707\tvalid_0's auc: 0.854966\n",
      "[109]\tvalid_0's binary_logloss: 0.457716\tvalid_0's auc: 0.854969\n",
      "[110]\tvalid_0's binary_logloss: 0.457931\tvalid_0's auc: 0.855007\n",
      "[111]\tvalid_0's binary_logloss: 0.457231\tvalid_0's auc: 0.854968\n",
      "[112]\tvalid_0's binary_logloss: 0.45664\tvalid_0's auc: 0.854915\n",
      "[113]\tvalid_0's binary_logloss: 0.456308\tvalid_0's auc: 0.854832\n",
      "[114]\tvalid_0's binary_logloss: 0.456294\tvalid_0's auc: 0.854761\n",
      "[115]\tvalid_0's binary_logloss: 0.456039\tvalid_0's auc: 0.854727\n",
      "[116]\tvalid_0's binary_logloss: 0.455872\tvalid_0's auc: 0.854643\n",
      "[117]\tvalid_0's binary_logloss: 0.457682\tvalid_0's auc: 0.85468\n",
      "[118]\tvalid_0's binary_logloss: 0.456709\tvalid_0's auc: 0.8545\n",
      "[119]\tvalid_0's binary_logloss: 0.457051\tvalid_0's auc: 0.8545\n",
      "[120]\tvalid_0's binary_logloss: 0.456937\tvalid_0's auc: 0.854515\n",
      "[121]\tvalid_0's binary_logloss: 0.456973\tvalid_0's auc: 0.854519\n",
      "[122]\tvalid_0's binary_logloss: 0.457024\tvalid_0's auc: 0.854538\n",
      "[123]\tvalid_0's binary_logloss: 0.456382\tvalid_0's auc: 0.854645\n",
      "[124]\tvalid_0's binary_logloss: 0.456068\tvalid_0's auc: 0.854539\n",
      "[125]\tvalid_0's binary_logloss: 0.456492\tvalid_0's auc: 0.854498\n",
      "[126]\tvalid_0's binary_logloss: 0.456861\tvalid_0's auc: 0.85451\n",
      "[127]\tvalid_0's binary_logloss: 0.456222\tvalid_0's auc: 0.854427\n",
      "[128]\tvalid_0's binary_logloss: 0.456025\tvalid_0's auc: 0.854452\n",
      "[129]\tvalid_0's binary_logloss: 0.455906\tvalid_0's auc: 0.85434\n",
      "[130]\tvalid_0's binary_logloss: 0.455654\tvalid_0's auc: 0.854237\n",
      "[131]\tvalid_0's binary_logloss: 0.455436\tvalid_0's auc: 0.85427\n",
      "[132]\tvalid_0's binary_logloss: 0.455474\tvalid_0's auc: 0.854156\n",
      "[133]\tvalid_0's binary_logloss: 0.455308\tvalid_0's auc: 0.854016\n",
      "[134]\tvalid_0's binary_logloss: 0.451897\tvalid_0's auc: 0.854004\n",
      "[135]\tvalid_0's binary_logloss: 0.453642\tvalid_0's auc: 0.853955\n",
      "[136]\tvalid_0's binary_logloss: 0.449262\tvalid_0's auc: 0.85395\n",
      "[137]\tvalid_0's binary_logloss: 0.44964\tvalid_0's auc: 0.853962\n",
      "[138]\tvalid_0's binary_logloss: 0.452443\tvalid_0's auc: 0.853939\n",
      "[139]\tvalid_0's binary_logloss: 0.453587\tvalid_0's auc: 0.853956\n",
      "[140]\tvalid_0's binary_logloss: 0.454762\tvalid_0's auc: 0.854003\n",
      "[141]\tvalid_0's binary_logloss: 0.454688\tvalid_0's auc: 0.854019\n",
      "[142]\tvalid_0's binary_logloss: 0.454679\tvalid_0's auc: 0.854072\n",
      "[143]\tvalid_0's binary_logloss: 0.454692\tvalid_0's auc: 0.854196\n",
      "[144]\tvalid_0's binary_logloss: 0.454671\tvalid_0's auc: 0.854235\n",
      "[145]\tvalid_0's binary_logloss: 0.454573\tvalid_0's auc: 0.854224\n",
      "[146]\tvalid_0's binary_logloss: 0.455892\tvalid_0's auc: 0.854249\n",
      "[147]\tvalid_0's binary_logloss: 0.455759\tvalid_0's auc: 0.854284\n",
      "[148]\tvalid_0's binary_logloss: 0.456903\tvalid_0's auc: 0.854293\n",
      "[149]\tvalid_0's binary_logloss: 0.4558\tvalid_0's auc: 0.854231\n",
      "[150]\tvalid_0's binary_logloss: 0.455003\tvalid_0's auc: 0.854131\n",
      "[151]\tvalid_0's binary_logloss: 0.453036\tvalid_0's auc: 0.854102\n",
      "[152]\tvalid_0's binary_logloss: 0.451028\tvalid_0's auc: 0.854106\n",
      "[153]\tvalid_0's binary_logloss: 0.452708\tvalid_0's auc: 0.85429\n",
      "[154]\tvalid_0's binary_logloss: 0.45266\tvalid_0's auc: 0.854308\n",
      "[155]\tvalid_0's binary_logloss: 0.453596\tvalid_0's auc: 0.854185\n",
      "[156]\tvalid_0's binary_logloss: 0.453566\tvalid_0's auc: 0.854235\n",
      "[157]\tvalid_0's binary_logloss: 0.45371\tvalid_0's auc: 0.854263\n",
      "[158]\tvalid_0's binary_logloss: 0.453588\tvalid_0's auc: 0.854308\n",
      "[159]\tvalid_0's binary_logloss: 0.453696\tvalid_0's auc: 0.854351\n",
      "[160]\tvalid_0's binary_logloss: 0.45353\tvalid_0's auc: 0.854422\n",
      "[161]\tvalid_0's binary_logloss: 0.454054\tvalid_0's auc: 0.854247\n",
      "Early stopping, best iteration is:\n",
      "[61]\tvalid_0's binary_logloss: 0.445608\tvalid_0's auc: 0.853962\n"
     ]
    }
   ],
   "source": [
    "test = lgb.train(params, train_set = train_data, valid_sets = test_data, early_stopping_rounds=100, evals_result = eval_metrics)"
   ]
  },
  {
   "cell_type": "code",
   "execution_count": 23,
   "metadata": {},
   "outputs": [],
   "source": [
    "preds = test.predict(X_test)"
   ]
  },
  {
   "cell_type": "code",
   "execution_count": 24,
   "metadata": {},
   "outputs": [
    {
     "name": "stdout",
     "output_type": "stream",
     "text": [
      "Model 4 accuracy: 0.7426268690283175\n",
      "Model 4 auc: 0.7560598071673572\n",
      "[[ 57349  16913]\n",
      " [207390 589857]]\n",
      "              precision    recall  f1-score   support\n",
      "\n",
      "           0       0.22      0.77      0.34     74262\n",
      "           1       0.97      0.74      0.84    797247\n",
      "\n",
      "    accuracy                           0.74    871509\n",
      "   macro avg       0.59      0.76      0.59    871509\n",
      "weighted avg       0.91      0.74      0.80    871509\n",
      "\n"
     ]
    }
   ],
   "source": [
    "y_max = []\n",
    "for x in preds:\n",
    "    if x > 0.5:\n",
    "        y_max.append(1)\n",
    "    else:\n",
    "        y_max.append(0)\n",
    "accuracy = accuracy_score(y_test, y_max)\n",
    "cm = confusion_matrix(y_test, y_max)\n",
    "report = classification_report(y_test,y_max)\n",
    "auc = roc_auc_score(y_test, y_max)\n",
    "print('Model {0} accuracy: {1}'.format(i, accuracy))\n",
    "print('Model {0} auc: {1}'.format(i,auc))\n",
    "print(cm)\n",
    "print(report)"
   ]
  },
  {
   "cell_type": "code",
   "execution_count": 25,
   "metadata": {},
   "outputs": [
    {
     "data": {
      "text/plain": [
       "<lightgbm.basic.Booster at 0x7fdd72950048>"
      ]
     },
     "execution_count": 25,
     "metadata": {},
     "output_type": "execute_result"
    }
   ],
   "source": [
    "test.save_model(\"final.txt\")"
   ]
  },
  {
   "cell_type": "code",
   "execution_count": null,
   "metadata": {},
   "outputs": [],
   "source": [
    "bst = lgb.Booster(model_file='final.txt')"
   ]
  },
  {
   "cell_type": "code",
   "execution_count": 26,
   "metadata": {},
   "outputs": [
    {
     "name": "stdout",
     "output_type": "stream",
     "text": [
      "Copying file://final.txt [Content-Type=text/plain]...\n",
      "- [1 files][253.6 KiB/253.6 KiB]                                                \n",
      "Operation completed over 1 objects/253.6 KiB.                                    \n"
     ]
    }
   ],
   "source": [
    "!gsutil cp final.txt gs://kaggle-days-sf"
   ]
  },
  {
   "cell_type": "code",
   "execution_count": null,
   "metadata": {},
   "outputs": [],
   "source": []
  }
 ],
 "metadata": {
  "kernelspec": {
   "display_name": "Python 3",
   "language": "python",
   "name": "python3"
  },
  "language_info": {
   "codemirror_mode": {
    "name": "ipython",
    "version": 3
   },
   "file_extension": ".py",
   "mimetype": "text/x-python",
   "name": "python",
   "nbconvert_exporter": "python",
   "pygments_lexer": "ipython3",
   "version": "3.5.3"
  }
 },
 "nbformat": 4,
 "nbformat_minor": 4
}
