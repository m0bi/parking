{
 "cells": [
  {
   "cell_type": "code",
   "execution_count": 216,
   "metadata": {},
   "outputs": [],
   "source": [
    "import pandas as pd\n",
    "import numpy as np\n",
    "from sklearn.preprocessing import LabelEncoder\n",
    "from sklearn.cluster import KMeans\n",
    "from sklearn.metrics import silhouette_score\n",
    "from sklearn.feature_extraction.text import HashingVectorizer"
   ]
  },
  {
   "cell_type": "code",
   "execution_count": 217,
   "metadata": {},
   "outputs": [],
   "source": [
    "data = pd.read_csv(\"./data/parking_citations.corrupted.csv\")"
   ]
  },
  {
   "cell_type": "code",
   "execution_count": 218,
   "metadata": {},
   "outputs": [],
   "source": [
    "def missing_values_table(df):\n",
    "        # Total missing values\n",
    "        mis_val = df.isnull().sum()\n",
    "        \n",
    "        # Percentage of missing values\n",
    "        mis_val_percent = 100 * df.isnull().sum() / len(df)\n",
    "        \n",
    "        # Make a table with the results\n",
    "        mis_val_table = pd.concat([mis_val, mis_val_percent], axis=1)\n",
    "        \n",
    "        # Rename the columns\n",
    "        mis_val_table_ren_columns = mis_val_table.rename(\n",
    "        columns = {0 : 'Missing Values', 1 : '% of Total Values'})\n",
    "        \n",
    "        # Sort the table by percentage of missing descending\n",
    "        mis_val_table_ren_columns = mis_val_table_ren_columns[\n",
    "            mis_val_table_ren_columns.iloc[:,1] != 0].sort_values(\n",
    "        '% of Total Values', ascending=False).round(1) \n",
    "       \n",
    "        # Return the dataframe with missing information\n",
    "        return mis_val_table_ren_columns"
   ]
  },
  {
   "cell_type": "code",
   "execution_count": 219,
   "metadata": {},
   "outputs": [
    {
     "data": {
      "text/html": [
       "<div>\n",
       "<style scoped>\n",
       "    .dataframe tbody tr th:only-of-type {\n",
       "        vertical-align: middle;\n",
       "    }\n",
       "\n",
       "    .dataframe tbody tr th {\n",
       "        vertical-align: top;\n",
       "    }\n",
       "\n",
       "    .dataframe thead th {\n",
       "        text-align: right;\n",
       "    }\n",
       "</style>\n",
       "<table border=\"1\" class=\"dataframe\">\n",
       "  <thead>\n",
       "    <tr style=\"text-align: right;\">\n",
       "      <th></th>\n",
       "      <th>Missing Values</th>\n",
       "      <th>% of Total Values</th>\n",
       "    </tr>\n",
       "  </thead>\n",
       "  <tbody>\n",
       "    <tr>\n",
       "      <td>VIN</td>\n",
       "      <td>8709705</td>\n",
       "      <td>99.8</td>\n",
       "    </tr>\n",
       "    <tr>\n",
       "      <td>Marked Time</td>\n",
       "      <td>8435415</td>\n",
       "      <td>96.7</td>\n",
       "    </tr>\n",
       "    <tr>\n",
       "      <td>Meter Id</td>\n",
       "      <td>6456512</td>\n",
       "      <td>74.0</td>\n",
       "    </tr>\n",
       "    <tr>\n",
       "      <td>Make</td>\n",
       "      <td>4368470</td>\n",
       "      <td>50.1</td>\n",
       "    </tr>\n",
       "    <tr>\n",
       "      <td>Plate Expiry Date</td>\n",
       "      <td>794827</td>\n",
       "      <td>9.1</td>\n",
       "    </tr>\n",
       "    <tr>\n",
       "      <td>Route</td>\n",
       "      <td>65354</td>\n",
       "      <td>0.7</td>\n",
       "    </tr>\n",
       "    <tr>\n",
       "      <td>Body Style</td>\n",
       "      <td>8890</td>\n",
       "      <td>0.1</td>\n",
       "    </tr>\n",
       "    <tr>\n",
       "      <td>Fine amount</td>\n",
       "      <td>6507</td>\n",
       "      <td>0.1</td>\n",
       "    </tr>\n",
       "    <tr>\n",
       "      <td>Color</td>\n",
       "      <td>4115</td>\n",
       "      <td>0.0</td>\n",
       "    </tr>\n",
       "    <tr>\n",
       "      <td>Issue time</td>\n",
       "      <td>2583</td>\n",
       "      <td>0.0</td>\n",
       "    </tr>\n",
       "    <tr>\n",
       "      <td>Violation Description</td>\n",
       "      <td>872</td>\n",
       "      <td>0.0</td>\n",
       "    </tr>\n",
       "    <tr>\n",
       "      <td>Location</td>\n",
       "      <td>854</td>\n",
       "      <td>0.0</td>\n",
       "    </tr>\n",
       "    <tr>\n",
       "      <td>RP State Plate</td>\n",
       "      <td>765</td>\n",
       "      <td>0.0</td>\n",
       "    </tr>\n",
       "    <tr>\n",
       "      <td>Agency</td>\n",
       "      <td>545</td>\n",
       "      <td>0.0</td>\n",
       "    </tr>\n",
       "    <tr>\n",
       "      <td>Issue Date</td>\n",
       "      <td>536</td>\n",
       "      <td>0.0</td>\n",
       "    </tr>\n",
       "    <tr>\n",
       "      <td>Latitude</td>\n",
       "      <td>3</td>\n",
       "      <td>0.0</td>\n",
       "    </tr>\n",
       "    <tr>\n",
       "      <td>Longitude</td>\n",
       "      <td>3</td>\n",
       "      <td>0.0</td>\n",
       "    </tr>\n",
       "  </tbody>\n",
       "</table>\n",
       "</div>"
      ],
      "text/plain": [
       "                       Missing Values  % of Total Values\n",
       "VIN                           8709705               99.8\n",
       "Marked Time                   8435415               96.7\n",
       "Meter Id                      6456512               74.0\n",
       "Make                          4368470               50.1\n",
       "Plate Expiry Date              794827                9.1\n",
       "Route                           65354                0.7\n",
       "Body Style                       8890                0.1\n",
       "Fine amount                      6507                0.1\n",
       "Color                            4115                0.0\n",
       "Issue time                       2583                0.0\n",
       "Violation Description             872                0.0\n",
       "Location                          854                0.0\n",
       "RP State Plate                    765                0.0\n",
       "Agency                            545                0.0\n",
       "Issue Date                        536                0.0\n",
       "Latitude                            3                0.0\n",
       "Longitude                           3                0.0"
      ]
     },
     "execution_count": 219,
     "metadata": {},
     "output_type": "execute_result"
    }
   ],
   "source": [
    "missing_values_table(data)"
   ]
  },
  {
   "cell_type": "code",
   "execution_count": 220,
   "metadata": {},
   "outputs": [],
   "source": [
    "make = data['Make']\n",
    "data = data.drop(['Make'], axis=1)"
   ]
  },
  {
   "cell_type": "code",
   "execution_count": 151,
   "metadata": {},
   "outputs": [
    {
     "data": {
      "text/html": [
       "<div>\n",
       "<style scoped>\n",
       "    .dataframe tbody tr th:only-of-type {\n",
       "        vertical-align: middle;\n",
       "    }\n",
       "\n",
       "    .dataframe tbody tr th {\n",
       "        vertical-align: top;\n",
       "    }\n",
       "\n",
       "    .dataframe thead th {\n",
       "        text-align: right;\n",
       "    }\n",
       "</style>\n",
       "<table border=\"1\" class=\"dataframe\">\n",
       "  <thead>\n",
       "    <tr style=\"text-align: right;\">\n",
       "      <th></th>\n",
       "      <th>Ticket number</th>\n",
       "      <th>Issue Date</th>\n",
       "      <th>Issue time</th>\n",
       "      <th>Meter Id</th>\n",
       "      <th>Marked Time</th>\n",
       "      <th>RP State Plate</th>\n",
       "      <th>Plate Expiry Date</th>\n",
       "      <th>VIN</th>\n",
       "      <th>Body Style</th>\n",
       "      <th>Color</th>\n",
       "      <th>Location</th>\n",
       "      <th>Route</th>\n",
       "      <th>Agency</th>\n",
       "      <th>Violation code</th>\n",
       "      <th>Violation Description</th>\n",
       "      <th>Fine amount</th>\n",
       "      <th>Latitude</th>\n",
       "      <th>Longitude</th>\n",
       "    </tr>\n",
       "  </thead>\n",
       "  <tbody>\n",
       "    <tr>\n",
       "      <td>1235876</td>\n",
       "      <td>4241125932</td>\n",
       "      <td>2014-10-31T00:00:00</td>\n",
       "      <td>805.0</td>\n",
       "      <td>NaN</td>\n",
       "      <td>NaN</td>\n",
       "      <td>CA</td>\n",
       "      <td>NaN</td>\n",
       "      <td>1ZVFT80N465228314</td>\n",
       "      <td>PA</td>\n",
       "      <td>BK</td>\n",
       "      <td>7045 LINDLEY AVE</td>\n",
       "      <td>00374</td>\n",
       "      <td>53.0</td>\n",
       "      <td>80.69BS</td>\n",
       "      <td>NO PARK/STREET CLEAN</td>\n",
       "      <td>73.0</td>\n",
       "      <td>6402218.1</td>\n",
       "      <td>1894969.7</td>\n",
       "    </tr>\n",
       "    <tr>\n",
       "      <td>1235877</td>\n",
       "      <td>4241125943</td>\n",
       "      <td>2014-10-31T00:00:00</td>\n",
       "      <td>807.0</td>\n",
       "      <td>NaN</td>\n",
       "      <td>NaN</td>\n",
       "      <td>CA</td>\n",
       "      <td>201509.0</td>\n",
       "      <td>0199</td>\n",
       "      <td>PA</td>\n",
       "      <td>SL</td>\n",
       "      <td>6941 LINDLEY AVE</td>\n",
       "      <td>00374</td>\n",
       "      <td>53.0</td>\n",
       "      <td>80.69BS</td>\n",
       "      <td>NO PARK/STREET CLEAN</td>\n",
       "      <td>73.0</td>\n",
       "      <td>6402214.7</td>\n",
       "      <td>1894293.0</td>\n",
       "    </tr>\n",
       "    <tr>\n",
       "      <td>1235878</td>\n",
       "      <td>4241125954</td>\n",
       "      <td>2014-10-31T00:00:00</td>\n",
       "      <td>809.0</td>\n",
       "      <td>NaN</td>\n",
       "      <td>NaN</td>\n",
       "      <td>CA</td>\n",
       "      <td>201502.0</td>\n",
       "      <td>3491</td>\n",
       "      <td>PA</td>\n",
       "      <td>BK</td>\n",
       "      <td>6621 LINDLEY AVE</td>\n",
       "      <td>00374</td>\n",
       "      <td>53.0</td>\n",
       "      <td>80.69BS</td>\n",
       "      <td>NO PARK/STREET CLEAN</td>\n",
       "      <td>73.0</td>\n",
       "      <td>6402205.6</td>\n",
       "      <td>1892169.7</td>\n",
       "    </tr>\n",
       "    <tr>\n",
       "      <td>1235879</td>\n",
       "      <td>4241125965</td>\n",
       "      <td>2014-10-31T00:00:00</td>\n",
       "      <td>814.0</td>\n",
       "      <td>NaN</td>\n",
       "      <td>NaN</td>\n",
       "      <td>CA</td>\n",
       "      <td>NaN</td>\n",
       "      <td>1G1ZS58F47F170546</td>\n",
       "      <td>PA</td>\n",
       "      <td>SL</td>\n",
       "      <td>6430 RESEDA BLVD</td>\n",
       "      <td>00374</td>\n",
       "      <td>53.0</td>\n",
       "      <td>80.69BS</td>\n",
       "      <td>NO PARK/STREET CLEAN</td>\n",
       "      <td>73.0</td>\n",
       "      <td>6399558.0</td>\n",
       "      <td>1890949.9</td>\n",
       "    </tr>\n",
       "    <tr>\n",
       "      <td>1235880</td>\n",
       "      <td>4241125976</td>\n",
       "      <td>2014-10-31T00:00:00</td>\n",
       "      <td>815.0</td>\n",
       "      <td>NaN</td>\n",
       "      <td>NaN</td>\n",
       "      <td>CA</td>\n",
       "      <td>201412.0</td>\n",
       "      <td>9817</td>\n",
       "      <td>PA</td>\n",
       "      <td>GN</td>\n",
       "      <td>6430 RESEDA BLVD</td>\n",
       "      <td>00374</td>\n",
       "      <td>53.0</td>\n",
       "      <td>80.69BS</td>\n",
       "      <td>NO PARK/STREET CLEAN</td>\n",
       "      <td>73.0</td>\n",
       "      <td>6399558.0</td>\n",
       "      <td>1890949.9</td>\n",
       "    </tr>\n",
       "    <tr>\n",
       "      <td>...</td>\n",
       "      <td>...</td>\n",
       "      <td>...</td>\n",
       "      <td>...</td>\n",
       "      <td>...</td>\n",
       "      <td>...</td>\n",
       "      <td>...</td>\n",
       "      <td>...</td>\n",
       "      <td>...</td>\n",
       "      <td>...</td>\n",
       "      <td>...</td>\n",
       "      <td>...</td>\n",
       "      <td>...</td>\n",
       "      <td>...</td>\n",
       "      <td>...</td>\n",
       "      <td>...</td>\n",
       "      <td>...</td>\n",
       "      <td>...</td>\n",
       "      <td>...</td>\n",
       "    </tr>\n",
       "    <tr>\n",
       "      <td>1252333</td>\n",
       "      <td>4247320195</td>\n",
       "      <td>2014-11-03T00:00:00</td>\n",
       "      <td>1110.0</td>\n",
       "      <td>CB3067A</td>\n",
       "      <td>NaN</td>\n",
       "      <td>CA</td>\n",
       "      <td>NaN</td>\n",
       "      <td>1N4AL3AP2EN224587</td>\n",
       "      <td>PA</td>\n",
       "      <td>GY</td>\n",
       "      <td>355 4TH ST E</td>\n",
       "      <td>00667</td>\n",
       "      <td>56.0</td>\n",
       "      <td>88.13B+</td>\n",
       "      <td>METER EXP.</td>\n",
       "      <td>63.0</td>\n",
       "      <td>6485950.2</td>\n",
       "      <td>1840638.1</td>\n",
       "    </tr>\n",
       "    <tr>\n",
       "      <td>1252334</td>\n",
       "      <td>4247320206</td>\n",
       "      <td>2014-11-03T00:00:00</td>\n",
       "      <td>1131.0</td>\n",
       "      <td>NaN</td>\n",
       "      <td>NaN</td>\n",
       "      <td>CA</td>\n",
       "      <td>11.0</td>\n",
       "      <td>NV</td>\n",
       "      <td>VN</td>\n",
       "      <td>BN</td>\n",
       "      <td>300 LOS ANGELES ST S</td>\n",
       "      <td>00667</td>\n",
       "      <td>56.0</td>\n",
       "      <td>80.56E4+</td>\n",
       "      <td>RED ZONE</td>\n",
       "      <td>93.0</td>\n",
       "      <td>6487537.5</td>\n",
       "      <td>1840128.2</td>\n",
       "    </tr>\n",
       "    <tr>\n",
       "      <td>1252335</td>\n",
       "      <td>4247320221</td>\n",
       "      <td>2014-11-03T00:00:00</td>\n",
       "      <td>1153.0</td>\n",
       "      <td>LT288</td>\n",
       "      <td>NaN</td>\n",
       "      <td>CA</td>\n",
       "      <td>201509.0</td>\n",
       "      <td>7870</td>\n",
       "      <td>PA</td>\n",
       "      <td>GY</td>\n",
       "      <td>471 3RD ST E</td>\n",
       "      <td>00667</td>\n",
       "      <td>56.0</td>\n",
       "      <td>88.13B+</td>\n",
       "      <td>METER EXP.</td>\n",
       "      <td>63.0</td>\n",
       "      <td>6504955.2</td>\n",
       "      <td>1738919.6</td>\n",
       "    </tr>\n",
       "    <tr>\n",
       "      <td>1252336</td>\n",
       "      <td>4247320232</td>\n",
       "      <td>2014-11-03T00:00:00</td>\n",
       "      <td>1209.0</td>\n",
       "      <td>LT372A</td>\n",
       "      <td>NaN</td>\n",
       "      <td>CA</td>\n",
       "      <td>201503.0</td>\n",
       "      <td>9425</td>\n",
       "      <td>PA</td>\n",
       "      <td>SL</td>\n",
       "      <td>323 BOYD ST</td>\n",
       "      <td>00667</td>\n",
       "      <td>56.0</td>\n",
       "      <td>88.13B+</td>\n",
       "      <td>METER EXP.</td>\n",
       "      <td>63.0</td>\n",
       "      <td>6487783.2</td>\n",
       "      <td>1839600.4</td>\n",
       "    </tr>\n",
       "    <tr>\n",
       "      <td>1252337</td>\n",
       "      <td>4247320243</td>\n",
       "      <td>2014-11-03T00:00:00</td>\n",
       "      <td>1322.0</td>\n",
       "      <td>NaN</td>\n",
       "      <td>NaN</td>\n",
       "      <td>CA</td>\n",
       "      <td>3.0</td>\n",
       "      <td>NV</td>\n",
       "      <td>VN</td>\n",
       "      <td>BN</td>\n",
       "      <td>127 SAN PEDRO ST S</td>\n",
       "      <td>00667</td>\n",
       "      <td>56.0</td>\n",
       "      <td>22514</td>\n",
       "      <td>FIRE HYDRANT</td>\n",
       "      <td>68.0</td>\n",
       "      <td>6488631.4</td>\n",
       "      <td>1840709.2</td>\n",
       "    </tr>\n",
       "  </tbody>\n",
       "</table>\n",
       "<p>16309 rows × 18 columns</p>\n",
       "</div>"
      ],
      "text/plain": [
       "        Ticket number           Issue Date  Issue time Meter Id  Marked Time  \\\n",
       "1235876    4241125932  2014-10-31T00:00:00       805.0      NaN          NaN   \n",
       "1235877    4241125943  2014-10-31T00:00:00       807.0      NaN          NaN   \n",
       "1235878    4241125954  2014-10-31T00:00:00       809.0      NaN          NaN   \n",
       "1235879    4241125965  2014-10-31T00:00:00       814.0      NaN          NaN   \n",
       "1235880    4241125976  2014-10-31T00:00:00       815.0      NaN          NaN   \n",
       "...               ...                  ...         ...      ...          ...   \n",
       "1252333    4247320195  2014-11-03T00:00:00      1110.0  CB3067A          NaN   \n",
       "1252334    4247320206  2014-11-03T00:00:00      1131.0      NaN          NaN   \n",
       "1252335    4247320221  2014-11-03T00:00:00      1153.0    LT288          NaN   \n",
       "1252336    4247320232  2014-11-03T00:00:00      1209.0   LT372A          NaN   \n",
       "1252337    4247320243  2014-11-03T00:00:00      1322.0      NaN          NaN   \n",
       "\n",
       "        RP State Plate  Plate Expiry Date                VIN Body Style Color  \\\n",
       "1235876             CA                NaN  1ZVFT80N465228314         PA    BK   \n",
       "1235877             CA           201509.0               0199         PA    SL   \n",
       "1235878             CA           201502.0               3491         PA    BK   \n",
       "1235879             CA                NaN  1G1ZS58F47F170546         PA    SL   \n",
       "1235880             CA           201412.0               9817         PA    GN   \n",
       "...                ...                ...                ...        ...   ...   \n",
       "1252333             CA                NaN  1N4AL3AP2EN224587         PA    GY   \n",
       "1252334             CA               11.0                 NV         VN    BN   \n",
       "1252335             CA           201509.0               7870         PA    GY   \n",
       "1252336             CA           201503.0               9425         PA    SL   \n",
       "1252337             CA                3.0                 NV         VN    BN   \n",
       "\n",
       "                     Location  Route  Agency Violation code  \\\n",
       "1235876      7045 LINDLEY AVE  00374    53.0        80.69BS   \n",
       "1235877      6941 LINDLEY AVE  00374    53.0        80.69BS   \n",
       "1235878      6621 LINDLEY AVE  00374    53.0        80.69BS   \n",
       "1235879      6430 RESEDA BLVD  00374    53.0        80.69BS   \n",
       "1235880      6430 RESEDA BLVD  00374    53.0        80.69BS   \n",
       "...                       ...    ...     ...            ...   \n",
       "1252333          355 4TH ST E  00667    56.0        88.13B+   \n",
       "1252334  300 LOS ANGELES ST S  00667    56.0       80.56E4+   \n",
       "1252335          471 3RD ST E  00667    56.0        88.13B+   \n",
       "1252336           323 BOYD ST  00667    56.0        88.13B+   \n",
       "1252337    127 SAN PEDRO ST S  00667    56.0          22514   \n",
       "\n",
       "        Violation Description  Fine amount   Latitude  Longitude  \n",
       "1235876  NO PARK/STREET CLEAN         73.0  6402218.1  1894969.7  \n",
       "1235877  NO PARK/STREET CLEAN         73.0  6402214.7  1894293.0  \n",
       "1235878  NO PARK/STREET CLEAN         73.0  6402205.6  1892169.7  \n",
       "1235879  NO PARK/STREET CLEAN         73.0  6399558.0  1890949.9  \n",
       "1235880  NO PARK/STREET CLEAN         73.0  6399558.0  1890949.9  \n",
       "...                       ...          ...        ...        ...  \n",
       "1252333            METER EXP.         63.0  6485950.2  1840638.1  \n",
       "1252334              RED ZONE         93.0  6487537.5  1840128.2  \n",
       "1252335            METER EXP.         63.0  6504955.2  1738919.6  \n",
       "1252336            METER EXP.         63.0  6487783.2  1839600.4  \n",
       "1252337          FIRE HYDRANT         68.0  6488631.4  1840709.2  \n",
       "\n",
       "[16309 rows x 18 columns]"
      ]
     },
     "execution_count": 151,
     "metadata": {},
     "output_type": "execute_result"
    }
   ],
   "source": [
    "data[data[\"VIN\"].isna()==False]"
   ]
  },
  {
   "cell_type": "code",
   "execution_count": 221,
   "metadata": {},
   "outputs": [],
   "source": [
    "vin = data[\"VIN\"]\n",
    "data[\"VIN\"].fillna(\"NV\", inplace=True)"
   ]
  },
  {
   "cell_type": "code",
   "execution_count": 222,
   "metadata": {},
   "outputs": [],
   "source": [
    "marked_time = data[\"Marked Time\"]\n",
    "data[\"Marked Time\"].fillna(0, inplace=True)"
   ]
  },
  {
   "cell_type": "code",
   "execution_count": 223,
   "metadata": {},
   "outputs": [],
   "source": [
    "meter_id = data[\"Meter Id\"]\n",
    "data[\"Meter Id\"].fillna(\"!!\", inplace=True)"
   ]
  },
  {
   "cell_type": "code",
   "execution_count": 224,
   "metadata": {},
   "outputs": [],
   "source": [
    "plate_expiry_date = data[\"Plate Expiry Date\"]\n",
    "data[\"Plate Expiry Date\"].fillna(0, inplace=True)"
   ]
  },
  {
   "cell_type": "code",
   "execution_count": 225,
   "metadata": {},
   "outputs": [],
   "source": [
    "route = data[\"Route\"]\n",
    "data[\"Route\"].fillna(\"00600\", inplace=True)"
   ]
  },
  {
   "cell_type": "code",
   "execution_count": 226,
   "metadata": {},
   "outputs": [],
   "source": [
    "body_style = data[\"Body Style\"]\n",
    "data['Body Style'].fillna(\"PA\", inplace=True)"
   ]
  },
  {
   "cell_type": "code",
   "execution_count": 227,
   "metadata": {},
   "outputs": [],
   "source": [
    "fine_amount = data[\"Fine amount\"]\n",
    "data[\"Fine amount\"].fillna(data[\"Fine amount\"].mean(), inplace=True)"
   ]
  },
  {
   "cell_type": "code",
   "execution_count": 228,
   "metadata": {},
   "outputs": [],
   "source": [
    "color = data[\"Color\"]\n",
    "data[\"Color\"].fillna(\"BK\", inplace=True)"
   ]
  },
  {
   "cell_type": "code",
   "execution_count": 229,
   "metadata": {},
   "outputs": [],
   "source": [
    "issue_time = data[\"Issue time\"]\n",
    "data[\"Issue time\"].fillna(data[\"Issue time\"].mean(), inplace=True)"
   ]
  },
  {
   "cell_type": "code",
   "execution_count": 230,
   "metadata": {},
   "outputs": [],
   "source": [
    "Violation_Description = data[\"Violation Description\"]\n",
    "data[\"Violation Description\"]=data[\"Violation Description\"].fillna(\"NO DESCRIPTION\")"
   ]
  },
  {
   "cell_type": "code",
   "execution_count": 231,
   "metadata": {},
   "outputs": [],
   "source": [
    "location = data[\"Location\"]\n",
    "data[\"Location\"].fillna(\"NO LOCATION\", inplace=True)"
   ]
  },
  {
   "cell_type": "code",
   "execution_count": 232,
   "metadata": {},
   "outputs": [],
   "source": [
    "RP_state_plate = data[\"RP State Plate\"]\n",
    "data[\"RP State Plate\"].fillna(\"CA\", inplace=True)"
   ]
  },
  {
   "cell_type": "code",
   "execution_count": 233,
   "metadata": {},
   "outputs": [],
   "source": [
    "agency = data[\"Agency\"]\n",
    "data[\"Agency\"].fillna(data[\"Agency\"].mean(), inplace=True)"
   ]
  },
  {
   "cell_type": "code",
   "execution_count": 234,
   "metadata": {},
   "outputs": [],
   "source": [
    "issue_date = data[\"Issue Date\"]\n",
    "data[\"Issue Date\"].fillna(\"2016-01-19T00:00:00\", inplace=True)"
   ]
  },
  {
   "cell_type": "code",
   "execution_count": 235,
   "metadata": {},
   "outputs": [],
   "source": [
    "latitude = data[\"Latitude\"]\n",
    "longitude = data[\"Longitude\"]\n",
    "data[\"Latitude\"].fillna(\"99999.0\", inplace=True)\n",
    "data[\"Longitude\"].fillna(\"99999.0\", inplace=True)"
   ]
  },
  {
   "cell_type": "code",
   "execution_count": 236,
   "metadata": {},
   "outputs": [
    {
     "data": {
      "text/plain": [
       "Ticket number             object\n",
       "Issue Date                object\n",
       "Issue time               float64\n",
       "Meter Id                  object\n",
       "Marked Time              float64\n",
       "RP State Plate            object\n",
       "Plate Expiry Date        float64\n",
       "VIN                       object\n",
       "Body Style                object\n",
       "Color                     object\n",
       "Location                  object\n",
       "Route                     object\n",
       "Agency                   float64\n",
       "Violation code            object\n",
       "Violation Description     object\n",
       "Fine amount              float64\n",
       "Latitude                  object\n",
       "Longitude                 object\n",
       "dtype: object"
      ]
     },
     "execution_count": 236,
     "metadata": {},
     "output_type": "execute_result"
    }
   ],
   "source": [
    "data.dtypes"
   ]
  },
  {
   "cell_type": "code",
   "execution_count": 237,
   "metadata": {},
   "outputs": [],
   "source": [
    "le = LabelEncoder()\n",
    "data[\"Meter Id\"] = le.fit_transform(data[\"Meter Id\"])\n",
    "data[\"RP State Plate\"] = le.fit_transform(data[\"RP State Plate\"])\n",
    "data[\"VIN\"] = le.fit_transform(data[\"VIN\"])\n",
    "data[\"Body Style\"] = le.fit_transform(data[\"Body Style\"])\n",
    "data[\"Color\"] = le.fit_transform(data[\"Color\"])\n",
    "data[\"Route\"] = le.fit_transform(data[\"Route\"])\n",
    "data[\"Violation code\"] = le.fit_transform(data[\"Violation code\"])\n",
    "data[\"Violation Description\"] = le.fit_transform(data[\"Violation Description\"])\n",
    "data[\"Location\"] = le.fit_transform(data[\"Location\"])"
   ]
  },
  {
   "cell_type": "code",
   "execution_count": 238,
   "metadata": {},
   "outputs": [],
   "source": [
    "data[\"Ticket number\"] = data[\"Ticket number\"].apply(lambda x: str(x))"
   ]
  },
  {
   "cell_type": "code",
   "execution_count": 239,
   "metadata": {},
   "outputs": [],
   "source": [
    "data[\"Ticket number\"] = le.fit_transform(data[\"Ticket number\"])"
   ]
  },
  {
   "cell_type": "code",
   "execution_count": 240,
   "metadata": {},
   "outputs": [],
   "source": [
    "data[\"Issue Date\"] = pd.to_datetime(data[\"Issue Date\"])"
   ]
  },
  {
   "cell_type": "code",
   "execution_count": 241,
   "metadata": {},
   "outputs": [],
   "source": [
    "data[\"Issue Date\"] = le.fit_transform(data[\"Issue Date\"])"
   ]
  },
  {
   "cell_type": "code",
   "execution_count": 242,
   "metadata": {},
   "outputs": [
    {
     "data": {
      "text/plain": [
       "Ticket number              int64\n",
       "Issue Date                 int64\n",
       "Issue time               float64\n",
       "Meter Id                   int64\n",
       "Marked Time              float64\n",
       "RP State Plate             int64\n",
       "Plate Expiry Date        float64\n",
       "VIN                        int64\n",
       "Body Style                 int64\n",
       "Color                      int64\n",
       "Location                   int64\n",
       "Route                      int64\n",
       "Agency                   float64\n",
       "Violation code             int64\n",
       "Violation Description      int64\n",
       "Fine amount              float64\n",
       "Latitude                  object\n",
       "Longitude                 object\n",
       "dtype: object"
      ]
     },
     "execution_count": 242,
     "metadata": {},
     "output_type": "execute_result"
    }
   ],
   "source": [
    "data.dtypes"
   ]
  },
  {
   "cell_type": "code",
   "execution_count": 243,
   "metadata": {},
   "outputs": [],
   "source": [
    "data[\"Latitude\"] = data[\"Latitude\"].apply(lambda x: float(x))\n",
    "data[\"Longitude\"] = data[\"Longitude\"].apply(lambda x: float(x))"
   ]
  },
  {
   "cell_type": "code",
   "execution_count": 245,
   "metadata": {},
   "outputs": [
    {
     "ename": "MemoryError",
     "evalue": "",
     "output_type": "error",
     "traceback": [
      "\u001b[0;31m---------------------------------------------------------------------------\u001b[0m",
      "\u001b[0;31mMemoryError\u001b[0m                               Traceback (most recent call last)",
      "\u001b[0;32m<ipython-input-245-2d44a1bdcb8c>\u001b[0m in \u001b[0;36m<module>\u001b[0;34m\u001b[0m\n\u001b[1;32m      3\u001b[0m     \u001b[0mk\u001b[0m \u001b[0;34m=\u001b[0m \u001b[0mKMeans\u001b[0m\u001b[0;34m(\u001b[0m\u001b[0mn_clusters\u001b[0m \u001b[0;34m=\u001b[0m \u001b[0mclusters\u001b[0m\u001b[0;34m,\u001b[0m \u001b[0mn_jobs\u001b[0m \u001b[0;34m=\u001b[0m \u001b[0;34m-\u001b[0m\u001b[0;36m1\u001b[0m\u001b[0;34m)\u001b[0m\u001b[0;34m\u001b[0m\u001b[0m\n\u001b[1;32m      4\u001b[0m     \u001b[0mpreds\u001b[0m \u001b[0;34m=\u001b[0m \u001b[0mk\u001b[0m\u001b[0;34m.\u001b[0m\u001b[0mfit_predict\u001b[0m\u001b[0;34m(\u001b[0m\u001b[0mdata\u001b[0m\u001b[0;34m.\u001b[0m\u001b[0mvalues\u001b[0m\u001b[0;34m)\u001b[0m\u001b[0;34m\u001b[0m\u001b[0m\n\u001b[0;32m----> 5\u001b[0;31m     \u001b[0msil\u001b[0m \u001b[0;34m=\u001b[0m \u001b[0msilhouette_score\u001b[0m\u001b[0;34m(\u001b[0m\u001b[0mdata\u001b[0m\u001b[0;34m.\u001b[0m\u001b[0mvalues\u001b[0m\u001b[0;34m,\u001b[0m \u001b[0mpreds\u001b[0m\u001b[0;34m)\u001b[0m\u001b[0;34m\u001b[0m\u001b[0m\n\u001b[0m\u001b[1;32m      6\u001b[0m     \u001b[0mprint\u001b[0m\u001b[0;34m(\u001b[0m\u001b[0mclusters\u001b[0m\u001b[0;34m,\u001b[0m \u001b[0msil\u001b[0m\u001b[0;34m)\u001b[0m\u001b[0;34m\u001b[0m\u001b[0m\n\u001b[1;32m      7\u001b[0m     \u001b[0mclusters\u001b[0m \u001b[0;34m+=\u001b[0m\u001b[0;36m1\u001b[0m\u001b[0;34m\u001b[0m\u001b[0m\n",
      "\u001b[0;32m/usr/local/lib/python3.5/site-packages/sklearn/metrics/cluster/unsupervised.py\u001b[0m in \u001b[0;36msilhouette_score\u001b[0;34m(X, labels, metric, sample_size, random_state, **kwds)\u001b[0m\n\u001b[1;32m     99\u001b[0m         \u001b[0;32melse\u001b[0m\u001b[0;34m:\u001b[0m\u001b[0;34m\u001b[0m\u001b[0m\n\u001b[1;32m    100\u001b[0m             \u001b[0mX\u001b[0m\u001b[0;34m,\u001b[0m \u001b[0mlabels\u001b[0m \u001b[0;34m=\u001b[0m \u001b[0mX\u001b[0m\u001b[0;34m[\u001b[0m\u001b[0mindices\u001b[0m\u001b[0;34m]\u001b[0m\u001b[0;34m,\u001b[0m \u001b[0mlabels\u001b[0m\u001b[0;34m[\u001b[0m\u001b[0mindices\u001b[0m\u001b[0;34m]\u001b[0m\u001b[0;34m\u001b[0m\u001b[0m\n\u001b[0;32m--> 101\u001b[0;31m     \u001b[0;32mreturn\u001b[0m \u001b[0mnp\u001b[0m\u001b[0;34m.\u001b[0m\u001b[0mmean\u001b[0m\u001b[0;34m(\u001b[0m\u001b[0msilhouette_samples\u001b[0m\u001b[0;34m(\u001b[0m\u001b[0mX\u001b[0m\u001b[0;34m,\u001b[0m \u001b[0mlabels\u001b[0m\u001b[0;34m,\u001b[0m \u001b[0mmetric\u001b[0m\u001b[0;34m=\u001b[0m\u001b[0mmetric\u001b[0m\u001b[0;34m,\u001b[0m \u001b[0;34m**\u001b[0m\u001b[0mkwds\u001b[0m\u001b[0;34m)\u001b[0m\u001b[0;34m)\u001b[0m\u001b[0;34m\u001b[0m\u001b[0m\n\u001b[0m\u001b[1;32m    102\u001b[0m \u001b[0;34m\u001b[0m\u001b[0m\n\u001b[1;32m    103\u001b[0m \u001b[0;34m\u001b[0m\u001b[0m\n",
      "\u001b[0;32m/usr/local/lib/python3.5/site-packages/sklearn/metrics/cluster/unsupervised.py\u001b[0m in \u001b[0;36msilhouette_samples\u001b[0;34m(X, labels, metric, **kwds)\u001b[0m\n\u001b[1;32m    167\u001b[0m     \u001b[0mcheck_number_of_labels\u001b[0m\u001b[0;34m(\u001b[0m\u001b[0mlen\u001b[0m\u001b[0;34m(\u001b[0m\u001b[0mle\u001b[0m\u001b[0;34m.\u001b[0m\u001b[0mclasses_\u001b[0m\u001b[0;34m)\u001b[0m\u001b[0;34m,\u001b[0m \u001b[0mX\u001b[0m\u001b[0;34m.\u001b[0m\u001b[0mshape\u001b[0m\u001b[0;34m[\u001b[0m\u001b[0;36m0\u001b[0m\u001b[0;34m]\u001b[0m\u001b[0;34m)\u001b[0m\u001b[0;34m\u001b[0m\u001b[0m\n\u001b[1;32m    168\u001b[0m \u001b[0;34m\u001b[0m\u001b[0m\n\u001b[0;32m--> 169\u001b[0;31m     \u001b[0mdistances\u001b[0m \u001b[0;34m=\u001b[0m \u001b[0mpairwise_distances\u001b[0m\u001b[0;34m(\u001b[0m\u001b[0mX\u001b[0m\u001b[0;34m,\u001b[0m \u001b[0mmetric\u001b[0m\u001b[0;34m=\u001b[0m\u001b[0mmetric\u001b[0m\u001b[0;34m,\u001b[0m \u001b[0;34m**\u001b[0m\u001b[0mkwds\u001b[0m\u001b[0;34m)\u001b[0m\u001b[0;34m\u001b[0m\u001b[0m\n\u001b[0m\u001b[1;32m    170\u001b[0m     \u001b[0munique_labels\u001b[0m \u001b[0;34m=\u001b[0m \u001b[0mle\u001b[0m\u001b[0;34m.\u001b[0m\u001b[0mclasses_\u001b[0m\u001b[0;34m\u001b[0m\u001b[0m\n\u001b[1;32m    171\u001b[0m     \u001b[0mn_samples_per_label\u001b[0m \u001b[0;34m=\u001b[0m \u001b[0mnp\u001b[0m\u001b[0;34m.\u001b[0m\u001b[0mbincount\u001b[0m\u001b[0;34m(\u001b[0m\u001b[0mlabels\u001b[0m\u001b[0;34m,\u001b[0m \u001b[0mminlength\u001b[0m\u001b[0;34m=\u001b[0m\u001b[0mlen\u001b[0m\u001b[0;34m(\u001b[0m\u001b[0munique_labels\u001b[0m\u001b[0;34m)\u001b[0m\u001b[0;34m)\u001b[0m\u001b[0;34m\u001b[0m\u001b[0m\n",
      "\u001b[0;32m/usr/local/lib/python3.5/site-packages/sklearn/metrics/pairwise.py\u001b[0m in \u001b[0;36mpairwise_distances\u001b[0;34m(X, Y, metric, n_jobs, **kwds)\u001b[0m\n\u001b[1;32m   1245\u001b[0m         \u001b[0mfunc\u001b[0m \u001b[0;34m=\u001b[0m \u001b[0mpartial\u001b[0m\u001b[0;34m(\u001b[0m\u001b[0mdistance\u001b[0m\u001b[0;34m.\u001b[0m\u001b[0mcdist\u001b[0m\u001b[0;34m,\u001b[0m \u001b[0mmetric\u001b[0m\u001b[0;34m=\u001b[0m\u001b[0mmetric\u001b[0m\u001b[0;34m,\u001b[0m \u001b[0;34m**\u001b[0m\u001b[0mkwds\u001b[0m\u001b[0;34m)\u001b[0m\u001b[0;34m\u001b[0m\u001b[0m\n\u001b[1;32m   1246\u001b[0m \u001b[0;34m\u001b[0m\u001b[0m\n\u001b[0;32m-> 1247\u001b[0;31m     \u001b[0;32mreturn\u001b[0m \u001b[0m_parallel_pairwise\u001b[0m\u001b[0;34m(\u001b[0m\u001b[0mX\u001b[0m\u001b[0;34m,\u001b[0m \u001b[0mY\u001b[0m\u001b[0;34m,\u001b[0m \u001b[0mfunc\u001b[0m\u001b[0;34m,\u001b[0m \u001b[0mn_jobs\u001b[0m\u001b[0;34m,\u001b[0m \u001b[0;34m**\u001b[0m\u001b[0mkwds\u001b[0m\u001b[0;34m)\u001b[0m\u001b[0;34m\u001b[0m\u001b[0m\n\u001b[0m\u001b[1;32m   1248\u001b[0m \u001b[0;34m\u001b[0m\u001b[0m\n\u001b[1;32m   1249\u001b[0m \u001b[0;34m\u001b[0m\u001b[0m\n",
      "\u001b[0;32m/usr/local/lib/python3.5/site-packages/sklearn/metrics/pairwise.py\u001b[0m in \u001b[0;36m_parallel_pairwise\u001b[0;34m(X, Y, func, n_jobs, **kwds)\u001b[0m\n\u001b[1;32m   1088\u001b[0m     \u001b[0;32mif\u001b[0m \u001b[0mn_jobs\u001b[0m \u001b[0;34m==\u001b[0m \u001b[0;36m1\u001b[0m\u001b[0;34m:\u001b[0m\u001b[0;34m\u001b[0m\u001b[0m\n\u001b[1;32m   1089\u001b[0m         \u001b[0;31m# Special case to avoid picklability checks in delayed\u001b[0m\u001b[0;34m\u001b[0m\u001b[0;34m\u001b[0m\u001b[0m\n\u001b[0;32m-> 1090\u001b[0;31m         \u001b[0;32mreturn\u001b[0m \u001b[0mfunc\u001b[0m\u001b[0;34m(\u001b[0m\u001b[0mX\u001b[0m\u001b[0;34m,\u001b[0m \u001b[0mY\u001b[0m\u001b[0;34m,\u001b[0m \u001b[0;34m**\u001b[0m\u001b[0mkwds\u001b[0m\u001b[0;34m)\u001b[0m\u001b[0;34m\u001b[0m\u001b[0m\n\u001b[0m\u001b[1;32m   1091\u001b[0m \u001b[0;34m\u001b[0m\u001b[0m\n\u001b[1;32m   1092\u001b[0m     \u001b[0;31m# TODO: in some cases, backend='threading' may be appropriate\u001b[0m\u001b[0;34m\u001b[0m\u001b[0;34m\u001b[0m\u001b[0m\n",
      "\u001b[0;32m/usr/local/lib/python3.5/site-packages/sklearn/metrics/pairwise.py\u001b[0m in \u001b[0;36meuclidean_distances\u001b[0;34m(X, Y, Y_norm_squared, squared, X_norm_squared)\u001b[0m\n\u001b[1;32m    244\u001b[0m         \u001b[0mYY\u001b[0m \u001b[0;34m=\u001b[0m \u001b[0mrow_norms\u001b[0m\u001b[0;34m(\u001b[0m\u001b[0mY\u001b[0m\u001b[0;34m,\u001b[0m \u001b[0msquared\u001b[0m\u001b[0;34m=\u001b[0m\u001b[0;32mTrue\u001b[0m\u001b[0;34m)\u001b[0m\u001b[0;34m[\u001b[0m\u001b[0mnp\u001b[0m\u001b[0;34m.\u001b[0m\u001b[0mnewaxis\u001b[0m\u001b[0;34m,\u001b[0m \u001b[0;34m:\u001b[0m\u001b[0;34m]\u001b[0m\u001b[0;34m\u001b[0m\u001b[0m\n\u001b[1;32m    245\u001b[0m \u001b[0;34m\u001b[0m\u001b[0m\n\u001b[0;32m--> 246\u001b[0;31m     \u001b[0mdistances\u001b[0m \u001b[0;34m=\u001b[0m \u001b[0msafe_sparse_dot\u001b[0m\u001b[0;34m(\u001b[0m\u001b[0mX\u001b[0m\u001b[0;34m,\u001b[0m \u001b[0mY\u001b[0m\u001b[0;34m.\u001b[0m\u001b[0mT\u001b[0m\u001b[0;34m,\u001b[0m \u001b[0mdense_output\u001b[0m\u001b[0;34m=\u001b[0m\u001b[0;32mTrue\u001b[0m\u001b[0;34m)\u001b[0m\u001b[0;34m\u001b[0m\u001b[0m\n\u001b[0m\u001b[1;32m    247\u001b[0m     \u001b[0mdistances\u001b[0m \u001b[0;34m*=\u001b[0m \u001b[0;34m-\u001b[0m\u001b[0;36m2\u001b[0m\u001b[0;34m\u001b[0m\u001b[0m\n\u001b[1;32m    248\u001b[0m     \u001b[0mdistances\u001b[0m \u001b[0;34m+=\u001b[0m \u001b[0mXX\u001b[0m\u001b[0;34m\u001b[0m\u001b[0m\n",
      "\u001b[0;32m/usr/local/lib/python3.5/site-packages/sklearn/utils/extmath.py\u001b[0m in \u001b[0;36msafe_sparse_dot\u001b[0;34m(a, b, dense_output)\u001b[0m\n\u001b[1;32m    138\u001b[0m         \u001b[0;32mreturn\u001b[0m \u001b[0mret\u001b[0m\u001b[0;34m\u001b[0m\u001b[0m\n\u001b[1;32m    139\u001b[0m     \u001b[0;32melse\u001b[0m\u001b[0;34m:\u001b[0m\u001b[0;34m\u001b[0m\u001b[0m\n\u001b[0;32m--> 140\u001b[0;31m         \u001b[0;32mreturn\u001b[0m \u001b[0mnp\u001b[0m\u001b[0;34m.\u001b[0m\u001b[0mdot\u001b[0m\u001b[0;34m(\u001b[0m\u001b[0ma\u001b[0m\u001b[0;34m,\u001b[0m \u001b[0mb\u001b[0m\u001b[0;34m)\u001b[0m\u001b[0;34m\u001b[0m\u001b[0m\n\u001b[0m\u001b[1;32m    141\u001b[0m \u001b[0;34m\u001b[0m\u001b[0m\n\u001b[1;32m    142\u001b[0m \u001b[0;34m\u001b[0m\u001b[0m\n",
      "\u001b[0;31mMemoryError\u001b[0m: "
     ]
    }
   ],
   "source": [
    "clusters = 3\n",
    "while clusters < 20:\n",
    "    k = KMeans(n_clusters = clusters, n_jobs = -1)\n",
    "    preds = k.fit_predict(data.values)\n",
    "    sil = silhouette_score(data.values, preds)\n",
    "    print(clusters, sil)\n",
    "    clusters +=1"
   ]
  },
  {
   "cell_type": "code",
   "execution_count": 181,
   "metadata": {},
   "outputs": [
    {
     "data": {
      "text/plain": [
       "dtype('O')"
      ]
     },
     "execution_count": 181,
     "metadata": {},
     "output_type": "execute_result"
    }
   ],
   "source": [
    "marked_time.dtype"
   ]
  },
  {
   "cell_type": "code",
   "execution_count": null,
   "metadata": {},
   "outputs": [],
   "source": []
  }
 ],
 "metadata": {
  "kernelspec": {
   "display_name": "Python 3",
   "language": "python",
   "name": "python3"
  },
  "language_info": {
   "codemirror_mode": {
    "name": "ipython",
    "version": 3
   },
   "file_extension": ".py",
   "mimetype": "text/x-python",
   "name": "python",
   "nbconvert_exporter": "python",
   "pygments_lexer": "ipython3",
   "version": "3.5.3"
  }
 },
 "nbformat": 4,
 "nbformat_minor": 4
}
