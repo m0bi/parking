{
 "cells": [
  {
   "cell_type": "code",
   "execution_count": 1,
   "metadata": {},
   "outputs": [],
   "source": [
    "import pandas as pd\n",
    "import numpy as np\n",
    "from sklearn.preprocessing import LabelEncoder\n",
    "import seaborn as sns\n",
    "from sklearn.cluster import KMeans\n",
    "from matplotlib import pyplot as plt\n",
    "from sklearn.model_selection import train_test_split\n",
    "import category_encoders as ce\n",
    "import pickle"
   ]
  },
  {
   "cell_type": "code",
   "execution_count": 2,
   "metadata": {},
   "outputs": [
    {
     "name": "stderr",
     "output_type": "stream",
     "text": [
      "/usr/local/lib/python3.5/dist-packages/IPython/core/interactiveshell.py:3058: DtypeWarning: Columns (0,7) have mixed types. Specify dtype option on import or set low_memory=False.\n",
      "  interactivity=interactivity, compiler=compiler, result=result)\n"
     ]
    }
   ],
   "source": [
    "data = pd.read_csv(\"./data/parking_citations.corrupted.csv\")"
   ]
  },
  {
   "cell_type": "code",
   "execution_count": 3,
   "metadata": {},
   "outputs": [],
   "source": [
    "def missing_values_table(df):\n",
    "        mis_val = df.isnull().sum()\n",
    "        \n",
    "        mis_val_percent = 100 * df.isnull().sum() / len(df)\n",
    "        \n",
    "        mis_val_table = pd.concat([mis_val, mis_val_percent], axis=1)\n",
    "        \n",
    "        mis_val_table_ren_columns = mis_val_table.rename(\n",
    "        columns = {0 : 'Missing Values', 1 : '% of Total Values'})\n",
    "        \n",
    "        mis_val_table_ren_columns = mis_val_table_ren_columns[\n",
    "            mis_val_table_ren_columns.iloc[:,1] != 0].sort_values(\n",
    "        '% of Total Values', ascending=False).round(1) \n",
    "       \n",
    "        return mis_val_table_ren_columns"
   ]
  },
  {
   "cell_type": "code",
   "execution_count": 4,
   "metadata": {},
   "outputs": [
    {
     "data": {
      "text/html": [
       "<div>\n",
       "<style scoped>\n",
       "    .dataframe tbody tr th:only-of-type {\n",
       "        vertical-align: middle;\n",
       "    }\n",
       "\n",
       "    .dataframe tbody tr th {\n",
       "        vertical-align: top;\n",
       "    }\n",
       "\n",
       "    .dataframe thead th {\n",
       "        text-align: right;\n",
       "    }\n",
       "</style>\n",
       "<table border=\"1\" class=\"dataframe\">\n",
       "  <thead>\n",
       "    <tr style=\"text-align: right;\">\n",
       "      <th></th>\n",
       "      <th>Missing Values</th>\n",
       "      <th>% of Total Values</th>\n",
       "    </tr>\n",
       "  </thead>\n",
       "  <tbody>\n",
       "    <tr>\n",
       "      <td>VIN</td>\n",
       "      <td>8709705</td>\n",
       "      <td>99.8</td>\n",
       "    </tr>\n",
       "    <tr>\n",
       "      <td>Marked Time</td>\n",
       "      <td>8435415</td>\n",
       "      <td>96.7</td>\n",
       "    </tr>\n",
       "    <tr>\n",
       "      <td>Meter Id</td>\n",
       "      <td>6456512</td>\n",
       "      <td>74.0</td>\n",
       "    </tr>\n",
       "    <tr>\n",
       "      <td>Make</td>\n",
       "      <td>4368470</td>\n",
       "      <td>50.1</td>\n",
       "    </tr>\n",
       "    <tr>\n",
       "      <td>Plate Expiry Date</td>\n",
       "      <td>794827</td>\n",
       "      <td>9.1</td>\n",
       "    </tr>\n",
       "    <tr>\n",
       "      <td>Route</td>\n",
       "      <td>65354</td>\n",
       "      <td>0.7</td>\n",
       "    </tr>\n",
       "    <tr>\n",
       "      <td>Body Style</td>\n",
       "      <td>8890</td>\n",
       "      <td>0.1</td>\n",
       "    </tr>\n",
       "    <tr>\n",
       "      <td>Fine amount</td>\n",
       "      <td>6507</td>\n",
       "      <td>0.1</td>\n",
       "    </tr>\n",
       "    <tr>\n",
       "      <td>Color</td>\n",
       "      <td>4115</td>\n",
       "      <td>0.0</td>\n",
       "    </tr>\n",
       "    <tr>\n",
       "      <td>Issue time</td>\n",
       "      <td>2583</td>\n",
       "      <td>0.0</td>\n",
       "    </tr>\n",
       "    <tr>\n",
       "      <td>Violation Description</td>\n",
       "      <td>872</td>\n",
       "      <td>0.0</td>\n",
       "    </tr>\n",
       "    <tr>\n",
       "      <td>Location</td>\n",
       "      <td>854</td>\n",
       "      <td>0.0</td>\n",
       "    </tr>\n",
       "    <tr>\n",
       "      <td>RP State Plate</td>\n",
       "      <td>765</td>\n",
       "      <td>0.0</td>\n",
       "    </tr>\n",
       "    <tr>\n",
       "      <td>Agency</td>\n",
       "      <td>545</td>\n",
       "      <td>0.0</td>\n",
       "    </tr>\n",
       "    <tr>\n",
       "      <td>Issue Date</td>\n",
       "      <td>536</td>\n",
       "      <td>0.0</td>\n",
       "    </tr>\n",
       "    <tr>\n",
       "      <td>Latitude</td>\n",
       "      <td>3</td>\n",
       "      <td>0.0</td>\n",
       "    </tr>\n",
       "    <tr>\n",
       "      <td>Longitude</td>\n",
       "      <td>3</td>\n",
       "      <td>0.0</td>\n",
       "    </tr>\n",
       "  </tbody>\n",
       "</table>\n",
       "</div>"
      ],
      "text/plain": [
       "                       Missing Values  % of Total Values\n",
       "VIN                           8709705               99.8\n",
       "Marked Time                   8435415               96.7\n",
       "Meter Id                      6456512               74.0\n",
       "Make                          4368470               50.1\n",
       "Plate Expiry Date              794827                9.1\n",
       "Route                           65354                0.7\n",
       "Body Style                       8890                0.1\n",
       "Fine amount                      6507                0.1\n",
       "Color                            4115                0.0\n",
       "Issue time                       2583                0.0\n",
       "Violation Description             872                0.0\n",
       "Location                          854                0.0\n",
       "RP State Plate                    765                0.0\n",
       "Agency                            545                0.0\n",
       "Issue Date                        536                0.0\n",
       "Latitude                            3                0.0\n",
       "Longitude                           3                0.0"
      ]
     },
     "execution_count": 4,
     "metadata": {},
     "output_type": "execute_result"
    }
   ],
   "source": [
    "missing_values_table(data)"
   ]
  },
  {
   "cell_type": "code",
   "execution_count": 5,
   "metadata": {},
   "outputs": [
    {
     "data": {
      "text/plain": [
       "<matplotlib.axes._subplots.AxesSubplot at 0x7f06b2c56eb8>"
      ]
     },
     "execution_count": 5,
     "metadata": {},
     "output_type": "execute_result"
    },
    {
     "data": {
      "image/png": "[encoded data removed]",
      "text/plain": [
       "<Figure size 432x288 with 1 Axes>"
      ]
     },
     "metadata": {
      "needs_background": "light"
     },
     "output_type": "display_data"
    }
   ],
   "source": [
    "%matplotlib inline\n",
    "data[\"Issue time\"].hist(bins=50)"
   ]
  },
  {
   "cell_type": "code",
   "execution_count": 6,
   "metadata": {},
   "outputs": [
    {
     "data": {
      "text/plain": [
       "<matplotlib.axes._subplots.AxesSubplot at 0x7f06b2c33898>"
      ]
     },
     "execution_count": 6,
     "metadata": {},
     "output_type": "execute_result"
    },
    {
     "data": {
      "image/png": "[encoded data removed]",
      "text/plain": [
       "<Figure size 432x288 with 1 Axes>"
      ]
     },
     "metadata": {
      "needs_background": "light"
     },
     "output_type": "display_data"
    }
   ],
   "source": [
    "data[\"Marked Time\"].hist(bins=50)"
   ]
  },
  {
   "cell_type": "code",
   "execution_count": 7,
   "metadata": {},
   "outputs": [
    {
     "data": {
      "text/plain": [
       "<matplotlib.axes._subplots.AxesSubplot at 0x7f06b2b426a0>"
      ]
     },
     "execution_count": 7,
     "metadata": {},
     "output_type": "execute_result"
    },
    {
     "data": {
      "image/png": "[encoded data removed]",
      "text/plain": [
       "<Figure size 432x288 with 1 Axes>"
      ]
     },
     "metadata": {
      "needs_background": "light"
     },
     "output_type": "display_data"
    }
   ],
   "source": [
    "data[\"Fine amount\"].hist(bins=10)"
   ]
  },
  {
   "cell_type": "code",
   "execution_count": 8,
   "metadata": {},
   "outputs": [
    {
     "data": {
      "text/plain": [
       "<matplotlib.axes._subplots.AxesSubplot at 0x7f06b2b2c5f8>"
      ]
     },
     "execution_count": 8,
     "metadata": {},
     "output_type": "execute_result"
    },
    {
     "data": {
      "image/png": "[encoded data removed]",
      "text/plain": [
       "<Figure size 432x288 with 2 Axes>"
      ]
     },
     "metadata": {
      "needs_background": "light"
     },
     "output_type": "display_data"
    }
   ],
   "source": [
    "sns.heatmap(data.corr(), cmap=\"coolwarm\")"
   ]
  },
  {
   "cell_type": "code",
   "execution_count": 9,
   "metadata": {},
   "outputs": [
    {
     "data": {
      "text/html": [
       "<div>\n",
       "<style scoped>\n",
       "    .dataframe tbody tr th:only-of-type {\n",
       "        vertical-align: middle;\n",
       "    }\n",
       "\n",
       "    .dataframe tbody tr th {\n",
       "        vertical-align: top;\n",
       "    }\n",
       "\n",
       "    .dataframe thead th {\n",
       "        text-align: right;\n",
       "    }\n",
       "</style>\n",
       "<table border=\"1\" class=\"dataframe\">\n",
       "  <thead>\n",
       "    <tr style=\"text-align: right;\">\n",
       "      <th></th>\n",
       "      <th>Ticket number</th>\n",
       "      <th>Issue Date</th>\n",
       "      <th>Issue time</th>\n",
       "      <th>Meter Id</th>\n",
       "      <th>Marked Time</th>\n",
       "      <th>RP State Plate</th>\n",
       "      <th>Plate Expiry Date</th>\n",
       "      <th>VIN</th>\n",
       "      <th>Make</th>\n",
       "      <th>Body Style</th>\n",
       "      <th>Color</th>\n",
       "      <th>Location</th>\n",
       "      <th>Route</th>\n",
       "      <th>Agency</th>\n",
       "      <th>Violation code</th>\n",
       "      <th>Violation Description</th>\n",
       "      <th>Fine amount</th>\n",
       "      <th>Latitude</th>\n",
       "      <th>Longitude</th>\n",
       "    </tr>\n",
       "  </thead>\n",
       "  <tbody>\n",
       "    <tr>\n",
       "      <td>1235876</td>\n",
       "      <td>4241125932</td>\n",
       "      <td>2014-10-31T00:00:00</td>\n",
       "      <td>805.0</td>\n",
       "      <td>NaN</td>\n",
       "      <td>NaN</td>\n",
       "      <td>CA</td>\n",
       "      <td>NaN</td>\n",
       "      <td>1ZVFT80N465228314</td>\n",
       "      <td>NaN</td>\n",
       "      <td>PA</td>\n",
       "      <td>BK</td>\n",
       "      <td>7045 LINDLEY AVE</td>\n",
       "      <td>00374</td>\n",
       "      <td>53.0</td>\n",
       "      <td>80.69BS</td>\n",
       "      <td>NO PARK/STREET CLEAN</td>\n",
       "      <td>73.0</td>\n",
       "      <td>6402218.1</td>\n",
       "      <td>1894969.7</td>\n",
       "    </tr>\n",
       "    <tr>\n",
       "      <td>1235877</td>\n",
       "      <td>4241125943</td>\n",
       "      <td>2014-10-31T00:00:00</td>\n",
       "      <td>807.0</td>\n",
       "      <td>NaN</td>\n",
       "      <td>NaN</td>\n",
       "      <td>CA</td>\n",
       "      <td>201509.0</td>\n",
       "      <td>0199</td>\n",
       "      <td>NaN</td>\n",
       "      <td>PA</td>\n",
       "      <td>SL</td>\n",
       "      <td>6941 LINDLEY AVE</td>\n",
       "      <td>00374</td>\n",
       "      <td>53.0</td>\n",
       "      <td>80.69BS</td>\n",
       "      <td>NO PARK/STREET CLEAN</td>\n",
       "      <td>73.0</td>\n",
       "      <td>6402214.7</td>\n",
       "      <td>1894293.0</td>\n",
       "    </tr>\n",
       "    <tr>\n",
       "      <td>1235878</td>\n",
       "      <td>4241125954</td>\n",
       "      <td>2014-10-31T00:00:00</td>\n",
       "      <td>809.0</td>\n",
       "      <td>NaN</td>\n",
       "      <td>NaN</td>\n",
       "      <td>CA</td>\n",
       "      <td>201502.0</td>\n",
       "      <td>3491</td>\n",
       "      <td>NaN</td>\n",
       "      <td>PA</td>\n",
       "      <td>BK</td>\n",
       "      <td>6621 LINDLEY AVE</td>\n",
       "      <td>00374</td>\n",
       "      <td>53.0</td>\n",
       "      <td>80.69BS</td>\n",
       "      <td>NO PARK/STREET CLEAN</td>\n",
       "      <td>73.0</td>\n",
       "      <td>6402205.6</td>\n",
       "      <td>1892169.7</td>\n",
       "    </tr>\n",
       "    <tr>\n",
       "      <td>1235879</td>\n",
       "      <td>4241125965</td>\n",
       "      <td>2014-10-31T00:00:00</td>\n",
       "      <td>814.0</td>\n",
       "      <td>NaN</td>\n",
       "      <td>NaN</td>\n",
       "      <td>CA</td>\n",
       "      <td>NaN</td>\n",
       "      <td>1G1ZS58F47F170546</td>\n",
       "      <td>NaN</td>\n",
       "      <td>PA</td>\n",
       "      <td>SL</td>\n",
       "      <td>6430 RESEDA BLVD</td>\n",
       "      <td>00374</td>\n",
       "      <td>53.0</td>\n",
       "      <td>80.69BS</td>\n",
       "      <td>NO PARK/STREET CLEAN</td>\n",
       "      <td>73.0</td>\n",
       "      <td>6399558.0</td>\n",
       "      <td>1890949.9</td>\n",
       "    </tr>\n",
       "    <tr>\n",
       "      <td>1235880</td>\n",
       "      <td>4241125976</td>\n",
       "      <td>2014-10-31T00:00:00</td>\n",
       "      <td>815.0</td>\n",
       "      <td>NaN</td>\n",
       "      <td>NaN</td>\n",
       "      <td>CA</td>\n",
       "      <td>201412.0</td>\n",
       "      <td>9817</td>\n",
       "      <td>TOYT</td>\n",
       "      <td>PA</td>\n",
       "      <td>GN</td>\n",
       "      <td>6430 RESEDA BLVD</td>\n",
       "      <td>00374</td>\n",
       "      <td>53.0</td>\n",
       "      <td>80.69BS</td>\n",
       "      <td>NO PARK/STREET CLEAN</td>\n",
       "      <td>73.0</td>\n",
       "      <td>6399558.0</td>\n",
       "      <td>1890949.9</td>\n",
       "    </tr>\n",
       "    <tr>\n",
       "      <td>...</td>\n",
       "      <td>...</td>\n",
       "      <td>...</td>\n",
       "      <td>...</td>\n",
       "      <td>...</td>\n",
       "      <td>...</td>\n",
       "      <td>...</td>\n",
       "      <td>...</td>\n",
       "      <td>...</td>\n",
       "      <td>...</td>\n",
       "      <td>...</td>\n",
       "      <td>...</td>\n",
       "      <td>...</td>\n",
       "      <td>...</td>\n",
       "      <td>...</td>\n",
       "      <td>...</td>\n",
       "      <td>...</td>\n",
       "      <td>...</td>\n",
       "      <td>...</td>\n",
       "      <td>...</td>\n",
       "    </tr>\n",
       "    <tr>\n",
       "      <td>1252333</td>\n",
       "      <td>4247320195</td>\n",
       "      <td>2014-11-03T00:00:00</td>\n",
       "      <td>1110.0</td>\n",
       "      <td>CB3067A</td>\n",
       "      <td>NaN</td>\n",
       "      <td>CA</td>\n",
       "      <td>NaN</td>\n",
       "      <td>1N4AL3AP2EN224587</td>\n",
       "      <td>NaN</td>\n",
       "      <td>PA</td>\n",
       "      <td>GY</td>\n",
       "      <td>355 4TH ST E</td>\n",
       "      <td>00667</td>\n",
       "      <td>56.0</td>\n",
       "      <td>88.13B+</td>\n",
       "      <td>METER EXP.</td>\n",
       "      <td>63.0</td>\n",
       "      <td>6485950.2</td>\n",
       "      <td>1840638.1</td>\n",
       "    </tr>\n",
       "    <tr>\n",
       "      <td>1252334</td>\n",
       "      <td>4247320206</td>\n",
       "      <td>2014-11-03T00:00:00</td>\n",
       "      <td>1131.0</td>\n",
       "      <td>NaN</td>\n",
       "      <td>NaN</td>\n",
       "      <td>CA</td>\n",
       "      <td>11.0</td>\n",
       "      <td>NV</td>\n",
       "      <td>NaN</td>\n",
       "      <td>VN</td>\n",
       "      <td>BN</td>\n",
       "      <td>300 LOS ANGELES ST S</td>\n",
       "      <td>00667</td>\n",
       "      <td>56.0</td>\n",
       "      <td>80.56E4+</td>\n",
       "      <td>RED ZONE</td>\n",
       "      <td>93.0</td>\n",
       "      <td>6487537.5</td>\n",
       "      <td>1840128.2</td>\n",
       "    </tr>\n",
       "    <tr>\n",
       "      <td>1252335</td>\n",
       "      <td>4247320221</td>\n",
       "      <td>2014-11-03T00:00:00</td>\n",
       "      <td>1153.0</td>\n",
       "      <td>LT288</td>\n",
       "      <td>NaN</td>\n",
       "      <td>CA</td>\n",
       "      <td>201509.0</td>\n",
       "      <td>7870</td>\n",
       "      <td>NaN</td>\n",
       "      <td>PA</td>\n",
       "      <td>GY</td>\n",
       "      <td>471 3RD ST E</td>\n",
       "      <td>00667</td>\n",
       "      <td>56.0</td>\n",
       "      <td>88.13B+</td>\n",
       "      <td>METER EXP.</td>\n",
       "      <td>63.0</td>\n",
       "      <td>6504955.2</td>\n",
       "      <td>1738919.6</td>\n",
       "    </tr>\n",
       "    <tr>\n",
       "      <td>1252336</td>\n",
       "      <td>4247320232</td>\n",
       "      <td>2014-11-03T00:00:00</td>\n",
       "      <td>1209.0</td>\n",
       "      <td>LT372A</td>\n",
       "      <td>NaN</td>\n",
       "      <td>CA</td>\n",
       "      <td>201503.0</td>\n",
       "      <td>9425</td>\n",
       "      <td>NaN</td>\n",
       "      <td>PA</td>\n",
       "      <td>SL</td>\n",
       "      <td>323 BOYD ST</td>\n",
       "      <td>00667</td>\n",
       "      <td>56.0</td>\n",
       "      <td>88.13B+</td>\n",
       "      <td>METER EXP.</td>\n",
       "      <td>63.0</td>\n",
       "      <td>6487783.2</td>\n",
       "      <td>1839600.4</td>\n",
       "    </tr>\n",
       "    <tr>\n",
       "      <td>1252337</td>\n",
       "      <td>4247320243</td>\n",
       "      <td>2014-11-03T00:00:00</td>\n",
       "      <td>1322.0</td>\n",
       "      <td>NaN</td>\n",
       "      <td>NaN</td>\n",
       "      <td>CA</td>\n",
       "      <td>3.0</td>\n",
       "      <td>NV</td>\n",
       "      <td>OTHR</td>\n",
       "      <td>VN</td>\n",
       "      <td>BN</td>\n",
       "      <td>127 SAN PEDRO ST S</td>\n",
       "      <td>00667</td>\n",
       "      <td>56.0</td>\n",
       "      <td>22514</td>\n",
       "      <td>FIRE HYDRANT</td>\n",
       "      <td>68.0</td>\n",
       "      <td>6488631.4</td>\n",
       "      <td>1840709.2</td>\n",
       "    </tr>\n",
       "  </tbody>\n",
       "</table>\n",
       "<p>16309 rows × 19 columns</p>\n",
       "</div>"
      ],
      "text/plain": [
       "        Ticket number           Issue Date  Issue time Meter Id  Marked Time  \\\n",
       "1235876    4241125932  2014-10-31T00:00:00       805.0      NaN          NaN   \n",
       "1235877    4241125943  2014-10-31T00:00:00       807.0      NaN          NaN   \n",
       "1235878    4241125954  2014-10-31T00:00:00       809.0      NaN          NaN   \n",
       "1235879    4241125965  2014-10-31T00:00:00       814.0      NaN          NaN   \n",
       "1235880    4241125976  2014-10-31T00:00:00       815.0      NaN          NaN   \n",
       "...               ...                  ...         ...      ...          ...   \n",
       "1252333    4247320195  2014-11-03T00:00:00      1110.0  CB3067A          NaN   \n",
       "1252334    4247320206  2014-11-03T00:00:00      1131.0      NaN          NaN   \n",
       "1252335    4247320221  2014-11-03T00:00:00      1153.0    LT288          NaN   \n",
       "1252336    4247320232  2014-11-03T00:00:00      1209.0   LT372A          NaN   \n",
       "1252337    4247320243  2014-11-03T00:00:00      1322.0      NaN          NaN   \n",
       "\n",
       "        RP State Plate  Plate Expiry Date                VIN  Make Body Style  \\\n",
       "1235876             CA                NaN  1ZVFT80N465228314   NaN         PA   \n",
       "1235877             CA           201509.0               0199   NaN         PA   \n",
       "1235878             CA           201502.0               3491   NaN         PA   \n",
       "1235879             CA                NaN  1G1ZS58F47F170546   NaN         PA   \n",
       "1235880             CA           201412.0               9817  TOYT         PA   \n",
       "...                ...                ...                ...   ...        ...   \n",
       "1252333             CA                NaN  1N4AL3AP2EN224587   NaN         PA   \n",
       "1252334             CA               11.0                 NV   NaN         VN   \n",
       "1252335             CA           201509.0               7870   NaN         PA   \n",
       "1252336             CA           201503.0               9425   NaN         PA   \n",
       "1252337             CA                3.0                 NV  OTHR         VN   \n",
       "\n",
       "        Color              Location  Route  Agency Violation code  \\\n",
       "1235876    BK      7045 LINDLEY AVE  00374    53.0        80.69BS   \n",
       "1235877    SL      6941 LINDLEY AVE  00374    53.0        80.69BS   \n",
       "1235878    BK      6621 LINDLEY AVE  00374    53.0        80.69BS   \n",
       "1235879    SL      6430 RESEDA BLVD  00374    53.0        80.69BS   \n",
       "1235880    GN      6430 RESEDA BLVD  00374    53.0        80.69BS   \n",
       "...       ...                   ...    ...     ...            ...   \n",
       "1252333    GY          355 4TH ST E  00667    56.0        88.13B+   \n",
       "1252334    BN  300 LOS ANGELES ST S  00667    56.0       80.56E4+   \n",
       "1252335    GY          471 3RD ST E  00667    56.0        88.13B+   \n",
       "1252336    SL           323 BOYD ST  00667    56.0        88.13B+   \n",
       "1252337    BN    127 SAN PEDRO ST S  00667    56.0          22514   \n",
       "\n",
       "        Violation Description  Fine amount   Latitude  Longitude  \n",
       "1235876  NO PARK/STREET CLEAN         73.0  6402218.1  1894969.7  \n",
       "1235877  NO PARK/STREET CLEAN         73.0  6402214.7  1894293.0  \n",
       "1235878  NO PARK/STREET CLEAN         73.0  6402205.6  1892169.7  \n",
       "1235879  NO PARK/STREET CLEAN         73.0  6399558.0  1890949.9  \n",
       "1235880  NO PARK/STREET CLEAN         73.0  6399558.0  1890949.9  \n",
       "...                       ...          ...        ...        ...  \n",
       "1252333            METER EXP.         63.0  6485950.2  1840638.1  \n",
       "1252334              RED ZONE         93.0  6487537.5  1840128.2  \n",
       "1252335            METER EXP.         63.0  6504955.2  1738919.6  \n",
       "1252336            METER EXP.         63.0  6487783.2  1839600.4  \n",
       "1252337          FIRE HYDRANT         68.0  6488631.4  1840709.2  \n",
       "\n",
       "[16309 rows x 19 columns]"
      ]
     },
     "execution_count": 9,
     "metadata": {},
     "output_type": "execute_result"
    }
   ],
   "source": [
    "data[data[\"VIN\"].isna()==False]"
   ]
  },
  {
   "cell_type": "code",
   "execution_count": 10,
   "metadata": {},
   "outputs": [
    {
     "data": {
      "text/html": [
       "<div>\n",
       "<style scoped>\n",
       "    .dataframe tbody tr th:only-of-type {\n",
       "        vertical-align: middle;\n",
       "    }\n",
       "\n",
       "    .dataframe tbody tr th {\n",
       "        vertical-align: top;\n",
       "    }\n",
       "\n",
       "    .dataframe thead th {\n",
       "        text-align: right;\n",
       "    }\n",
       "</style>\n",
       "<table border=\"1\" class=\"dataframe\">\n",
       "  <thead>\n",
       "    <tr style=\"text-align: right;\">\n",
       "      <th></th>\n",
       "      <th>Ticket number</th>\n",
       "      <th>Issue Date</th>\n",
       "      <th>Issue time</th>\n",
       "      <th>Meter Id</th>\n",
       "      <th>Marked Time</th>\n",
       "      <th>RP State Plate</th>\n",
       "      <th>Plate Expiry Date</th>\n",
       "      <th>VIN</th>\n",
       "      <th>Make</th>\n",
       "      <th>Body Style</th>\n",
       "      <th>Color</th>\n",
       "      <th>Location</th>\n",
       "      <th>Route</th>\n",
       "      <th>Agency</th>\n",
       "      <th>Violation code</th>\n",
       "      <th>Violation Description</th>\n",
       "      <th>Fine amount</th>\n",
       "      <th>Latitude</th>\n",
       "      <th>Longitude</th>\n",
       "    </tr>\n",
       "  </thead>\n",
       "  <tbody>\n",
       "    <tr>\n",
       "      <td>1235930</td>\n",
       "      <td>4242410454</td>\n",
       "      <td>2014-11-01T00:00:00</td>\n",
       "      <td>911.0</td>\n",
       "      <td>NaN</td>\n",
       "      <td>NaN</td>\n",
       "      <td>CA</td>\n",
       "      <td>5.0</td>\n",
       "      <td>NV</td>\n",
       "      <td>NaN</td>\n",
       "      <td>PA</td>\n",
       "      <td>BK</td>\n",
       "      <td>14800 CAMARILLO ST</td>\n",
       "      <td>360R1</td>\n",
       "      <td>53.0</td>\n",
       "      <td>80.69B</td>\n",
       "      <td>NO PARKING</td>\n",
       "      <td>73.0</td>\n",
       "      <td>6423940.3</td>\n",
       "      <td>1880017.6</td>\n",
       "    </tr>\n",
       "    <tr>\n",
       "      <td>1235931</td>\n",
       "      <td>4242410465</td>\n",
       "      <td>2014-11-01T00:00:00</td>\n",
       "      <td>912.0</td>\n",
       "      <td>NaN</td>\n",
       "      <td>NaN</td>\n",
       "      <td>IL</td>\n",
       "      <td>7.0</td>\n",
       "      <td>NV</td>\n",
       "      <td>NaN</td>\n",
       "      <td>PU</td>\n",
       "      <td>WT</td>\n",
       "      <td>14800 CAMARILLO ST</td>\n",
       "      <td>360R1</td>\n",
       "      <td>53.0</td>\n",
       "      <td>80.69B</td>\n",
       "      <td>NO PARKING</td>\n",
       "      <td>73.0</td>\n",
       "      <td>6423940.3</td>\n",
       "      <td>1880017.6</td>\n",
       "    </tr>\n",
       "    <tr>\n",
       "      <td>1235938</td>\n",
       "      <td>4242410535</td>\n",
       "      <td>2014-11-01T00:00:00</td>\n",
       "      <td>941.0</td>\n",
       "      <td>SO623</td>\n",
       "      <td>NaN</td>\n",
       "      <td>CA</td>\n",
       "      <td>5.0</td>\n",
       "      <td>NV</td>\n",
       "      <td>BMW</td>\n",
       "      <td>PA</td>\n",
       "      <td>SL</td>\n",
       "      <td>4900 VAN NUYS BL</td>\n",
       "      <td>360R1</td>\n",
       "      <td>53.0</td>\n",
       "      <td>88.13B+</td>\n",
       "      <td>METER EXP.</td>\n",
       "      <td>63.0</td>\n",
       "      <td>6425928.2</td>\n",
       "      <td>1880706.9</td>\n",
       "    </tr>\n",
       "    <tr>\n",
       "      <td>1235944</td>\n",
       "      <td>4242410605</td>\n",
       "      <td>2014-11-01T00:00:00</td>\n",
       "      <td>1407.0</td>\n",
       "      <td>NaN</td>\n",
       "      <td>NaN</td>\n",
       "      <td>CA</td>\n",
       "      <td>2.0</td>\n",
       "      <td>NV</td>\n",
       "      <td>TOYT</td>\n",
       "      <td>PA</td>\n",
       "      <td>SL</td>\n",
       "      <td>15632 SATICOY ST</td>\n",
       "      <td>360R1</td>\n",
       "      <td>53.0</td>\n",
       "      <td>22502A</td>\n",
       "      <td>18 IN. CURB/2 WAY</td>\n",
       "      <td>63.0</td>\n",
       "      <td>6418419.8</td>\n",
       "      <td>1898578.1</td>\n",
       "    </tr>\n",
       "    <tr>\n",
       "      <td>1236067</td>\n",
       "      <td>4243668402</td>\n",
       "      <td>2014-11-01T00:00:00</td>\n",
       "      <td>1323.0</td>\n",
       "      <td>NaN</td>\n",
       "      <td>NaN</td>\n",
       "      <td>CA</td>\n",
       "      <td>201506.0</td>\n",
       "      <td>NV</td>\n",
       "      <td>MERC</td>\n",
       "      <td>PA</td>\n",
       "      <td>BL</td>\n",
       "      <td>7100 BROADWAY</td>\n",
       "      <td>549A</td>\n",
       "      <td>51.0</td>\n",
       "      <td>80.56E4+</td>\n",
       "      <td>RED ZONE</td>\n",
       "      <td>93.0</td>\n",
       "      <td>6477289.0</td>\n",
       "      <td>1813621.4</td>\n",
       "    </tr>\n",
       "    <tr>\n",
       "      <td>...</td>\n",
       "      <td>...</td>\n",
       "      <td>...</td>\n",
       "      <td>...</td>\n",
       "      <td>...</td>\n",
       "      <td>...</td>\n",
       "      <td>...</td>\n",
       "      <td>...</td>\n",
       "      <td>...</td>\n",
       "      <td>...</td>\n",
       "      <td>...</td>\n",
       "      <td>...</td>\n",
       "      <td>...</td>\n",
       "      <td>...</td>\n",
       "      <td>...</td>\n",
       "      <td>...</td>\n",
       "      <td>...</td>\n",
       "      <td>...</td>\n",
       "      <td>...</td>\n",
       "      <td>...</td>\n",
       "    </tr>\n",
       "    <tr>\n",
       "      <td>1252320</td>\n",
       "      <td>4247320066</td>\n",
       "      <td>2014-11-03T00:00:00</td>\n",
       "      <td>905.0</td>\n",
       "      <td>NaN</td>\n",
       "      <td>NaN</td>\n",
       "      <td>CA</td>\n",
       "      <td>8.0</td>\n",
       "      <td>NV</td>\n",
       "      <td>NaN</td>\n",
       "      <td>TK</td>\n",
       "      <td>RD</td>\n",
       "      <td>640 WALL ST S</td>\n",
       "      <td>00667</td>\n",
       "      <td>56.0</td>\n",
       "      <td>22500H</td>\n",
       "      <td>DOUBLE PARKING</td>\n",
       "      <td>68.0</td>\n",
       "      <td>6486628.3</td>\n",
       "      <td>1838064.4</td>\n",
       "    </tr>\n",
       "    <tr>\n",
       "      <td>1252324</td>\n",
       "      <td>4247320103</td>\n",
       "      <td>2014-11-03T00:00:00</td>\n",
       "      <td>922.0</td>\n",
       "      <td>NaN</td>\n",
       "      <td>NaN</td>\n",
       "      <td>CA</td>\n",
       "      <td>201501.0</td>\n",
       "      <td>NV</td>\n",
       "      <td>TOYT</td>\n",
       "      <td>PA</td>\n",
       "      <td>GY</td>\n",
       "      <td>545 SAN PEDRO ST S</td>\n",
       "      <td>00667</td>\n",
       "      <td>56.0</td>\n",
       "      <td>80.69A+</td>\n",
       "      <td>STOP/STAND PROHIBIT</td>\n",
       "      <td>93.0</td>\n",
       "      <td>6487601.0</td>\n",
       "      <td>1838238.0</td>\n",
       "    </tr>\n",
       "    <tr>\n",
       "      <td>1252331</td>\n",
       "      <td>4247320173</td>\n",
       "      <td>2014-11-03T00:00:00</td>\n",
       "      <td>1038.0</td>\n",
       "      <td>NaN</td>\n",
       "      <td>NaN</td>\n",
       "      <td>CA</td>\n",
       "      <td>9.0</td>\n",
       "      <td>NV</td>\n",
       "      <td>NaN</td>\n",
       "      <td>VN</td>\n",
       "      <td>WT</td>\n",
       "      <td>471 3RD ST E</td>\n",
       "      <td>00667</td>\n",
       "      <td>56.0</td>\n",
       "      <td>80.56E4+</td>\n",
       "      <td>RED ZONE</td>\n",
       "      <td>93.0</td>\n",
       "      <td>6504955.2</td>\n",
       "      <td>1738919.6</td>\n",
       "    </tr>\n",
       "    <tr>\n",
       "      <td>1252334</td>\n",
       "      <td>4247320206</td>\n",
       "      <td>2014-11-03T00:00:00</td>\n",
       "      <td>1131.0</td>\n",
       "      <td>NaN</td>\n",
       "      <td>NaN</td>\n",
       "      <td>CA</td>\n",
       "      <td>11.0</td>\n",
       "      <td>NV</td>\n",
       "      <td>NaN</td>\n",
       "      <td>VN</td>\n",
       "      <td>BN</td>\n",
       "      <td>300 LOS ANGELES ST S</td>\n",
       "      <td>00667</td>\n",
       "      <td>56.0</td>\n",
       "      <td>80.56E4+</td>\n",
       "      <td>RED ZONE</td>\n",
       "      <td>93.0</td>\n",
       "      <td>6487537.5</td>\n",
       "      <td>1840128.2</td>\n",
       "    </tr>\n",
       "    <tr>\n",
       "      <td>1252337</td>\n",
       "      <td>4247320243</td>\n",
       "      <td>2014-11-03T00:00:00</td>\n",
       "      <td>1322.0</td>\n",
       "      <td>NaN</td>\n",
       "      <td>NaN</td>\n",
       "      <td>CA</td>\n",
       "      <td>3.0</td>\n",
       "      <td>NV</td>\n",
       "      <td>OTHR</td>\n",
       "      <td>VN</td>\n",
       "      <td>BN</td>\n",
       "      <td>127 SAN PEDRO ST S</td>\n",
       "      <td>00667</td>\n",
       "      <td>56.0</td>\n",
       "      <td>22514</td>\n",
       "      <td>FIRE HYDRANT</td>\n",
       "      <td>68.0</td>\n",
       "      <td>6488631.4</td>\n",
       "      <td>1840709.2</td>\n",
       "    </tr>\n",
       "  </tbody>\n",
       "</table>\n",
       "<p>509 rows × 19 columns</p>\n",
       "</div>"
      ],
      "text/plain": [
       "        Ticket number           Issue Date  Issue time Meter Id  Marked Time  \\\n",
       "1235930    4242410454  2014-11-01T00:00:00       911.0      NaN          NaN   \n",
       "1235931    4242410465  2014-11-01T00:00:00       912.0      NaN          NaN   \n",
       "1235938    4242410535  2014-11-01T00:00:00       941.0    SO623          NaN   \n",
       "1235944    4242410605  2014-11-01T00:00:00      1407.0      NaN          NaN   \n",
       "1236067    4243668402  2014-11-01T00:00:00      1323.0      NaN          NaN   \n",
       "...               ...                  ...         ...      ...          ...   \n",
       "1252320    4247320066  2014-11-03T00:00:00       905.0      NaN          NaN   \n",
       "1252324    4247320103  2014-11-03T00:00:00       922.0      NaN          NaN   \n",
       "1252331    4247320173  2014-11-03T00:00:00      1038.0      NaN          NaN   \n",
       "1252334    4247320206  2014-11-03T00:00:00      1131.0      NaN          NaN   \n",
       "1252337    4247320243  2014-11-03T00:00:00      1322.0      NaN          NaN   \n",
       "\n",
       "        RP State Plate  Plate Expiry Date VIN  Make Body Style Color  \\\n",
       "1235930             CA                5.0  NV   NaN         PA    BK   \n",
       "1235931             IL                7.0  NV   NaN         PU    WT   \n",
       "1235938             CA                5.0  NV   BMW         PA    SL   \n",
       "1235944             CA                2.0  NV  TOYT         PA    SL   \n",
       "1236067             CA           201506.0  NV  MERC         PA    BL   \n",
       "...                ...                ...  ..   ...        ...   ...   \n",
       "1252320             CA                8.0  NV   NaN         TK    RD   \n",
       "1252324             CA           201501.0  NV  TOYT         PA    GY   \n",
       "1252331             CA                9.0  NV   NaN         VN    WT   \n",
       "1252334             CA               11.0  NV   NaN         VN    BN   \n",
       "1252337             CA                3.0  NV  OTHR         VN    BN   \n",
       "\n",
       "                     Location  Route  Agency Violation code  \\\n",
       "1235930    14800 CAMARILLO ST  360R1    53.0         80.69B   \n",
       "1235931    14800 CAMARILLO ST  360R1    53.0         80.69B   \n",
       "1235938      4900 VAN NUYS BL  360R1    53.0        88.13B+   \n",
       "1235944      15632 SATICOY ST  360R1    53.0         22502A   \n",
       "1236067         7100 BROADWAY   549A    51.0       80.56E4+   \n",
       "...                       ...    ...     ...            ...   \n",
       "1252320         640 WALL ST S  00667    56.0         22500H   \n",
       "1252324    545 SAN PEDRO ST S  00667    56.0        80.69A+   \n",
       "1252331          471 3RD ST E  00667    56.0       80.56E4+   \n",
       "1252334  300 LOS ANGELES ST S  00667    56.0       80.56E4+   \n",
       "1252337    127 SAN PEDRO ST S  00667    56.0          22514   \n",
       "\n",
       "        Violation Description  Fine amount   Latitude  Longitude  \n",
       "1235930            NO PARKING         73.0  6423940.3  1880017.6  \n",
       "1235931            NO PARKING         73.0  6423940.3  1880017.6  \n",
       "1235938            METER EXP.         63.0  6425928.2  1880706.9  \n",
       "1235944     18 IN. CURB/2 WAY         63.0  6418419.8  1898578.1  \n",
       "1236067              RED ZONE         93.0  6477289.0  1813621.4  \n",
       "...                       ...          ...        ...        ...  \n",
       "1252320        DOUBLE PARKING         68.0  6486628.3  1838064.4  \n",
       "1252324   STOP/STAND PROHIBIT         93.0  6487601.0  1838238.0  \n",
       "1252331              RED ZONE         93.0  6504955.2  1738919.6  \n",
       "1252334              RED ZONE         93.0  6487537.5  1840128.2  \n",
       "1252337          FIRE HYDRANT         68.0  6488631.4  1840709.2  \n",
       "\n",
       "[509 rows x 19 columns]"
      ]
     },
     "execution_count": 10,
     "metadata": {},
     "output_type": "execute_result"
    }
   ],
   "source": [
    "data[data[\"VIN\"]==\"NV\"]"
   ]
  },
  {
   "cell_type": "code",
   "execution_count": 5,
   "metadata": {},
   "outputs": [],
   "source": [
    "VIN = data[\"VIN\"]\n",
    "data[\"VIN\"].fillna(\"NV\", inplace=True)"
   ]
  },
  {
   "cell_type": "code",
   "execution_count": 6,
   "metadata": {},
   "outputs": [],
   "source": [
    "issue_time = data[\"Issue time\"]\n",
    "data[\"Issue time\"].fillna(0, inplace=True)"
   ]
  },
  {
   "cell_type": "code",
   "execution_count": 7,
   "metadata": {},
   "outputs": [
    {
     "name": "stderr",
     "output_type": "stream",
     "text": [
      "/usr/local/lib/python3.5/site-packages/numpy/lib/nanfunctions.py:1019: RuntimeWarning: Mean of empty slice\n",
      "  return np.nanmean(a, axis, out=out, keepdims=keepdims)\n"
     ]
    }
   ],
   "source": [
    "data[\"Marked Time\"] = data.groupby(\"Issue time\")[\"Marked Time\"].transform(lambda x: x.fillna(x.median()))"
   ]
  },
  {
   "cell_type": "code",
   "execution_count": 8,
   "metadata": {},
   "outputs": [],
   "source": [
    "data[\"Marked Time\"].fillna(0, inplace=True)"
   ]
  },
  {
   "cell_type": "code",
   "execution_count": 9,
   "metadata": {},
   "outputs": [
    {
     "data": {
      "text/plain": [
       "37       46582\n",
       "53       30478\n",
       "51       29736\n",
       "13       27188\n",
       "49       26537\n",
       "         ...  \n",
       "LP20         1\n",
       "3328         1\n",
       "PR545        1\n",
       "733          1\n",
       "SP875        1\n",
       "Name: Meter Id, Length: 37823, dtype: int64"
      ]
     },
     "execution_count": 9,
     "metadata": {},
     "output_type": "execute_result"
    }
   ],
   "source": [
    "data[\"Meter Id\"].value_counts()"
   ]
  },
  {
   "cell_type": "code",
   "execution_count": 9,
   "metadata": {},
   "outputs": [],
   "source": [
    "meter = data[\"Meter Id\"]\n",
    "data[\"Meter Id\"].fillna(\"NA\", inplace=True)"
   ]
  },
  {
   "cell_type": "code",
   "execution_count": 10,
   "metadata": {},
   "outputs": [],
   "source": [
    "plate_exp = data[\"Plate Expiry Date\"]\n",
    "data[\"Plate Expiry Date\"].fillna(0, inplace=True)"
   ]
  },
  {
   "cell_type": "code",
   "execution_count": 18,
   "metadata": {},
   "outputs": [
    {
     "data": {
      "text/plain": [
       "00600    515410\n",
       "00500    363630\n",
       "00402    174775\n",
       "00401    170018\n",
       "00403    131820\n",
       "          ...  \n",
       "8ZL7          1\n",
       "19Z24         1\n",
       "12T75         1\n",
       "1C193         1\n",
       "A55           1\n",
       "Name: Route, Length: 8479, dtype: int64"
      ]
     },
     "execution_count": 18,
     "metadata": {},
     "output_type": "execute_result"
    }
   ],
   "source": [
    "data[\"Route\"].value_counts()"
   ]
  },
  {
   "cell_type": "code",
   "execution_count": 11,
   "metadata": {},
   "outputs": [],
   "source": [
    "route = data[\"Route\"]\n",
    "data[\"Route\"].fillna(\"00600\", inplace=True)"
   ]
  },
  {
   "cell_type": "code",
   "execution_count": 20,
   "metadata": {},
   "outputs": [
    {
     "data": {
      "text/html": [
       "<div>\n",
       "<style scoped>\n",
       "    .dataframe tbody tr th:only-of-type {\n",
       "        vertical-align: middle;\n",
       "    }\n",
       "\n",
       "    .dataframe tbody tr th {\n",
       "        vertical-align: top;\n",
       "    }\n",
       "\n",
       "    .dataframe thead th {\n",
       "        text-align: right;\n",
       "    }\n",
       "</style>\n",
       "<table border=\"1\" class=\"dataframe\">\n",
       "  <thead>\n",
       "    <tr style=\"text-align: right;\">\n",
       "      <th></th>\n",
       "      <th>Ticket number</th>\n",
       "      <th>Issue Date</th>\n",
       "      <th>Issue time</th>\n",
       "      <th>Meter Id</th>\n",
       "      <th>Marked Time</th>\n",
       "      <th>RP State Plate</th>\n",
       "      <th>Plate Expiry Date</th>\n",
       "      <th>VIN</th>\n",
       "      <th>Make</th>\n",
       "      <th>Body Style</th>\n",
       "      <th>Color</th>\n",
       "      <th>Location</th>\n",
       "      <th>Route</th>\n",
       "      <th>Agency</th>\n",
       "      <th>Violation code</th>\n",
       "      <th>Violation Description</th>\n",
       "      <th>Fine amount</th>\n",
       "      <th>Latitude</th>\n",
       "      <th>Longitude</th>\n",
       "    </tr>\n",
       "  </thead>\n",
       "  <tbody>\n",
       "    <tr>\n",
       "      <td>0</td>\n",
       "      <td>1103341116</td>\n",
       "      <td>2015-12-21T00:00:00</td>\n",
       "      <td>1251.0</td>\n",
       "      <td>NA</td>\n",
       "      <td>1040.0</td>\n",
       "      <td>CA</td>\n",
       "      <td>200304.0</td>\n",
       "      <td>NV</td>\n",
       "      <td>NaN</td>\n",
       "      <td>PA</td>\n",
       "      <td>GY</td>\n",
       "      <td>13147 WELBY WAY</td>\n",
       "      <td>01521</td>\n",
       "      <td>1.0</td>\n",
       "      <td>4000A1</td>\n",
       "      <td>NO EVIDENCE OF REG</td>\n",
       "      <td>50.0</td>\n",
       "      <td>9.999900e+04</td>\n",
       "      <td>9.999900e+04</td>\n",
       "    </tr>\n",
       "    <tr>\n",
       "      <td>1</td>\n",
       "      <td>1103700150</td>\n",
       "      <td>2015-12-21T00:00:00</td>\n",
       "      <td>1435.0</td>\n",
       "      <td>NA</td>\n",
       "      <td>1215.5</td>\n",
       "      <td>CA</td>\n",
       "      <td>201512.0</td>\n",
       "      <td>NV</td>\n",
       "      <td>NaN</td>\n",
       "      <td>VN</td>\n",
       "      <td>WH</td>\n",
       "      <td>525 S MAIN ST</td>\n",
       "      <td>1C51</td>\n",
       "      <td>1.0</td>\n",
       "      <td>4000A1</td>\n",
       "      <td>NO EVIDENCE OF REG</td>\n",
       "      <td>50.0</td>\n",
       "      <td>9.999900e+04</td>\n",
       "      <td>9.999900e+04</td>\n",
       "    </tr>\n",
       "    <tr>\n",
       "      <td>2</td>\n",
       "      <td>1104803000</td>\n",
       "      <td>2015-12-21T00:00:00</td>\n",
       "      <td>2055.0</td>\n",
       "      <td>NA</td>\n",
       "      <td>1708.0</td>\n",
       "      <td>CA</td>\n",
       "      <td>201503.0</td>\n",
       "      <td>NV</td>\n",
       "      <td>NaN</td>\n",
       "      <td>PA</td>\n",
       "      <td>BK</td>\n",
       "      <td>200 WORLD WAY</td>\n",
       "      <td>2R2</td>\n",
       "      <td>2.0</td>\n",
       "      <td>8939</td>\n",
       "      <td>WHITE CURB</td>\n",
       "      <td>58.0</td>\n",
       "      <td>6.439998e+06</td>\n",
       "      <td>1.802686e+06</td>\n",
       "    </tr>\n",
       "    <tr>\n",
       "      <td>3</td>\n",
       "      <td>1104820732</td>\n",
       "      <td>2015-12-26T00:00:00</td>\n",
       "      <td>1515.0</td>\n",
       "      <td>NA</td>\n",
       "      <td>1257.0</td>\n",
       "      <td>CA</td>\n",
       "      <td>0.0</td>\n",
       "      <td>NV</td>\n",
       "      <td>NaN</td>\n",
       "      <td>PA</td>\n",
       "      <td>WH</td>\n",
       "      <td>100 WORLD WAY</td>\n",
       "      <td>2F11</td>\n",
       "      <td>2.0</td>\n",
       "      <td>000</td>\n",
       "      <td>17104h</td>\n",
       "      <td>NaN</td>\n",
       "      <td>6.440041e+06</td>\n",
       "      <td>1.802686e+06</td>\n",
       "    </tr>\n",
       "    <tr>\n",
       "      <td>4</td>\n",
       "      <td>1105461453</td>\n",
       "      <td>2015-09-15T00:00:00</td>\n",
       "      <td>115.0</td>\n",
       "      <td>NA</td>\n",
       "      <td>2315.0</td>\n",
       "      <td>CA</td>\n",
       "      <td>200316.0</td>\n",
       "      <td>NV</td>\n",
       "      <td>CHEV</td>\n",
       "      <td>PA</td>\n",
       "      <td>BK</td>\n",
       "      <td>GEORGIA ST/OLYMPIC</td>\n",
       "      <td>1FB70</td>\n",
       "      <td>1.0</td>\n",
       "      <td>8069A</td>\n",
       "      <td>NO STOPPING/STANDING</td>\n",
       "      <td>93.0</td>\n",
       "      <td>9.999900e+04</td>\n",
       "      <td>9.999900e+04</td>\n",
       "    </tr>\n",
       "    <tr>\n",
       "      <td>...</td>\n",
       "      <td>...</td>\n",
       "      <td>...</td>\n",
       "      <td>...</td>\n",
       "      <td>...</td>\n",
       "      <td>...</td>\n",
       "      <td>...</td>\n",
       "      <td>...</td>\n",
       "      <td>...</td>\n",
       "      <td>...</td>\n",
       "      <td>...</td>\n",
       "      <td>...</td>\n",
       "      <td>...</td>\n",
       "      <td>...</td>\n",
       "      <td>...</td>\n",
       "      <td>...</td>\n",
       "      <td>...</td>\n",
       "      <td>...</td>\n",
       "      <td>...</td>\n",
       "      <td>...</td>\n",
       "    </tr>\n",
       "    <tr>\n",
       "      <td>8726009</td>\n",
       "      <td>4347602394</td>\n",
       "      <td>2019-01-10T00:00:00</td>\n",
       "      <td>1245.0</td>\n",
       "      <td>VN686B</td>\n",
       "      <td>1034.0</td>\n",
       "      <td>CA</td>\n",
       "      <td>201905.0</td>\n",
       "      <td>NV</td>\n",
       "      <td>NaN</td>\n",
       "      <td>PA</td>\n",
       "      <td>WT</td>\n",
       "      <td>14301 DELANO ST</td>\n",
       "      <td>00300</td>\n",
       "      <td>53.0</td>\n",
       "      <td>88.13B+</td>\n",
       "      <td>METER EXP.</td>\n",
       "      <td>63.0</td>\n",
       "      <td>6.427279e+06</td>\n",
       "      <td>1.889149e+06</td>\n",
       "    </tr>\n",
       "    <tr>\n",
       "      <td>8726010</td>\n",
       "      <td>4347602405</td>\n",
       "      <td>2019-01-10T00:00:00</td>\n",
       "      <td>1350.0</td>\n",
       "      <td>VN316</td>\n",
       "      <td>1130.0</td>\n",
       "      <td>CA</td>\n",
       "      <td>201905.0</td>\n",
       "      <td>NV</td>\n",
       "      <td>HYUN</td>\n",
       "      <td>PA</td>\n",
       "      <td>SL</td>\n",
       "      <td>14500 FRIAR ST</td>\n",
       "      <td>00300</td>\n",
       "      <td>53.0</td>\n",
       "      <td>88.13B+</td>\n",
       "      <td>METER EXP.</td>\n",
       "      <td>63.0</td>\n",
       "      <td>6.425963e+06</td>\n",
       "      <td>1.890254e+06</td>\n",
       "    </tr>\n",
       "    <tr>\n",
       "      <td>8726011</td>\n",
       "      <td>4347602416</td>\n",
       "      <td>2019-01-10T00:00:00</td>\n",
       "      <td>1354.0</td>\n",
       "      <td>VN914</td>\n",
       "      <td>1136.0</td>\n",
       "      <td>CA</td>\n",
       "      <td>201912.0</td>\n",
       "      <td>NV</td>\n",
       "      <td>NISS</td>\n",
       "      <td>PA</td>\n",
       "      <td>GY</td>\n",
       "      <td>14400 FRIAR ST</td>\n",
       "      <td>00300</td>\n",
       "      <td>53.0</td>\n",
       "      <td>88.13B+</td>\n",
       "      <td>METER EXP.</td>\n",
       "      <td>63.0</td>\n",
       "      <td>6.426623e+06</td>\n",
       "      <td>1.890252e+06</td>\n",
       "    </tr>\n",
       "    <tr>\n",
       "      <td>8726012</td>\n",
       "      <td>4347602420</td>\n",
       "      <td>2019-01-10T00:00:00</td>\n",
       "      <td>1411.0</td>\n",
       "      <td>VN725</td>\n",
       "      <td>1151.0</td>\n",
       "      <td>CA</td>\n",
       "      <td>201903.0</td>\n",
       "      <td>NV</td>\n",
       "      <td>NaN</td>\n",
       "      <td>PA</td>\n",
       "      <td>GY</td>\n",
       "      <td>6300 SYLMAR AV</td>\n",
       "      <td>00300</td>\n",
       "      <td>53.0</td>\n",
       "      <td>88.13B+</td>\n",
       "      <td>METER EXP.</td>\n",
       "      <td>63.0</td>\n",
       "      <td>6.426622e+06</td>\n",
       "      <td>1.889882e+06</td>\n",
       "    </tr>\n",
       "    <tr>\n",
       "      <td>8726013</td>\n",
       "      <td>4347602431</td>\n",
       "      <td>2019-01-10T00:00:00</td>\n",
       "      <td>1414.0</td>\n",
       "      <td>VN749</td>\n",
       "      <td>1155.0</td>\n",
       "      <td>CA</td>\n",
       "      <td>201905.0</td>\n",
       "      <td>NV</td>\n",
       "      <td>BMW</td>\n",
       "      <td>PA</td>\n",
       "      <td>BK</td>\n",
       "      <td>6301 SYLMAR AV</td>\n",
       "      <td>00300</td>\n",
       "      <td>53.0</td>\n",
       "      <td>88.13B+</td>\n",
       "      <td>METER EXP.</td>\n",
       "      <td>63.0</td>\n",
       "      <td>6.426622e+06</td>\n",
       "      <td>1.889882e+06</td>\n",
       "    </tr>\n",
       "  </tbody>\n",
       "</table>\n",
       "<p>8717124 rows × 19 columns</p>\n",
       "</div>"
      ],
      "text/plain": [
       "        Ticket number           Issue Date  Issue time Meter Id  Marked Time  \\\n",
       "0          1103341116  2015-12-21T00:00:00      1251.0       NA       1040.0   \n",
       "1          1103700150  2015-12-21T00:00:00      1435.0       NA       1215.5   \n",
       "2          1104803000  2015-12-21T00:00:00      2055.0       NA       1708.0   \n",
       "3          1104820732  2015-12-26T00:00:00      1515.0       NA       1257.0   \n",
       "4          1105461453  2015-09-15T00:00:00       115.0       NA       2315.0   \n",
       "...               ...                  ...         ...      ...          ...   \n",
       "8726009    4347602394  2019-01-10T00:00:00      1245.0   VN686B       1034.0   \n",
       "8726010    4347602405  2019-01-10T00:00:00      1350.0    VN316       1130.0   \n",
       "8726011    4347602416  2019-01-10T00:00:00      1354.0    VN914       1136.0   \n",
       "8726012    4347602420  2019-01-10T00:00:00      1411.0    VN725       1151.0   \n",
       "8726013    4347602431  2019-01-10T00:00:00      1414.0    VN749       1155.0   \n",
       "\n",
       "        RP State Plate  Plate Expiry Date VIN  Make Body Style Color  \\\n",
       "0                   CA           200304.0  NV   NaN         PA    GY   \n",
       "1                   CA           201512.0  NV   NaN         VN    WH   \n",
       "2                   CA           201503.0  NV   NaN         PA    BK   \n",
       "3                   CA                0.0  NV   NaN         PA    WH   \n",
       "4                   CA           200316.0  NV  CHEV         PA    BK   \n",
       "...                ...                ...  ..   ...        ...   ...   \n",
       "8726009             CA           201905.0  NV   NaN         PA    WT   \n",
       "8726010             CA           201905.0  NV  HYUN         PA    SL   \n",
       "8726011             CA           201912.0  NV  NISS         PA    GY   \n",
       "8726012             CA           201903.0  NV   NaN         PA    GY   \n",
       "8726013             CA           201905.0  NV   BMW         PA    BK   \n",
       "\n",
       "                   Location  Route  Agency Violation code  \\\n",
       "0           13147 WELBY WAY  01521     1.0         4000A1   \n",
       "1             525 S MAIN ST   1C51     1.0         4000A1   \n",
       "2             200 WORLD WAY    2R2     2.0           8939   \n",
       "3             100 WORLD WAY   2F11     2.0            000   \n",
       "4        GEORGIA ST/OLYMPIC  1FB70     1.0          8069A   \n",
       "...                     ...    ...     ...            ...   \n",
       "8726009     14301 DELANO ST  00300    53.0        88.13B+   \n",
       "8726010      14500 FRIAR ST  00300    53.0        88.13B+   \n",
       "8726011      14400 FRIAR ST  00300    53.0        88.13B+   \n",
       "8726012      6300 SYLMAR AV  00300    53.0        88.13B+   \n",
       "8726013      6301 SYLMAR AV  00300    53.0        88.13B+   \n",
       "\n",
       "        Violation Description  Fine amount      Latitude     Longitude  \n",
       "0          NO EVIDENCE OF REG         50.0  9.999900e+04  9.999900e+04  \n",
       "1          NO EVIDENCE OF REG         50.0  9.999900e+04  9.999900e+04  \n",
       "2                  WHITE CURB         58.0  6.439998e+06  1.802686e+06  \n",
       "3                      17104h          NaN  6.440041e+06  1.802686e+06  \n",
       "4        NO STOPPING/STANDING         93.0  9.999900e+04  9.999900e+04  \n",
       "...                       ...          ...           ...           ...  \n",
       "8726009            METER EXP.         63.0  6.427279e+06  1.889149e+06  \n",
       "8726010            METER EXP.         63.0  6.425963e+06  1.890254e+06  \n",
       "8726011            METER EXP.         63.0  6.426623e+06  1.890252e+06  \n",
       "8726012            METER EXP.         63.0  6.426622e+06  1.889882e+06  \n",
       "8726013            METER EXP.         63.0  6.426622e+06  1.889882e+06  \n",
       "\n",
       "[8717124 rows x 19 columns]"
      ]
     },
     "execution_count": 20,
     "metadata": {},
     "output_type": "execute_result"
    }
   ],
   "source": [
    "data[data[\"Body Style\"].isna()==False]"
   ]
  },
  {
   "cell_type": "code",
   "execution_count": 21,
   "metadata": {},
   "outputs": [
    {
     "data": {
      "text/plain": [
       "PA    7673976\n",
       "PU     298897\n",
       "VN     233505\n",
       "TK     213271\n",
       "CM     140263\n",
       "       ...   \n",
       "NH          1\n",
       "EL          1\n",
       "IC          1\n",
       "ET          1\n",
       "FE          1\n",
       "Name: Body Style, Length: 191, dtype: int64"
      ]
     },
     "execution_count": 21,
     "metadata": {},
     "output_type": "execute_result"
    }
   ],
   "source": [
    "data[\"Body Style\"].value_counts()"
   ]
  },
  {
   "cell_type": "code",
   "execution_count": 12,
   "metadata": {},
   "outputs": [],
   "source": [
    "body_style = data[\"Body Style\"]\n",
    "data['Body Style'].fillna(\"PA\", inplace=True)"
   ]
  },
  {
   "cell_type": "code",
   "execution_count": 13,
   "metadata": {},
   "outputs": [],
   "source": [
    "violation_desc = data[\"Violation Description\"]\n",
    "data[\"Violation Description\"].fillna(\"NO DESCRIPTION\", inplace=True)"
   ]
  },
  {
   "cell_type": "code",
   "execution_count": 15,
   "metadata": {},
   "outputs": [
    {
     "data": {
      "text/plain": [
       "6507"
      ]
     },
     "execution_count": 15,
     "metadata": {},
     "output_type": "execute_result"
    }
   ],
   "source": [
    "data[\"Fine amount\"].isna().sum()"
   ]
  },
  {
   "cell_type": "code",
   "execution_count": 14,
   "metadata": {},
   "outputs": [],
   "source": [
    "data[\"Fine amount\"] = data.groupby(\"Violation Description\")[\"Fine amount\"].transform(lambda x: x.fillna(x.median()))"
   ]
  },
  {
   "cell_type": "code",
   "execution_count": 15,
   "metadata": {},
   "outputs": [],
   "source": [
    "data[\"Fine amount\"].fillna(data[\"Fine amount\"].mean(), inplace=True)"
   ]
  },
  {
   "cell_type": "code",
   "execution_count": 16,
   "metadata": {},
   "outputs": [],
   "source": [
    "color = data[\"Color\"]\n",
    "data[\"Color\"].fillna(\"NA\", inplace=True)"
   ]
  },
  {
   "cell_type": "code",
   "execution_count": 17,
   "metadata": {},
   "outputs": [],
   "source": [
    "location = data[\"Location\"]\n",
    "data[\"Location\"].fillna(\"NO LOCATION\", inplace=True)"
   ]
  },
  {
   "cell_type": "code",
   "execution_count": 18,
   "metadata": {},
   "outputs": [
    {
     "data": {
      "text/plain": [
       "CA    8127986\n",
       "AZ      77649\n",
       "TX      55337\n",
       "NV      51944\n",
       "FL      37924\n",
       "       ...   \n",
       "AS         16\n",
       "NF         13\n",
       "YU          8\n",
       "|           2\n",
       "ML          1\n",
       "Name: RP State Plate, Length: 78, dtype: int64"
      ]
     },
     "execution_count": 18,
     "metadata": {},
     "output_type": "execute_result"
    }
   ],
   "source": [
    "data[\"RP State Plate\"].value_counts()"
   ]
  },
  {
   "cell_type": "code",
   "execution_count": 19,
   "metadata": {},
   "outputs": [],
   "source": [
    "state_plate = data[\"RP State Plate\"]\n",
    "data[\"RP State Plate\"].fillna(\"CA\", inplace=True)"
   ]
  },
  {
   "cell_type": "code",
   "execution_count": 124,
   "metadata": {},
   "outputs": [
    {
     "data": {
      "text/plain": [
       "54.0    2150548\n",
       "51.0    1943578\n",
       "56.0    1846731\n",
       "53.0    1571032\n",
       "55.0     876274\n",
       "1.0      189383\n",
       "2.0       51700\n",
       "57.0      37202\n",
       "4.0       26652\n",
       "58.0       9596\n",
       "36.0       8028\n",
       "40.0       5644\n",
       "3.0        4965\n",
       "11.0       3285\n",
       "34.0        381\n",
       "41.0        171\n",
       "97.0         87\n",
       "5.0          61\n",
       "50.0         30\n",
       "59.0         30\n",
       "6.0          19\n",
       "12.0         13\n",
       "60.0         11\n",
       "77.0          7\n",
       "52.0          6\n",
       "9.0           5\n",
       "7.0           4\n",
       "15.0          4\n",
       "24.0          3\n",
       "35.0          3\n",
       "45.0          2\n",
       "8.0           2\n",
       "16.0          1\n",
       "30.0          1\n",
       "13.0          1\n",
       "42.0          1\n",
       "32.0          1\n",
       "10.0          1\n",
       "43.0          1\n",
       "71.0          1\n",
       "70.0          1\n",
       "68.0          1\n",
       "61.0          1\n",
       "38.0          1\n",
       "Name: Agency, dtype: int64"
      ]
     },
     "execution_count": 124,
     "metadata": {},
     "output_type": "execute_result"
    }
   ],
   "source": [
    "data[\"Agency\"].value_counts()"
   ]
  },
  {
   "cell_type": "code",
   "execution_count": 20,
   "metadata": {},
   "outputs": [],
   "source": [
    "data[\"Agency\"] = data.groupby(\"Route\")[\"Agency\"].transform(lambda x: x.fillna(x.median()))"
   ]
  },
  {
   "cell_type": "code",
   "execution_count": 126,
   "metadata": {},
   "outputs": [
    {
     "data": {
      "text/plain": [
       "2016-01-19T00:00:00    9830\n",
       "2014-12-31T00:00:00    9605\n",
       "2016-05-05T00:00:00    9366\n",
       "2016-02-23T00:00:00    9339\n",
       "2015-06-09T00:00:00    9275\n",
       "                       ... \n",
       "2014-08-06T00:00:00       1\n",
       "2014-09-09T00:00:00       1\n",
       "2014-03-11T00:00:00       1\n",
       "2013-02-26T00:00:00       1\n",
       "2013-08-12T00:00:00       1\n",
       "Name: Issue Date, Length: 1843, dtype: int64"
      ]
     },
     "execution_count": 126,
     "metadata": {},
     "output_type": "execute_result"
    }
   ],
   "source": [
    "data[\"Issue Date\"].value_counts()"
   ]
  },
  {
   "cell_type": "code",
   "execution_count": 21,
   "metadata": {},
   "outputs": [],
   "source": [
    "issue_date = data[\"Issue Date\"]\n",
    "data[\"Issue Date\"].fillna(\"2016-01-19T00:00:00\", inplace=True)\n"
   ]
  },
  {
   "cell_type": "code",
   "execution_count": 22,
   "metadata": {},
   "outputs": [],
   "source": [
    "latitude = data[\"Latitude\"]\n",
    "longitude = data[\"Longitude\"]\n",
    "data[\"Latitude\"].fillna(\"99999.0\", inplace=True)\n",
    "data[\"Longitude\"].fillna(\"99999.0\", inplace=True)"
   ]
  },
  {
   "cell_type": "code",
   "execution_count": 25,
   "metadata": {},
   "outputs": [
    {
     "data": {
      "text/plain": [
       "Ticket number             object\n",
       "Issue Date                object\n",
       "Issue time               float64\n",
       "Meter Id                  object\n",
       "Marked Time              float64\n",
       "RP State Plate            object\n",
       "Plate Expiry Date        float64\n",
       "VIN                       object\n",
       "Make                      object\n",
       "Body Style                object\n",
       "Color                     object\n",
       "Location                  object\n",
       "Route                     object\n",
       "Agency                   float64\n",
       "Violation code            object\n",
       "Violation Description     object\n",
       "Fine amount              float64\n",
       "Latitude                  object\n",
       "Longitude                 object\n",
       "dtype: object"
      ]
     },
     "execution_count": 25,
     "metadata": {},
     "output_type": "execute_result"
    }
   ],
   "source": [
    "data.dtypes"
   ]
  },
  {
   "cell_type": "code",
   "execution_count": 23,
   "metadata": {},
   "outputs": [],
   "source": [
    "le = LabelEncoder()\n",
    "data[\"Meter Id\"] = le.fit_transform(data[\"Meter Id\"])\n",
    "data[\"RP State Plate\"] = le.fit_transform(data[\"RP State Plate\"])\n",
    "data[\"VIN\"] = le.fit_transform(data[\"VIN\"])\n",
    "data[\"Body Style\"] = le.fit_transform(data[\"Body Style\"])\n",
    "data[\"Color\"] = le.fit_transform(data[\"Color\"])\n",
    "data[\"Route\"] = le.fit_transform(data[\"Route\"])\n",
    "data[\"Violation code\"] = le.fit_transform(data[\"Violation code\"])\n",
    "data[\"Violation Description\"] = le.fit_transform(data[\"Violation Description\"])\n",
    "data[\"Location\"] = le.fit_transform(data[\"Location\"])"
   ]
  },
  {
   "cell_type": "code",
   "execution_count": 24,
   "metadata": {},
   "outputs": [],
   "source": [
    "data[\"Ticket number\"] = data[\"Ticket number\"].apply(lambda x: str(x))"
   ]
  },
  {
   "cell_type": "code",
   "execution_count": 25,
   "metadata": {},
   "outputs": [],
   "source": [
    "data[\"Ticket number\"] = le.fit_transform(data[\"Ticket number\"])"
   ]
  },
  {
   "cell_type": "code",
   "execution_count": 26,
   "metadata": {},
   "outputs": [],
   "source": [
    "data[\"Issue Date\"] = le.fit_transform(data[\"Issue Date\"])"
   ]
  },
  {
   "cell_type": "code",
   "execution_count": 41,
   "metadata": {},
   "outputs": [
    {
     "data": {
      "text/plain": [
       "Ticket number              int64\n",
       "Issue Date                 int64\n",
       "Issue time               float64\n",
       "Meter Id                   int64\n",
       "Marked Time              float64\n",
       "RP State Plate             int64\n",
       "Plate Expiry Date        float64\n",
       "VIN                        int64\n",
       "Make                      object\n",
       "Body Style                 int64\n",
       "Color                      int64\n",
       "Location                   int64\n",
       "Route                      int64\n",
       "Agency                   float64\n",
       "Violation code             int64\n",
       "Violation Description      int64\n",
       "Fine amount              float64\n",
       "Latitude                  object\n",
       "Longitude                 object\n",
       "dtype: object"
      ]
     },
     "execution_count": 41,
     "metadata": {},
     "output_type": "execute_result"
    }
   ],
   "source": [
    "data.dtypes"
   ]
  },
  {
   "cell_type": "code",
   "execution_count": 27,
   "metadata": {},
   "outputs": [],
   "source": [
    "data[\"Latitude\"] = data[\"Latitude\"].apply(lambda x: float(x))\n",
    "data[\"Longitude\"] = data[\"Longitude\"].apply(lambda x: float(x))"
   ]
  },
  {
   "cell_type": "code",
   "execution_count": 43,
   "metadata": {},
   "outputs": [
    {
     "ename": "KeyboardInterrupt",
     "evalue": "",
     "output_type": "error",
     "traceback": [
      "\u001b[0;31m---------------------------------------------------------------------------\u001b[0m",
      "\u001b[0;31mKeyboardInterrupt\u001b[0m                         Traceback (most recent call last)",
      "\u001b[0;32m<ipython-input-43-0ebbe9555601>\u001b[0m in \u001b[0;36m<module>\u001b[0;34m\u001b[0m\n\u001b[1;32m      2\u001b[0m \u001b[0;32mfor\u001b[0m \u001b[0mk\u001b[0m \u001b[0;32min\u001b[0m \u001b[0mrange\u001b[0m\u001b[0;34m(\u001b[0m\u001b[0;36m2\u001b[0m\u001b[0;34m,\u001b[0m \u001b[0;36m20\u001b[0m\u001b[0;34m)\u001b[0m\u001b[0;34m:\u001b[0m\u001b[0;34m\u001b[0m\u001b[0m\n\u001b[1;32m      3\u001b[0m     \u001b[0mkmeans\u001b[0m \u001b[0;34m=\u001b[0m \u001b[0mKMeans\u001b[0m\u001b[0;34m(\u001b[0m\u001b[0mn_clusters\u001b[0m\u001b[0;34m=\u001b[0m\u001b[0mk\u001b[0m\u001b[0;34m)\u001b[0m\u001b[0;34m\u001b[0m\u001b[0m\n\u001b[0;32m----> 4\u001b[0;31m     \u001b[0mkmeans\u001b[0m\u001b[0;34m.\u001b[0m\u001b[0mfit\u001b[0m\u001b[0;34m(\u001b[0m\u001b[0mdata\u001b[0m\u001b[0;34m[\u001b[0m\u001b[0;34m[\u001b[0m\u001b[0;34m\"Latitude\"\u001b[0m\u001b[0;34m,\u001b[0m \u001b[0;34m\"Longitude\"\u001b[0m\u001b[0;34m]\u001b[0m\u001b[0;34m]\u001b[0m\u001b[0;34m)\u001b[0m\u001b[0;34m\u001b[0m\u001b[0m\n\u001b[0m\u001b[1;32m      5\u001b[0m     \u001b[0mdistortions\u001b[0m\u001b[0;34m.\u001b[0m\u001b[0mappend\u001b[0m\u001b[0;34m(\u001b[0m\u001b[0mkmeans\u001b[0m\u001b[0;34m.\u001b[0m\u001b[0minertia_\u001b[0m\u001b[0;34m)\u001b[0m\u001b[0;34m\u001b[0m\u001b[0m\n\u001b[1;32m      6\u001b[0m \u001b[0;34m\u001b[0m\u001b[0m\n",
      "\u001b[0;32m/usr/local/lib/python3.5/dist-packages/sklearn/cluster/k_means_.py\u001b[0m in \u001b[0;36mfit\u001b[0;34m(self, X, y, sample_weight)\u001b[0m\n\u001b[1;32m    970\u001b[0m                 \u001b[0mtol\u001b[0m\u001b[0;34m=\u001b[0m\u001b[0mself\u001b[0m\u001b[0;34m.\u001b[0m\u001b[0mtol\u001b[0m\u001b[0;34m,\u001b[0m \u001b[0mrandom_state\u001b[0m\u001b[0;34m=\u001b[0m\u001b[0mrandom_state\u001b[0m\u001b[0;34m,\u001b[0m \u001b[0mcopy_x\u001b[0m\u001b[0;34m=\u001b[0m\u001b[0mself\u001b[0m\u001b[0;34m.\u001b[0m\u001b[0mcopy_x\u001b[0m\u001b[0;34m,\u001b[0m\u001b[0;34m\u001b[0m\u001b[0m\n\u001b[1;32m    971\u001b[0m                 \u001b[0mn_jobs\u001b[0m\u001b[0;34m=\u001b[0m\u001b[0mself\u001b[0m\u001b[0;34m.\u001b[0m\u001b[0mn_jobs\u001b[0m\u001b[0;34m,\u001b[0m \u001b[0malgorithm\u001b[0m\u001b[0;34m=\u001b[0m\u001b[0mself\u001b[0m\u001b[0;34m.\u001b[0m\u001b[0malgorithm\u001b[0m\u001b[0;34m,\u001b[0m\u001b[0;34m\u001b[0m\u001b[0m\n\u001b[0;32m--> 972\u001b[0;31m                 return_n_iter=True)\n\u001b[0m\u001b[1;32m    973\u001b[0m         \u001b[0;32mreturn\u001b[0m \u001b[0mself\u001b[0m\u001b[0;34m\u001b[0m\u001b[0m\n\u001b[1;32m    974\u001b[0m \u001b[0;34m\u001b[0m\u001b[0m\n",
      "\u001b[0;32m/usr/local/lib/python3.5/dist-packages/sklearn/cluster/k_means_.py\u001b[0m in \u001b[0;36mk_means\u001b[0;34m(X, n_clusters, sample_weight, init, precompute_distances, n_init, max_iter, verbose, tol, random_state, copy_x, n_jobs, algorithm, return_n_iter)\u001b[0m\n\u001b[1;32m    379\u001b[0m                 \u001b[0mverbose\u001b[0m\u001b[0;34m=\u001b[0m\u001b[0mverbose\u001b[0m\u001b[0;34m,\u001b[0m \u001b[0mprecompute_distances\u001b[0m\u001b[0;34m=\u001b[0m\u001b[0mprecompute_distances\u001b[0m\u001b[0;34m,\u001b[0m\u001b[0;34m\u001b[0m\u001b[0m\n\u001b[1;32m    380\u001b[0m                 \u001b[0mtol\u001b[0m\u001b[0;34m=\u001b[0m\u001b[0mtol\u001b[0m\u001b[0;34m,\u001b[0m \u001b[0mx_squared_norms\u001b[0m\u001b[0;34m=\u001b[0m\u001b[0mx_squared_norms\u001b[0m\u001b[0;34m,\u001b[0m\u001b[0;34m\u001b[0m\u001b[0m\n\u001b[0;32m--> 381\u001b[0;31m                 random_state=random_state)\n\u001b[0m\u001b[1;32m    382\u001b[0m             \u001b[0;31m# determine if these results are the best so far\u001b[0m\u001b[0;34m\u001b[0m\u001b[0;34m\u001b[0m\u001b[0m\n\u001b[1;32m    383\u001b[0m             \u001b[0;32mif\u001b[0m \u001b[0mbest_inertia\u001b[0m \u001b[0;32mis\u001b[0m \u001b[0;32mNone\u001b[0m \u001b[0;32mor\u001b[0m \u001b[0minertia\u001b[0m \u001b[0;34m<\u001b[0m \u001b[0mbest_inertia\u001b[0m\u001b[0;34m:\u001b[0m\u001b[0;34m\u001b[0m\u001b[0m\n",
      "\u001b[0;32m/usr/local/lib/python3.5/dist-packages/sklearn/cluster/k_means_.py\u001b[0m in \u001b[0;36m_kmeans_single_elkan\u001b[0;34m(X, sample_weight, n_clusters, max_iter, init, verbose, x_squared_norms, random_state, tol, precompute_distances)\u001b[0m\n\u001b[1;32m    435\u001b[0m     \u001b[0;31m# init\u001b[0m\u001b[0;34m\u001b[0m\u001b[0;34m\u001b[0m\u001b[0m\n\u001b[1;32m    436\u001b[0m     centers = _init_centroids(X, n_clusters, init, random_state=random_state,\n\u001b[0;32m--> 437\u001b[0;31m                               x_squared_norms=x_squared_norms)\n\u001b[0m\u001b[1;32m    438\u001b[0m     \u001b[0mcenters\u001b[0m \u001b[0;34m=\u001b[0m \u001b[0mnp\u001b[0m\u001b[0;34m.\u001b[0m\u001b[0mascontiguousarray\u001b[0m\u001b[0;34m(\u001b[0m\u001b[0mcenters\u001b[0m\u001b[0;34m)\u001b[0m\u001b[0;34m\u001b[0m\u001b[0m\n\u001b[1;32m    439\u001b[0m     \u001b[0;32mif\u001b[0m \u001b[0mverbose\u001b[0m\u001b[0;34m:\u001b[0m\u001b[0;34m\u001b[0m\u001b[0m\n",
      "\u001b[0;32m/usr/local/lib/python3.5/dist-packages/sklearn/cluster/k_means_.py\u001b[0m in \u001b[0;36m_init_centroids\u001b[0;34m(X, k, init, random_state, x_squared_norms, init_size)\u001b[0m\n\u001b[1;32m    747\u001b[0m     \u001b[0;32mif\u001b[0m \u001b[0misinstance\u001b[0m\u001b[0;34m(\u001b[0m\u001b[0minit\u001b[0m\u001b[0;34m,\u001b[0m \u001b[0mstr\u001b[0m\u001b[0;34m)\u001b[0m \u001b[0;32mand\u001b[0m \u001b[0minit\u001b[0m \u001b[0;34m==\u001b[0m \u001b[0;34m'k-means++'\u001b[0m\u001b[0;34m:\u001b[0m\u001b[0;34m\u001b[0m\u001b[0m\n\u001b[1;32m    748\u001b[0m         centers = _k_init(X, k, random_state=random_state,\n\u001b[0;32m--> 749\u001b[0;31m                           x_squared_norms=x_squared_norms)\n\u001b[0m\u001b[1;32m    750\u001b[0m     \u001b[0;32melif\u001b[0m \u001b[0misinstance\u001b[0m\u001b[0;34m(\u001b[0m\u001b[0minit\u001b[0m\u001b[0;34m,\u001b[0m \u001b[0mstr\u001b[0m\u001b[0;34m)\u001b[0m \u001b[0;32mand\u001b[0m \u001b[0minit\u001b[0m \u001b[0;34m==\u001b[0m \u001b[0;34m'random'\u001b[0m\u001b[0;34m:\u001b[0m\u001b[0;34m\u001b[0m\u001b[0m\n\u001b[1;32m    751\u001b[0m         \u001b[0mseeds\u001b[0m \u001b[0;34m=\u001b[0m \u001b[0mrandom_state\u001b[0m\u001b[0;34m.\u001b[0m\u001b[0mpermutation\u001b[0m\u001b[0;34m(\u001b[0m\u001b[0mn_samples\u001b[0m\u001b[0;34m)\u001b[0m\u001b[0;34m[\u001b[0m\u001b[0;34m:\u001b[0m\u001b[0mk\u001b[0m\u001b[0;34m]\u001b[0m\u001b[0;34m\u001b[0m\u001b[0m\n",
      "\u001b[0;32m/usr/local/lib/python3.5/dist-packages/sklearn/cluster/k_means_.py\u001b[0m in \u001b[0;36m_k_init\u001b[0;34m(X, n_clusters, x_squared_norms, random_state, n_local_trials)\u001b[0m\n\u001b[1;32m    125\u001b[0m             \u001b[0;31m# Compute potential when including center candidate\u001b[0m\u001b[0;34m\u001b[0m\u001b[0;34m\u001b[0m\u001b[0m\n\u001b[1;32m    126\u001b[0m             new_dist_sq = np.minimum(closest_dist_sq,\n\u001b[0;32m--> 127\u001b[0;31m                                      distance_to_candidates[trial])\n\u001b[0m\u001b[1;32m    128\u001b[0m             \u001b[0mnew_pot\u001b[0m \u001b[0;34m=\u001b[0m \u001b[0mnew_dist_sq\u001b[0m\u001b[0;34m.\u001b[0m\u001b[0msum\u001b[0m\u001b[0;34m(\u001b[0m\u001b[0;34m)\u001b[0m\u001b[0;34m\u001b[0m\u001b[0m\n\u001b[1;32m    129\u001b[0m \u001b[0;34m\u001b[0m\u001b[0m\n",
      "\u001b[0;31mKeyboardInterrupt\u001b[0m: "
     ]
    }
   ],
   "source": [
    "distortions = []\n",
    "for k in range(2, 20):\n",
    "    kmeans = KMeans(n_clusters=k)\n",
    "    kmeans.fit(data[[\"Latitude\", \"Longitude\"]])\n",
    "    distortions.append(kmeans.inertia_)\n",
    "\n",
    "fig = plt.figure(figsize=(15, 5))\n",
    "plt.plot(range(2, 20), distortions)\n",
    "plt.grid(True)\n",
    "plt.title('Elbow curve')\n"
   ]
  },
  {
   "cell_type": "code",
   "execution_count": 28,
   "metadata": {},
   "outputs": [],
   "source": [
    "kmeans = KMeans(n_clusters=3)\n",
    "clusters = kmeans.fit_predict(data[[\"Latitude\", \"Longitude\"]])\n",
    "data[\"crime_clusters\"] = clusters"
   ]
  },
  {
   "cell_type": "code",
   "execution_count": 139,
   "metadata": {},
   "outputs": [
    {
     "data": {
      "text/html": [
       "<div>\n",
       "<style scoped>\n",
       "    .dataframe tbody tr th:only-of-type {\n",
       "        vertical-align: middle;\n",
       "    }\n",
       "\n",
       "    .dataframe tbody tr th {\n",
       "        vertical-align: top;\n",
       "    }\n",
       "\n",
       "    .dataframe thead th {\n",
       "        text-align: right;\n",
       "    }\n",
       "</style>\n",
       "<table border=\"1\" class=\"dataframe\">\n",
       "  <thead>\n",
       "    <tr style=\"text-align: right;\">\n",
       "      <th></th>\n",
       "      <th>Ticket number</th>\n",
       "      <th>Issue Date</th>\n",
       "      <th>Issue time</th>\n",
       "      <th>Meter Id</th>\n",
       "      <th>Marked Time</th>\n",
       "      <th>RP State Plate</th>\n",
       "      <th>Plate Expiry Date</th>\n",
       "      <th>VIN</th>\n",
       "      <th>Body Style</th>\n",
       "      <th>Color</th>\n",
       "      <th>...</th>\n",
       "      <th>Route</th>\n",
       "      <th>Agency</th>\n",
       "      <th>Violation code</th>\n",
       "      <th>Violation Description</th>\n",
       "      <th>Fine amount</th>\n",
       "      <th>Latitude</th>\n",
       "      <th>Longitude</th>\n",
       "      <th>crime_clusters</th>\n",
       "      <th>total_clusters</th>\n",
       "      <th>Issue_time</th>\n",
       "    </tr>\n",
       "  </thead>\n",
       "  <tbody>\n",
       "    <tr>\n",
       "      <td>0</td>\n",
       "      <td>7914</td>\n",
       "      <td>2015-12-21T00:00:00</td>\n",
       "      <td>1251.0</td>\n",
       "      <td>NA</td>\n",
       "      <td>1040.0</td>\n",
       "      <td>CA</td>\n",
       "      <td>200304.0</td>\n",
       "      <td>NV</td>\n",
       "      <td>PA</td>\n",
       "      <td>GY</td>\n",
       "      <td>...</td>\n",
       "      <td>01521</td>\n",
       "      <td>1.0</td>\n",
       "      <td>110</td>\n",
       "      <td>NO EVIDENCE OF REG</td>\n",
       "      <td>50.0</td>\n",
       "      <td>99999</td>\n",
       "      <td>99999</td>\n",
       "      <td>2</td>\n",
       "      <td>3</td>\n",
       "      <td>1251.0</td>\n",
       "    </tr>\n",
       "    <tr>\n",
       "      <td>1</td>\n",
       "      <td>9213</td>\n",
       "      <td>2015-12-21T00:00:00</td>\n",
       "      <td>1435.0</td>\n",
       "      <td>NA</td>\n",
       "      <td>1215.5</td>\n",
       "      <td>CA</td>\n",
       "      <td>201512.0</td>\n",
       "      <td>NV</td>\n",
       "      <td>VN</td>\n",
       "      <td>WH</td>\n",
       "      <td>...</td>\n",
       "      <td>1C51</td>\n",
       "      <td>1.0</td>\n",
       "      <td>110</td>\n",
       "      <td>NO EVIDENCE OF REG</td>\n",
       "      <td>50.0</td>\n",
       "      <td>99999</td>\n",
       "      <td>99999</td>\n",
       "      <td>2</td>\n",
       "      <td>3</td>\n",
       "      <td>1435.0</td>\n",
       "    </tr>\n",
       "    <tr>\n",
       "      <td>2</td>\n",
       "      <td>12047</td>\n",
       "      <td>2015-12-21T00:00:00</td>\n",
       "      <td>2055.0</td>\n",
       "      <td>NA</td>\n",
       "      <td>1708.0</td>\n",
       "      <td>CA</td>\n",
       "      <td>201503.0</td>\n",
       "      <td>NV</td>\n",
       "      <td>PA</td>\n",
       "      <td>BK</td>\n",
       "      <td>...</td>\n",
       "      <td>2R2</td>\n",
       "      <td>2.0</td>\n",
       "      <td>286</td>\n",
       "      <td>WHITE CURB</td>\n",
       "      <td>58.0</td>\n",
       "      <td>6.44e+06</td>\n",
       "      <td>1.80269e+06</td>\n",
       "      <td>0</td>\n",
       "      <td>0</td>\n",
       "      <td>2055.0</td>\n",
       "    </tr>\n",
       "    <tr>\n",
       "      <td>3</td>\n",
       "      <td>12142</td>\n",
       "      <td>2015-12-26T00:00:00</td>\n",
       "      <td>1515.0</td>\n",
       "      <td>NA</td>\n",
       "      <td>1257.0</td>\n",
       "      <td>CA</td>\n",
       "      <td>0.0</td>\n",
       "      <td>NV</td>\n",
       "      <td>PA</td>\n",
       "      <td>WH</td>\n",
       "      <td>...</td>\n",
       "      <td>2F11</td>\n",
       "      <td>2.0</td>\n",
       "      <td>0</td>\n",
       "      <td>17104h</td>\n",
       "      <td>93.0</td>\n",
       "      <td>6.44004e+06</td>\n",
       "      <td>1.80269e+06</td>\n",
       "      <td>0</td>\n",
       "      <td>0</td>\n",
       "      <td>1515.0</td>\n",
       "    </tr>\n",
       "    <tr>\n",
       "      <td>4</td>\n",
       "      <td>17669</td>\n",
       "      <td>2015-09-15T00:00:00</td>\n",
       "      <td>115.0</td>\n",
       "      <td>NA</td>\n",
       "      <td>2315.0</td>\n",
       "      <td>CA</td>\n",
       "      <td>200316.0</td>\n",
       "      <td>NV</td>\n",
       "      <td>PA</td>\n",
       "      <td>BK</td>\n",
       "      <td>...</td>\n",
       "      <td>1FB70</td>\n",
       "      <td>1.0</td>\n",
       "      <td>216</td>\n",
       "      <td>NO STOPPING/STANDING</td>\n",
       "      <td>93.0</td>\n",
       "      <td>99999</td>\n",
       "      <td>99999</td>\n",
       "      <td>2</td>\n",
       "      <td>3</td>\n",
       "      <td>115.0</td>\n",
       "    </tr>\n",
       "  </tbody>\n",
       "</table>\n",
       "<p>5 rows × 21 columns</p>\n",
       "</div>"
      ],
      "text/plain": [
       "   Ticket number           Issue Date  Issue time Meter Id  Marked Time  \\\n",
       "0           7914  2015-12-21T00:00:00      1251.0       NA       1040.0   \n",
       "1           9213  2015-12-21T00:00:00      1435.0       NA       1215.5   \n",
       "2          12047  2015-12-21T00:00:00      2055.0       NA       1708.0   \n",
       "3          12142  2015-12-26T00:00:00      1515.0       NA       1257.0   \n",
       "4          17669  2015-09-15T00:00:00       115.0       NA       2315.0   \n",
       "\n",
       "  RP State Plate  Plate Expiry Date VIN Body Style Color  ...  Route Agency  \\\n",
       "0             CA           200304.0  NV         PA    GY  ...  01521    1.0   \n",
       "1             CA           201512.0  NV         VN    WH  ...   1C51    1.0   \n",
       "2             CA           201503.0  NV         PA    BK  ...    2R2    2.0   \n",
       "3             CA                0.0  NV         PA    WH  ...   2F11    2.0   \n",
       "4             CA           200316.0  NV         PA    BK  ...  1FB70    1.0   \n",
       "\n",
       "   Violation code  Violation Description Fine amount     Latitude  \\\n",
       "0             110     NO EVIDENCE OF REG        50.0        99999   \n",
       "1             110     NO EVIDENCE OF REG        50.0        99999   \n",
       "2             286             WHITE CURB        58.0     6.44e+06   \n",
       "3               0                 17104h        93.0  6.44004e+06   \n",
       "4             216   NO STOPPING/STANDING        93.0        99999   \n",
       "\n",
       "     Longitude crime_clusters  total_clusters  Issue_time  \n",
       "0        99999              2               3      1251.0  \n",
       "1        99999              2               3      1435.0  \n",
       "2  1.80269e+06              0               0      2055.0  \n",
       "3  1.80269e+06              0               0      1515.0  \n",
       "4        99999              2               3       115.0  \n",
       "\n",
       "[5 rows x 21 columns]"
      ]
     },
     "execution_count": 139,
     "metadata": {},
     "output_type": "execute_result"
    }
   ],
   "source": [
    "data.head()"
   ]
  },
  {
   "cell_type": "code",
   "execution_count": 29,
   "metadata": {},
   "outputs": [],
   "source": [
    "make = data[\"Make\"]\n",
    "data = data.drop([\"Make\"], axis=1)"
   ]
  },
  {
   "cell_type": "code",
   "execution_count": null,
   "metadata": {},
   "outputs": [],
   "source": [
    "distortions = []\n",
    "for k in range(2, 10):\n",
    "    kmeans = KMeans(n_clusters=k)\n",
    "    kmeans.fit(data)\n",
    "    distortions.append(kmeans.inertia_)\n",
    "\n",
    "fig = plt.figure(figsize=(15, 5))\n",
    "plt.plot(range(2, 10), distortions)\n",
    "plt.grid(True)\n",
    "plt.title('Elbow curve')\n"
   ]
  },
  {
   "cell_type": "code",
   "execution_count": 30,
   "metadata": {},
   "outputs": [],
   "source": [
    "kmeans = KMeans(n_clusters=4)\n",
    "clusters = kmeans.fit_predict(data)\n",
    "data[\"total_clusters\"] = clusters"
   ]
  },
  {
   "cell_type": "code",
   "execution_count": 31,
   "metadata": {},
   "outputs": [
    {
     "name": "stdout",
     "output_type": "stream",
     "text": [
      "0    NV\n",
      "1    NV\n",
      "2    NV\n",
      "3    NV\n",
      "4    NV\n",
      "Name: VIN, dtype: object\n",
      "0    1251.0\n",
      "1    1435.0\n",
      "2    2055.0\n",
      "3    1515.0\n",
      "4     115.0\n",
      "Name: Issue time, dtype: float64\n",
      "0    NA\n",
      "1    NA\n",
      "2    NA\n",
      "3    NA\n",
      "4    NA\n",
      "Name: Meter Id, dtype: object\n",
      "0    200304.0\n",
      "1    201512.0\n",
      "2    201503.0\n",
      "3         0.0\n",
      "4    200316.0\n",
      "Name: Plate Expiry Date, dtype: float64\n",
      "0    01521\n",
      "1     1C51\n",
      "2      2R2\n",
      "3     2F11\n",
      "4    1FB70\n",
      "Name: Route, dtype: object\n",
      "0    PA\n",
      "1    VN\n",
      "2    PA\n",
      "3    PA\n",
      "4    PA\n",
      "Name: Body Style, dtype: object\n",
      "0      NO EVIDENCE OF REG\n",
      "1      NO EVIDENCE OF REG\n",
      "2              WHITE CURB\n",
      "3                  17104h\n",
      "4    NO STOPPING/STANDING\n",
      "Name: Violation Description, dtype: object\n",
      "0    GY\n",
      "1    WH\n",
      "2    BK\n",
      "3    WH\n",
      "4    BK\n",
      "Name: Color, dtype: object\n",
      "0       13147 WELBY WAY\n",
      "1         525 S MAIN ST\n",
      "2         200 WORLD WAY\n",
      "3         100 WORLD WAY\n",
      "4    GEORGIA ST/OLYMPIC\n",
      "Name: Location, dtype: object\n",
      "0    CA\n",
      "1    CA\n",
      "2    CA\n",
      "3    CA\n",
      "4    CA\n",
      "Name: RP State Plate, dtype: object\n",
      "0    2015-12-21T00:00:00\n",
      "1    2015-12-21T00:00:00\n",
      "2    2015-12-21T00:00:00\n",
      "3    2015-12-26T00:00:00\n",
      "4    2015-09-15T00:00:00\n",
      "Name: Issue Date, dtype: object\n",
      "0          99999\n",
      "1          99999\n",
      "2       6.44e+06\n",
      "3    6.44004e+06\n",
      "4          99999\n",
      "Name: Latitude, dtype: object\n",
      "0          99999\n",
      "1          99999\n",
      "2    1.80269e+06\n",
      "3    1.80269e+06\n",
      "4          99999\n",
      "Name: Longitude, dtype: object\n"
     ]
    }
   ],
   "source": [
    "\n",
    "\n",
    "print(VIN.head())\n",
    "print(issue_time.head())\n",
    "print(meter.head())\n",
    "print(plate_exp.head())\n",
    "print(route.head())\n",
    "print(body_style.head())\n",
    "print(violation_desc.head())\n",
    "print(color.head())\n",
    "print(location.head())\n",
    "print(state_plate.head())\n",
    "print(issue_date.head())\n",
    "print(latitude.head())\n",
    "print(longitude.head())"
   ]
  },
  {
   "cell_type": "code",
   "execution_count": 32,
   "metadata": {},
   "outputs": [
    {
     "data": {
      "text/html": [
       "<div>\n",
       "<style scoped>\n",
       "    .dataframe tbody tr th:only-of-type {\n",
       "        vertical-align: middle;\n",
       "    }\n",
       "\n",
       "    .dataframe tbody tr th {\n",
       "        vertical-align: top;\n",
       "    }\n",
       "\n",
       "    .dataframe thead th {\n",
       "        text-align: right;\n",
       "    }\n",
       "</style>\n",
       "<table border=\"1\" class=\"dataframe\">\n",
       "  <thead>\n",
       "    <tr style=\"text-align: right;\">\n",
       "      <th></th>\n",
       "      <th>Ticket number</th>\n",
       "      <th>Issue Date</th>\n",
       "      <th>Issue time</th>\n",
       "      <th>Meter Id</th>\n",
       "      <th>Marked Time</th>\n",
       "      <th>RP State Plate</th>\n",
       "      <th>Plate Expiry Date</th>\n",
       "      <th>VIN</th>\n",
       "      <th>Body Style</th>\n",
       "      <th>Color</th>\n",
       "      <th>Location</th>\n",
       "      <th>Route</th>\n",
       "      <th>Agency</th>\n",
       "      <th>Violation code</th>\n",
       "      <th>Violation Description</th>\n",
       "      <th>Fine amount</th>\n",
       "      <th>Latitude</th>\n",
       "      <th>Longitude</th>\n",
       "      <th>crime_clusters</th>\n",
       "      <th>total_clusters</th>\n",
       "    </tr>\n",
       "  </thead>\n",
       "  <tbody>\n",
       "    <tr>\n",
       "      <td>0</td>\n",
       "      <td>7914</td>\n",
       "      <td>726</td>\n",
       "      <td>1251.0</td>\n",
       "      <td>16241</td>\n",
       "      <td>1040.0</td>\n",
       "      <td>7</td>\n",
       "      <td>200304.0</td>\n",
       "      <td>7491</td>\n",
       "      <td>107</td>\n",
       "      <td>35</td>\n",
       "      <td>249896</td>\n",
       "      <td>1105</td>\n",
       "      <td>1.0</td>\n",
       "      <td>110</td>\n",
       "      <td>661</td>\n",
       "      <td>50.0</td>\n",
       "      <td>99999.0</td>\n",
       "      <td>99999.0</td>\n",
       "      <td>1</td>\n",
       "      <td>3</td>\n",
       "    </tr>\n",
       "  </tbody>\n",
       "</table>\n",
       "</div>"
      ],
      "text/plain": [
       "   Ticket number  Issue Date  Issue time  Meter Id  Marked Time  \\\n",
       "0           7914         726      1251.0     16241       1040.0   \n",
       "\n",
       "   RP State Plate  Plate Expiry Date   VIN  Body Style  Color  Location  \\\n",
       "0               7           200304.0  7491         107     35    249896   \n",
       "\n",
       "   Route  Agency  Violation code  Violation Description  Fine amount  \\\n",
       "0   1105     1.0             110                    661         50.0   \n",
       "\n",
       "   Latitude  Longitude  crime_clusters  total_clusters  \n",
       "0   99999.0    99999.0               1               3  "
      ]
     },
     "execution_count": 32,
     "metadata": {},
     "output_type": "execute_result"
    }
   ],
   "source": [
    "data.head(1)"
   ]
  },
  {
   "cell_type": "code",
   "execution_count": 33,
   "metadata": {},
   "outputs": [],
   "source": [
    "data[\"VIN\"] = VIN\n",
    "data[\"Issue_time\"] = issue_time\n",
    "data[\"Meter Id\"] = meter\n",
    "data[\"Plate Expiry Date\"] = plate_exp\n",
    "data[\"Route\"] = route\n",
    "data[\"Body Style\"] = body_style\n",
    "data[\"Violation Description\"] = violation_desc\n",
    "data[\"Color\"] = color\n",
    "data[\"Location\"] = location\n",
    "data[\"RP State Plate\"] = state_plate\n",
    "data[\"Issue Date\"] = issue_date\n",
    "data[\"Latitude\"] = latitude\n",
    "data[\"Longitude\"] = longitude"
   ]
  },
  {
   "cell_type": "code",
   "execution_count": 34,
   "metadata": {},
   "outputs": [],
   "source": [
    "data[\"VIN\"] = data.groupby(\"total_clusters\")[\"VIN\"].transform(lambda x: x.fillna(x.value_counts().index[0]))"
   ]
  },
  {
   "cell_type": "code",
   "execution_count": 35,
   "metadata": {},
   "outputs": [],
   "source": [
    "data[\"Issue_time\"] = data.groupby(\"total_clusters\")[\"Issue_time\"].transform(lambda x: x.fillna(x.median()))"
   ]
  },
  {
   "cell_type": "code",
   "execution_count": 36,
   "metadata": {},
   "outputs": [],
   "source": [
    "data[\"Meter Id\"] = data.groupby(\"total_clusters\")[\"Meter Id\"].transform(lambda x: x.fillna(x.value_counts().index[0]))"
   ]
  },
  {
   "cell_type": "code",
   "execution_count": 37,
   "metadata": {},
   "outputs": [],
   "source": [
    "data[\"Plate Expiry Date\"] = data.groupby(\"total_clusters\")[\"Issue_time\"].transform(lambda x: x.fillna(x.median()))"
   ]
  },
  {
   "cell_type": "code",
   "execution_count": 38,
   "metadata": {},
   "outputs": [],
   "source": [
    "data[\"Route\"] = data.groupby(\"total_clusters\")[\"Route\"].transform(lambda x: x.fillna(x.value_counts().index[0]))"
   ]
  },
  {
   "cell_type": "code",
   "execution_count": 39,
   "metadata": {},
   "outputs": [],
   "source": [
    "data[\"Body Style\"] = data.groupby(\"total_clusters\")[\"Body Style\"].transform(lambda x: x.fillna(x.value_counts().index[0]))"
   ]
  },
  {
   "cell_type": "code",
   "execution_count": 40,
   "metadata": {},
   "outputs": [],
   "source": [
    "data[\"Violation Description\"] = data.groupby(\"total_clusters\")[\"Violation Description\"].transform(lambda x: x.fillna(x.value_counts().index[0]))"
   ]
  },
  {
   "cell_type": "code",
   "execution_count": 41,
   "metadata": {},
   "outputs": [],
   "source": [
    "data[\"Color\"] = data.groupby(\"total_clusters\")[\"Color\"].transform(lambda x: x.fillna(x.value_counts().index[0]))"
   ]
  },
  {
   "cell_type": "code",
   "execution_count": 42,
   "metadata": {},
   "outputs": [],
   "source": [
    "data[\"Location\"] = data.groupby(\"total_clusters\")[\"Location\"].transform(lambda x: x.fillna(x.value_counts().index[0]))"
   ]
  },
  {
   "cell_type": "code",
   "execution_count": 43,
   "metadata": {},
   "outputs": [],
   "source": [
    "data[\"RP State Plate\"] = data.groupby(\"total_clusters\")[\"RP State Plate\"].transform(lambda x: x.fillna(x.value_counts().index[0]))"
   ]
  },
  {
   "cell_type": "code",
   "execution_count": 44,
   "metadata": {},
   "outputs": [],
   "source": [
    "data[\"Issue Date\"] = data.groupby(\"total_clusters\")[\"Issue Date\"].transform(lambda x: x.fillna(x.value_counts().index[0]))"
   ]
  },
  {
   "cell_type": "code",
   "execution_count": 45,
   "metadata": {},
   "outputs": [],
   "source": [
    "data[\"Latitude\"] = data.groupby(\"total_clusters\")[\"Latitude\"].transform(lambda x: x.fillna(x.value_counts().index[0]))"
   ]
  },
  {
   "cell_type": "code",
   "execution_count": 46,
   "metadata": {},
   "outputs": [],
   "source": [
    "data[\"Longitude\"] = data.groupby(\"total_clusters\")[\"Longitude\"].transform(lambda x: x.fillna(x.value_counts().index[0]))"
   ]
  },
  {
   "cell_type": "code",
   "execution_count": 47,
   "metadata": {},
   "outputs": [
    {
     "data": {
      "text/html": [
       "<div>\n",
       "<style scoped>\n",
       "    .dataframe tbody tr th:only-of-type {\n",
       "        vertical-align: middle;\n",
       "    }\n",
       "\n",
       "    .dataframe tbody tr th {\n",
       "        vertical-align: top;\n",
       "    }\n",
       "\n",
       "    .dataframe thead th {\n",
       "        text-align: right;\n",
       "    }\n",
       "</style>\n",
       "<table border=\"1\" class=\"dataframe\">\n",
       "  <thead>\n",
       "    <tr style=\"text-align: right;\">\n",
       "      <th></th>\n",
       "      <th>Missing Values</th>\n",
       "      <th>% of Total Values</th>\n",
       "    </tr>\n",
       "  </thead>\n",
       "  <tbody>\n",
       "  </tbody>\n",
       "</table>\n",
       "</div>"
      ],
      "text/plain": [
       "Empty DataFrame\n",
       "Columns: [Missing Values, % of Total Values]\n",
       "Index: []"
      ]
     },
     "execution_count": 47,
     "metadata": {},
     "output_type": "execute_result"
    }
   ],
   "source": [
    "missing_values_table(data)"
   ]
  },
  {
   "cell_type": "code",
   "execution_count": 48,
   "metadata": {},
   "outputs": [
    {
     "data": {
      "text/plain": [
       "Ticket number              int64\n",
       "Issue Date                object\n",
       "Issue time               float64\n",
       "Meter Id                  object\n",
       "Marked Time              float64\n",
       "RP State Plate            object\n",
       "Plate Expiry Date        float64\n",
       "VIN                       object\n",
       "Body Style                object\n",
       "Color                     object\n",
       "Location                  object\n",
       "Route                     object\n",
       "Agency                   float64\n",
       "Violation code             int64\n",
       "Violation Description     object\n",
       "Fine amount              float64\n",
       "Latitude                  object\n",
       "Longitude                 object\n",
       "crime_clusters             int32\n",
       "total_clusters             int32\n",
       "Issue_time               float64\n",
       "dtype: object"
      ]
     },
     "execution_count": 48,
     "metadata": {},
     "output_type": "execute_result"
    }
   ],
   "source": [
    "data.dtypes"
   ]
  },
  {
   "cell_type": "code",
   "execution_count": 49,
   "metadata": {},
   "outputs": [],
   "source": [
    "data[\"Issue Date\"] = le.fit_transform(data[\"Issue Date\"])"
   ]
  },
  {
   "cell_type": "code",
   "execution_count": 50,
   "metadata": {},
   "outputs": [],
   "source": [
    "data[\"Meter Id\"] = le.fit_transform(data[\"Meter Id\"])"
   ]
  },
  {
   "cell_type": "code",
   "execution_count": 51,
   "metadata": {},
   "outputs": [],
   "source": [
    "data[\"RP State Plate\"] = le.fit_transform(data[\"RP State Plate\"])"
   ]
  },
  {
   "cell_type": "code",
   "execution_count": 52,
   "metadata": {},
   "outputs": [],
   "source": [
    "data[\"VIN\"] = le.fit_transform(data[\"VIN\"])"
   ]
  },
  {
   "cell_type": "code",
   "execution_count": 53,
   "metadata": {},
   "outputs": [],
   "source": [
    "data['Body Style'] = le.fit_transform(data[\"Body Style\"])"
   ]
  },
  {
   "cell_type": "code",
   "execution_count": 54,
   "metadata": {},
   "outputs": [],
   "source": [
    "data[\"Color\"] = le.fit_transform(data[\"Color\"])"
   ]
  },
  {
   "cell_type": "code",
   "execution_count": 55,
   "metadata": {},
   "outputs": [],
   "source": [
    "data[\"Location\"] = le.fit_transform(data[\"Location\"])"
   ]
  },
  {
   "cell_type": "code",
   "execution_count": 56,
   "metadata": {},
   "outputs": [],
   "source": [
    "data[\"Route\"] = le.fit_transform(data[\"Route\"])"
   ]
  },
  {
   "cell_type": "code",
   "execution_count": 57,
   "metadata": {},
   "outputs": [],
   "source": [
    "data[\"Violation Description\"] = le.fit_transform(data[\"Violation Description\"])"
   ]
  },
  {
   "cell_type": "code",
   "execution_count": 60,
   "metadata": {},
   "outputs": [
    {
     "data": {
      "text/plain": [
       "796"
      ]
     },
     "execution_count": 60,
     "metadata": {},
     "output_type": "execute_result"
    }
   ],
   "source": [
    "data[\"Violation Description\"].nunique()"
   ]
  },
  {
   "cell_type": "code",
   "execution_count": 58,
   "metadata": {},
   "outputs": [],
   "source": [
    "data[\"Latitude\"] = data[\"Latitude\"].apply(lambda x: float(x))\n",
    "data[\"Longitude\"] = data[\"Longitude\"].apply(lambda x: float(x))"
   ]
  },
  {
   "cell_type": "code",
   "execution_count": 61,
   "metadata": {},
   "outputs": [],
   "source": [
    "data[\"Make\"] = make"
   ]
  },
  {
   "cell_type": "code",
   "execution_count": 62,
   "metadata": {},
   "outputs": [],
   "source": [
    "data.to_pickle(\"./data/label_encoded_data\")"
   ]
  },
  {
   "cell_type": "code",
   "execution_count": 63,
   "metadata": {},
   "outputs": [],
   "source": [
    "#data[\"Make\"] = make\n",
    "train = data[data[\"Make\"].isna()==False]\n",
    "test = data[data[\"Make\"].isna()==True]"
   ]
  },
  {
   "cell_type": "code",
   "execution_count": 64,
   "metadata": {},
   "outputs": [],
   "source": [
    "cars = train[\"Make\"].value_counts().nlargest(25)"
   ]
  },
  {
   "cell_type": "code",
   "execution_count": 65,
   "metadata": {},
   "outputs": [
    {
     "name": "stdout",
     "output_type": "stream",
     "text": [
      "4357544\n",
      "4357544\n"
     ]
    }
   ],
   "source": [
    "y = []\n",
    "for x in train[\"Make\"]:\n",
    "    if x in cars.index:\n",
    "        y.append(1)\n",
    "    else:\n",
    "        y.append(0)\n",
    "print(len(y))\n",
    "print(len(train))"
   ]
  },
  {
   "cell_type": "code",
   "execution_count": 66,
   "metadata": {},
   "outputs": [],
   "source": [
    "train = train.drop([\"Make\"], axis=1)\n",
    "test = test.drop([\"Make\"], axis=1)\n",
    "#train[\"target\"] = y"
   ]
  },
  {
   "cell_type": "code",
   "execution_count": 67,
   "metadata": {},
   "outputs": [
    {
     "data": {
      "text/plain": [
       "Ticket number              int64\n",
       "Issue Date                 int64\n",
       "Issue time               float64\n",
       "Meter Id                   int64\n",
       "Marked Time              float64\n",
       "RP State Plate             int64\n",
       "Plate Expiry Date        float64\n",
       "VIN                        int64\n",
       "Body Style                 int64\n",
       "Color                      int64\n",
       "Location                   int64\n",
       "Route                      int64\n",
       "Agency                   float64\n",
       "Violation code             int64\n",
       "Violation Description      int64\n",
       "Fine amount              float64\n",
       "Latitude                 float64\n",
       "Longitude                float64\n",
       "crime_clusters             int32\n",
       "total_clusters             int32\n",
       "Issue_time               float64\n",
       "dtype: object"
      ]
     },
     "execution_count": 67,
     "metadata": {},
     "output_type": "execute_result"
    }
   ],
   "source": [
    "train.dtypes"
   ]
  },
  {
   "cell_type": "code",
   "execution_count": 68,
   "metadata": {},
   "outputs": [],
   "source": [
    "cat = ce.TargetEncoder(cols=['Ticket number', 'Meter Id', 'RP State Plate', 'VIN', 'Body Style', 'Color', 'Location', 'Route', 'Violation code', 'Violation Description'], return_df=True)"
   ]
  },
  {
   "cell_type": "code",
   "execution_count": null,
   "metadata": {},
   "outputs": [],
   "source": []
  },
  {
   "cell_type": "code",
   "execution_count": 69,
   "metadata": {},
   "outputs": [
    {
     "data": {
      "text/plain": [
       "TargetEncoder(cols=['Ticket number', 'Meter Id', 'RP State Plate', 'VIN',\n",
       "                    'Body Style', 'Color', 'Location', 'Route',\n",
       "                    'Violation code', 'Violation Description'],\n",
       "              drop_invariant=False, handle_missing='value',\n",
       "              handle_unknown='value', min_samples_leaf=1, return_df=True,\n",
       "              smoothing=1.0, verbose=0)"
      ]
     },
     "execution_count": 69,
     "metadata": {},
     "output_type": "execute_result"
    }
   ],
   "source": [
    "cat.fit(train,y)"
   ]
  },
  {
   "cell_type": "code",
   "execution_count": 70,
   "metadata": {},
   "outputs": [],
   "source": [
    "train = cat.transform(train)"
   ]
  },
  {
   "cell_type": "code",
   "execution_count": 71,
   "metadata": {},
   "outputs": [],
   "source": [
    "test = cat.transform(test)"
   ]
  },
  {
   "cell_type": "code",
   "execution_count": 76,
   "metadata": {},
   "outputs": [
    {
     "ename": "AttributeError",
     "evalue": "'list' object has no attribute 'to_pickle'",
     "output_type": "error",
     "traceback": [
      "\u001b[0;31m---------------------------------------------------------------------------\u001b[0m",
      "\u001b[0;31mAttributeError\u001b[0m                            Traceback (most recent call last)",
      "\u001b[0;32m<ipython-input-76-da993dc08c58>\u001b[0m in \u001b[0;36m<module>\u001b[0;34m\u001b[0m\n\u001b[1;32m      1\u001b[0m \u001b[0mtrain\u001b[0m\u001b[0;34m.\u001b[0m\u001b[0mto_pickle\u001b[0m\u001b[0;34m(\u001b[0m\u001b[0;34m'./data/mean_train.pkl'\u001b[0m\u001b[0;34m)\u001b[0m\u001b[0;34m\u001b[0m\u001b[0m\n\u001b[1;32m      2\u001b[0m \u001b[0mtest\u001b[0m\u001b[0;34m.\u001b[0m\u001b[0mto_pickle\u001b[0m\u001b[0;34m(\u001b[0m\u001b[0;34m'./data/mean_test.pkl'\u001b[0m\u001b[0;34m)\u001b[0m\u001b[0;34m\u001b[0m\u001b[0m\n\u001b[0;32m----> 3\u001b[0;31m \u001b[0my\u001b[0m\u001b[0;34m.\u001b[0m\u001b[0mto_pickle\u001b[0m\u001b[0;34m(\u001b[0m\u001b[0;34m'./data/y.pkl'\u001b[0m\u001b[0;34m)\u001b[0m\u001b[0;34m\u001b[0m\u001b[0m\n\u001b[0m",
      "\u001b[0;31mAttributeError\u001b[0m: 'list' object has no attribute 'to_pickle'"
     ]
    }
   ],
   "source": [
    "train.to_pickle('./data/mean_train.pkl')\n",
    "test.to_pickle('./data/mean_test.pkl')"
   ]
  }
 ],
 "metadata": {
  "kernelspec": {
   "display_name": "Python 3",
   "language": "python",
   "name": "python3"
  },
  "language_info": {
   "codemirror_mode": {
    "name": "ipython",
    "version": 3
   },
   "file_extension": ".py",
   "mimetype": "text/x-python",
   "name": "python",
   "nbconvert_exporter": "python",
   "pygments_lexer": "ipython3",
   "version": "3.5.3"
  }
 },
 "nbformat": 4,
 "nbformat_minor": 4
}
